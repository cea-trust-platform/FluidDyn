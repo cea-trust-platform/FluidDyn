{
 "cells": [
  {
   "cell_type": "markdown",
   "id": "f7035c1e-5e43-429e-b993-225ceb6c44d2",
   "metadata": {
    "tags": []
   },
   "source": [
    "# Test de la nouvelle classe TimeProblem"
   ]
  },
  {
   "cell_type": "code",
   "execution_count": 1,
   "id": "a97f36ba-8d62-414f-9673-8babdd593d44",
   "metadata": {},
   "outputs": [],
   "source": [
    "import sys\n",
    "import os\n",
    "\n",
    "lib_path = os.path.realpath(os.path.join(os.getcwd(), \"..\"))\n",
    "if lib_path not in sys.path:\n",
    "    sys.path = [lib_path] + sys.path\n",
    "savefig_path = os.path.join(lib_path, \"figures/\")\n",
    "save_fig = False"
   ]
  },
  {
   "cell_type": "code",
   "execution_count": 2,
   "id": "18a523e8-f917-47df-813a-b1caea1511ba",
   "metadata": {},
   "outputs": [],
   "source": [
    "from src.main_discontinu import *\n",
    "from src.plot_fields import *\n",
    "from src.time_problem import *\n",
    "\n",
    "%matplotlib inline\n",
    "rc(\"figure\", figsize=(10, 5))\n",
    "rc(\"figure\", dpi=100)\n",
    "rc(\"font\", size=18)\n",
    "rc(\"legend\", fontsize=16)\n",
    "rc(\"text.latex\", preamble=r\"\\usepackage{siunitx}\")"
   ]
  },
  {
   "cell_type": "markdown",
   "id": "9f0df0dd-624b-41e5-9fb6-2e449dd75475",
   "metadata": {},
   "source": [
    "## Test des 3 opérateurs à maillage constant\n",
    "\n",
    "Ici on va réaliser une simulation sans diffusion pour différentes écritures de notre équation thermique.\n",
    "\n",
    "La résolution se fait à chaque fois en WENO avec Euler explicite en temps."
   ]
  },
  {
   "cell_type": "code",
   "execution_count": 3,
   "id": "e9388861",
   "metadata": {},
   "outputs": [],
   "source": [
    "n_lim = 10**8\n",
    "t_fin_lim = 0.01"
   ]
  },
  {
   "cell_type": "code",
   "execution_count": 4,
   "id": "2cf88d33-cb27-4f28-8811-d7e07d8adb05",
   "metadata": {},
   "outputs": [],
   "source": [
    "# d = 6./100*Delta/2.\n",
    "dx = 3.9 * 10**-5\n",
    "phy_prop_conv = PhysicalProperties(\n",
    "    Delta=0.02,\n",
    "    v=0.2,\n",
    "    dS=0.005**2,\n",
    "    lda1=5.5 * 10**-2,\n",
    "    lda2=15.5,\n",
    "    rho_cp1=70278.0,\n",
    "    rho_cp2=702780.0,\n",
    "    diff=1.0,\n",
    "    alpha=0.06,\n",
    "    a_i=357.0,\n",
    ")\n",
    "phy_prop_no_conv = PhysicalProperties(\n",
    "    Delta=0.02,\n",
    "    v=0.0,\n",
    "    dS=0.005**2,\n",
    "    lda1=5.5 * 10**-2,\n",
    "    lda2=15.5,\n",
    "    rho_cp1=70278.0,\n",
    "    rho_cp2=702780.0,\n",
    "    diff=1.0,\n",
    "    alpha=0.2,\n",
    "    a_i=357.0,\n",
    ")\n",
    "num_prop_weno = NumericalProperties(\n",
    "    dx=dx, schema=\"weno\", time_scheme=\"rk3\", phy_prop=phy_prop_conv, cfl=0.5\n",
    ")\n",
    "num_prop_quick = NumericalProperties(\n",
    "    dx=dx, schema=\"quick\", time_scheme=\"rk3\", phy_prop=phy_prop_conv, cfl=0.5\n",
    ")\n",
    "num_prop_upwind = NumericalProperties(\n",
    "    dx=dx, schema=\"upwind\", time_scheme=\"rk3\", phy_prop=phy_prop_conv, cfl=0.5\n",
    ")\n",
    "# markers = Bulles(phy_prop=phy_prop_conv, x=num_prop.x, n_bulle=1)\n",
    "markers = Bulles(phy_prop=phy_prop_conv, n_bulle=1)"
   ]
  },
  {
   "cell_type": "code",
   "execution_count": 5,
   "id": "994cb9d1",
   "metadata": {},
   "outputs": [
    {
     "ename": "TypeError",
     "evalue": "object.__init__() takes no parameters",
     "output_type": "error",
     "traceback": [
      "\u001b[0;31m---------------------------------------------------------------------------\u001b[0m",
      "\u001b[0;31mTypeError\u001b[0m                                 Traceback (most recent call last)",
      "\u001b[0;32m<ipython-input-5-68ab9b13f0e4>\u001b[0m in \u001b[0;36m<module>\u001b[0;34m\u001b[0m\n\u001b[1;32m      2\u001b[0m \u001b[0;34m\u001b[0m\u001b[0m\n\u001b[1;32m      3\u001b[0m prob_clean_weno = TimeProblem(\n\u001b[0;32m----> 4\u001b[0;31m     \u001b[0mget_T\u001b[0m\u001b[0;34m,\u001b[0m \u001b[0mmarkers\u001b[0m\u001b[0;34m=\u001b[0m\u001b[0mmarkers\u001b[0m\u001b[0;34m,\u001b[0m \u001b[0mphy_prop\u001b[0m\u001b[0;34m=\u001b[0m\u001b[0mphy_prop_conv\u001b[0m\u001b[0;34m,\u001b[0m \u001b[0mnum_prop\u001b[0m\u001b[0;34m=\u001b[0m\u001b[0mnum_prop_weno\u001b[0m\u001b[0;34m\u001b[0m\u001b[0;34m\u001b[0m\u001b[0m\n\u001b[0m\u001b[1;32m      5\u001b[0m )\n\u001b[1;32m      6\u001b[0m t, e = prob_clean_weno.timestep(\n",
      "\u001b[0;32m~/PycharmProjects/FluidDyn1D/src/time_problem.py\u001b[0m in \u001b[0;36m__init__\u001b[0;34m(self, problem_state, stat, plotter, *args, **kwargs)\u001b[0m\n\u001b[1;32m     29\u001b[0m \u001b[0;34m\u001b[0m\u001b[0m\n\u001b[1;32m     30\u001b[0m     \u001b[0;32mdef\u001b[0m \u001b[0m__init__\u001b[0m\u001b[0;34m(\u001b[0m\u001b[0mself\u001b[0m\u001b[0;34m,\u001b[0m \u001b[0mproblem_state\u001b[0m\u001b[0;34m=\u001b[0m\u001b[0;32mNone\u001b[0m\u001b[0;34m,\u001b[0m \u001b[0mstat\u001b[0m\u001b[0;34m=\u001b[0m\u001b[0;32mNone\u001b[0m\u001b[0;34m,\u001b[0m \u001b[0mplotter\u001b[0m\u001b[0;34m=\u001b[0m\u001b[0;32mNone\u001b[0m\u001b[0;34m,\u001b[0m \u001b[0;34m*\u001b[0m\u001b[0margs\u001b[0m\u001b[0;34m,\u001b[0m \u001b[0;34m**\u001b[0m\u001b[0mkwargs\u001b[0m\u001b[0;34m)\u001b[0m\u001b[0;34m:\u001b[0m\u001b[0;34m\u001b[0m\u001b[0;34m\u001b[0m\u001b[0m\n\u001b[0;32m---> 31\u001b[0;31m         \u001b[0msuper\u001b[0m\u001b[0;34m(\u001b[0m\u001b[0;34m)\u001b[0m\u001b[0;34m.\u001b[0m\u001b[0m__init__\u001b[0m\u001b[0;34m(\u001b[0m\u001b[0;34m*\u001b[0m\u001b[0margs\u001b[0m\u001b[0;34m,\u001b[0m \u001b[0;34m**\u001b[0m\u001b[0mkwargs\u001b[0m\u001b[0;34m)\u001b[0m\u001b[0;34m\u001b[0m\u001b[0;34m\u001b[0m\u001b[0m\n\u001b[0m\u001b[1;32m     32\u001b[0m         \u001b[0;32mif\u001b[0m \u001b[0mproblem_state\u001b[0m \u001b[0;32mis\u001b[0m \u001b[0;32mNone\u001b[0m\u001b[0;34m:\u001b[0m\u001b[0;34m\u001b[0m\u001b[0;34m\u001b[0m\u001b[0m\n\u001b[1;32m     33\u001b[0m             \u001b[0mproblem_state\u001b[0m \u001b[0;34m=\u001b[0m \u001b[0mStateProblem\u001b[0m\u001b[0;34m(\u001b[0m\u001b[0;34m*\u001b[0m\u001b[0margs\u001b[0m\u001b[0;34m,\u001b[0m \u001b[0;34m**\u001b[0m\u001b[0mkwargs\u001b[0m\u001b[0;34m)\u001b[0m\u001b[0;34m\u001b[0m\u001b[0;34m\u001b[0m\u001b[0m\n",
      "\u001b[0;31mTypeError\u001b[0m: object.__init__() takes no parameters"
     ]
    }
   ],
   "source": [
    "t_fin = 0.1\n",
    "\n",
    "prob_clean_weno = TimeProblem(\n",
    "    get_T, markers=markers, phy_prop=phy_prop_conv, num_prop=num_prop_weno\n",
    ")\n",
    "t, e = prob_clean_weno.timestep(\n",
    "    t_fin=min(t_fin, t_fin_lim), n=n_lim, number_of_plots=1, plotter=Plotter('decale', ispretty=True),\n",
    ")"
   ]
  },
  {
   "cell_type": "code",
   "execution_count": null,
   "id": "07afe94c-beec-4106-b374-5361d2dc07cd",
   "metadata": {},
   "outputs": [],
   "source": []
  }
 ],
 "metadata": {
  "kernelspec": {
   "display_name": "venv-flu1d",
   "language": "python",
   "name": "venv-flu1d"
  },
  "language_info": {
   "codemirror_mode": {
    "name": "ipython",
    "version": 3
   },
   "file_extension": ".py",
   "mimetype": "text/x-python",
   "name": "python",
   "nbconvert_exporter": "python",
   "pygments_lexer": "ipython3",
   "version": "3.6.9"
  },
  "widgets": {
   "application/vnd.jupyter.widget-state+json": {
    "state": {},
    "version_major": 2,
    "version_minor": 0
   }
  }
 },
 "nbformat": 4,
 "nbformat_minor": 5
}
