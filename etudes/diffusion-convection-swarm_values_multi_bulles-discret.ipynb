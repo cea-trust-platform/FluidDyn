{
 "cells": [
  {
   "cell_type": "markdown",
   "id": "ff85bb10",
   "metadata": {
    "tags": []
   },
   "source": [
    "# Test de l'opérateur ProblemDiscontinu"
   ]
  },
  {
   "cell_type": "code",
   "execution_count": 1,
   "id": "e49fd762-a10b-480b-a7f0-42f77b843c13",
   "metadata": {},
   "outputs": [],
   "source": [
    "import sys\n",
    "\n",
    "sys.path = ['/home/as259691/PycharmProjects/FluidDyn1D'] + sys.path"
   ]
  },
  {
   "cell_type": "code",
   "execution_count": 2,
   "id": "2ffdef2c-8113-431a-83f2-31a80cc46285",
   "metadata": {},
   "outputs": [],
   "source": [
    "from src.main_discontinu import *\n",
    "from src.plot_fields import *\n",
    "\n",
    "%matplotlib widget\n",
    "rc('figure', figsize=(10,5))\n",
    "rc('figure', dpi=100)"
   ]
  },
  {
   "cell_type": "markdown",
   "id": "de8be792",
   "metadata": {},
   "source": [
    "## Paramètres de la simulation\n",
    "\n",
    "Ici on va réaliser une simulation sans diffusion pour différentes écritures de notre équation thermique.\n",
    "\n",
    "La résolution se fait à chaque fois en WENO avec Euler explicite en temps."
   ]
  },
  {
   "cell_type": "code",
   "execution_count": 3,
   "id": "5651e4e6-e709-403e-ae3c-f712bd64fe1d",
   "metadata": {},
   "outputs": [
    {
     "name": "stdout",
     "output_type": "stream",
     "text": [
      "initialisation des indices des cellules des marqueurs\n"
     ]
    }
   ],
   "source": [
    "# d = 6./100*Delta/2.\n",
    "phy_prop = PhysicalProperties(Delta=0.02, v=0., dS=0.005**2,\n",
    "                              lda1=5.5*10**-2, lda2=15.5, rho_cp1=70278., rho_cp2=702780., diff=1.,\n",
    "                              alpha=0.06, a_i=357.)\n",
    "num_prop = NumericalProperties(dx=3.9*10**-5, schema='upwind', time_scheme='euler', phy_prop=phy_prop, cfl=0.5)\n",
    "markers = BulleTemperature(phy_prop=phy_prop, x=num_prop.x, n_bulle=1)\n",
    "markers.shift(0.00001)\n",
    "markers.set_indices_markers(num_prop.x)\n",
    "# markers = Bulles(phy_prop=phy_prop)\n",
    "\n",
    "n = 20000\n",
    "t_fin = 0.2"
   ]
  },
  {
   "cell_type": "code",
   "execution_count": 4,
   "id": "994cb9d1",
   "metadata": {},
   "outputs": [
    {
     "name": "stdout",
     "output_type": "stream",
     "text": [
      "\n",
      "dt fourier\n",
      "6.918433404737903e-06\n",
      "Cas : diffusion, euler, upwind, dx = 3.90625e-05, dt = 6.91843e-06\n",
      "==========================\n"
     ]
    },
    {
     "data": {
      "application/vnd.jupyter.widget-view+json": {
       "model_id": "c12a80fcf4ae4a849d27712d6a734cc9",
       "version_major": 2,
       "version_minor": 0
      },
      "text/plain": [
       "Canvas(toolbar=Toolbar(toolitems=[('Home', 'Reset original view', 'home', 'home'), ('Back', 'Back to previous …"
      ]
     },
     "metadata": {},
     "output_type": "display_data"
    },
    {
     "data": {
      "application/vnd.jupyter.widget-view+json": {
       "model_id": "71e316e37848435ca4d358de8eda3107",
       "version_major": 2,
       "version_minor": 0
      },
      "text/plain": [
       "Canvas(toolbar=Toolbar(toolitems=[('Home', 'Reset original view', 'home', 'home'), ('Back', 'Back to previous …"
      ]
     },
     "metadata": {},
     "output_type": "display_data"
    },
    {
     "name": "stdout",
     "output_type": "stream",
     "text": [
      "dE*/dt* = 3.24564e-18\n"
     ]
    }
   ],
   "source": [
    "print()\n",
    "prob = ProblemDiscontinu(get_T_creneau, markers=markers, phy_prop=phy_prop, num_prop=num_prop, interp_type='Ti')\n",
    "E0 = prob.energy\n",
    "print(prob.name)\n",
    "print('==========================')\n",
    "plot = Plotter('classic')\n",
    "t, e = prob.timestep(t_fin=t_fin, n=n, number_of_plots=1, plotter=plot)\n",
    "\n",
    "fig1,ax1 = plt.subplots(1)\n",
    "ax1.set_title('Énergie en fonction du temps')\n",
    "l = ax1.plot(t, e/(0.02*0.005*0.005), label=prob.name)\n",
    "le = fig1.legend()\n",
    "\n",
    "# plot.ax.plot(prob.bulles.markers.flatten(), prob.bulles.T.flatten(), 'r+')\n",
    "# plot.ax.plot(prob.bulles.markers.flatten(), prob.bulles.Tg.flatten(), 'g+')\n",
    "# plot.ax.plot(prob.bulles.markers.flatten(), prob.bulles.Td.flatten(), 'b+')\n",
    "\n",
    "n = len(e)\n",
    "i0 = int(n/5)\n",
    "dedt_adim = (e[-1] - e[i0]) / (t[-1] - t[i0]) * prob.dt / E0  # on a mult\n",
    "# par Dt / rho_cp_l T_l V\n",
    "print('dE*/dt* = %g' % dedt_adim)"
   ]
  },
  {
   "cell_type": "code",
   "execution_count": 14,
   "id": "753e0db2-2929-4ea0-a5fa-6435884c7665",
   "metadata": {},
   "outputs": [
    {
     "name": "stdout",
     "output_type": "stream",
     "text": [
      "\n",
      "dt fourier\n",
      "6.918433404737903e-06\n",
      "Cas : convection, euler, upwind, dx = 3.90625e-05, cfl = 0.0354224\n",
      "==========================\n"
     ]
    },
    {
     "data": {
      "application/vnd.jupyter.widget-view+json": {
       "model_id": "6555ca15f1994fecb6b0c12ab7949d9b",
       "version_major": 2,
       "version_minor": 0
      },
      "text/plain": [
       "Canvas(toolbar=Toolbar(toolitems=[('Home', 'Reset original view', 'home', 'home'), ('Back', 'Back to previous …"
      ]
     },
     "metadata": {},
     "output_type": "display_data"
    },
    {
     "data": {
      "application/vnd.jupyter.widget-view+json": {
       "model_id": "7ec8c6fef19b462e9b6fcdb638b33a17",
       "version_major": 2,
       "version_minor": 0
      },
      "text/plain": [
       "Canvas(toolbar=Toolbar(toolitems=[('Home', 'Reset original view', 'home', 'home'), ('Back', 'Back to previous …"
      ]
     },
     "metadata": {},
     "output_type": "display_data"
    },
    {
     "name": "stdout",
     "output_type": "stream",
     "text": [
      "dE*/dt* = 3.20547e-08\n"
     ]
    }
   ],
   "source": [
    "print()\n",
    "prob = ProblemDiscontinu(get_T, markers=markers, phy_prop=phy_prop, num_prop=num_prop, interp_type='gradTi')\n",
    "E0 = prob.energy\n",
    "print(prob.name)\n",
    "print('==========================')\n",
    "plot = Plotter('classic')\n",
    "t, e = prob.timestep(n=30, number_of_plots=2, plotter=plot)\n",
    "\n",
    "fig1,ax1 = plt.subplots(1)\n",
    "ax1.set_title('Énergie en fonction du temps')\n",
    "l = ax1.plot(t, e/(0.02*0.005*0.005), label=prob.name)\n",
    "le = fig1.legend()\n",
    "\n",
    "# plot.ax.plot(prob.bulles.markers.flatten(), prob.bulles.T.flatten(), 'r+')\n",
    "# plot.ax.plot(prob.bulles.markers.flatten(), prob.bulles.Tg.flatten(), 'g+')\n",
    "# plot.ax.plot(prob.bulles.markers.flatten(), prob.bulles.Td.flatten(), 'b+')\n",
    "\n",
    "n = len(e)\n",
    "i0 = int(n/5)\n",
    "dedt_adim = (e[-1] - e[i0]) / (t[-1] - t[i0]) * prob.dt / E0  # on a mult\n",
    "# par Dt / rho_cp_l T_l V\n",
    "print('dE*/dt* = %g' % dedt_adim)"
   ]
  },
  {
   "cell_type": "markdown",
   "id": "9468a91a-1cbf-4f9a-b3b3-d87879c1cab1",
   "metadata": {},
   "source": [
    "## Test de la convection\n",
    "\n",
    "Ici on met une vitesse de convection, et on supprime artificiellement la diffusion.\n",
    "\n",
    "Pour augmenter la facilité du cas, on le réalise sur une température initiale continue."
   ]
  },
  {
   "cell_type": "code",
   "execution_count": 8,
   "id": "ac60047f-9a5a-4f0b-8b26-b7a33926b6e1",
   "metadata": {},
   "outputs": [
    {
     "name": "stdout",
     "output_type": "stream",
     "text": [
      "initialisation des indices des cellules des marqueurs\n"
     ]
    }
   ],
   "source": [
    "# d = 6./100*Delta/2.\n",
    "phy_prop = PhysicalProperties(Delta=0.02, v=0.2, dS=0.005**2,\n",
    "                              lda1=5.5*10**-2, lda2=15.5, rho_cp1=70278., rho_cp2=702780., diff=0.,\n",
    "                              alpha=0.06, a_i=357.)\n",
    "num_prop = NumericalProperties(dx=3.9*10**-5, schema='upwind', time_scheme='euler', phy_prop=phy_prop, cfl=0.5)\n",
    "markers = BulleTemperature(phy_prop=phy_prop, x=num_prop.x, n_bulle=1)\n",
    "markers.shift(0.00001)\n",
    "markers.set_indices_markers(num_prop.x)\n",
    "# markers = Bulles(phy_prop=phy_prop)\n",
    "\n",
    "n = 20000\n",
    "t_fin = 0.01"
   ]
  },
  {
   "cell_type": "code",
   "execution_count": 9,
   "id": "6c4762a8-a154-48ac-b18e-5119dfe6521f",
   "metadata": {},
   "outputs": [
    {
     "name": "stdout",
     "output_type": "stream",
     "text": [
      "\n",
      "dt fourier\n",
      "6.918433404737903e-06\n",
      "Cas : convection, euler, upwind, dx = 3.90625e-05, cfl = 0.0354224\n",
      "==========================\n"
     ]
    },
    {
     "data": {
      "application/vnd.jupyter.widget-view+json": {
       "model_id": "8b7a30c3254e46dda13b33579ae0de27",
       "version_major": 2,
       "version_minor": 0
      },
      "text/plain": [
       "Canvas(toolbar=Toolbar(toolitems=[('Home', 'Reset original view', 'home', 'home'), ('Back', 'Back to previous …"
      ]
     },
     "metadata": {},
     "output_type": "display_data"
    },
    {
     "data": {
      "application/vnd.jupyter.widget-view+json": {
       "model_id": "eb516e823fe94c4aa01c4241ec111916",
       "version_major": 2,
       "version_minor": 0
      },
      "text/plain": [
       "Canvas(toolbar=Toolbar(toolitems=[('Home', 'Reset original view', 'home', 'home'), ('Back', 'Back to previous …"
      ]
     },
     "metadata": {},
     "output_type": "display_data"
    },
    {
     "name": "stdout",
     "output_type": "stream",
     "text": [
      "dE*/dt* = -1.79414e-07\n"
     ]
    }
   ],
   "source": [
    "print()\n",
    "prob = ProblemDiscontinu(get_T, markers=markers, phy_prop=phy_prop, num_prop=num_prop, interp_type='Ti')\n",
    "E0 = prob.energy\n",
    "print(prob.name)\n",
    "print('==========================')\n",
    "plot = Plotter('decale')\n",
    "t, e = prob.timestep(t_fin=t_fin, n=n, number_of_plots=1, plotter=plot)\n",
    "\n",
    "fig1,ax1 = plt.subplots(1)\n",
    "ax1.set_title('Énergie en fonction du temps')\n",
    "l = ax1.plot(t, e/(0.02*0.005*0.005), label=prob.name)\n",
    "le = fig1.legend()\n",
    "\n",
    "# plot.ax.plot(prob.bulles.markers.flatten(), prob.bulles.T.flatten(), 'r+')\n",
    "# plot.ax.plot(prob.bulles.markers.flatten(), prob.bulles.Tg.flatten(), 'g+')\n",
    "# plot.ax.plot(prob.bulles.markers.flatten(), prob.bulles.Td.flatten(), 'b+')\n",
    "\n",
    "n = len(e)\n",
    "i0 = int(n/5)\n",
    "dedt_adim = (e[-1] - e[i0]) / (t[-1] - t[i0]) * prob.dt / E0  # on a mult\n",
    "# par Dt / rho_cp_l T_l V\n",
    "print('dE*/dt* = %g' % dedt_adim)"
   ]
  },
  {
   "cell_type": "code",
   "execution_count": null,
   "id": "a4b1a479-e08b-4e40-b900-57d0523b1865",
   "metadata": {},
   "outputs": [],
   "source": [
    "print()\n",
    "prob = ProblemDiscontinu(get_T, markers=markers, phy_prop=phy_prop, num_prop=num_prop, interp_type='gradTi')\n",
    "E0 = prob.energy\n",
    "print(prob.name)\n",
    "print('==========================')\n",
    "plot = Plotter('decale')\n",
    "t, e = prob.timestep(n=n, t_fin=t_fin, number_of_plots=1, plotter=plot)\n",
    "\n",
    "fig1,ax1 = plt.subplots(1)\n",
    "ax1.set_title('Énergie en fonction du temps')\n",
    "l = ax1.plot(t, e/(0.02*0.005*0.005), label=prob.name)\n",
    "le = fig1.legend()\n",
    "\n",
    "# plot.ax.plot(prob.bulles.markers.flatten(), prob.bulles.T.flatten(), 'r+')\n",
    "# plot.ax.plot(prob.bulles.markers.flatten(), prob.bulles.Tg.flatten(), 'g+')\n",
    "# plot.ax.plot(prob.bulles.markers.flatten(), prob.bulles.Td.flatten(), 'b+')\n",
    "\n",
    "n = len(e)\n",
    "i0 = int(n/5)\n",
    "dedt_adim = (e[-1] - e[i0]) / (t[-1] - t[i0]) * prob.dt / E0  # on a mult\n",
    "# par Dt / rho_cp_l T_l V\n",
    "print('dE*/dt* = %g' % dedt_adim)\n",
    "plt.figure()\n",
    "plt.plot(prob.num_prop.x, prob.rho_cp_a*prob.T)"
   ]
  }
 ],
 "metadata": {
  "hide_input": false,
  "kernelspec": {
   "display_name": "venv-flu1d",
   "language": "python",
   "name": "venv-flu1d"
  },
  "language_info": {
   "codemirror_mode": {
    "name": "ipython",
    "version": 3
   },
   "file_extension": ".py",
   "mimetype": "text/x-python",
   "name": "python",
   "nbconvert_exporter": "python",
   "pygments_lexer": "ipython3",
   "version": "3.6.9"
  },
  "toc": {
   "base_numbering": 1,
   "nav_menu": {},
   "number_sections": true,
   "sideBar": true,
   "skip_h1_title": false,
   "title_cell": "Table of Contents",
   "title_sidebar": "Contents",
   "toc_cell": false,
   "toc_position": {},
   "toc_section_display": true,
   "toc_window_display": false
  },
  "toc-autonumbering": true,
  "toc-showcode": false,
  "toc-showmarkdowntxt": false,
  "widgets": {
   "application/vnd.jupyter.widget-state+json": {
    "state": {
     "00d7837c2c084a4a8e4f57c74d95bc75": {
      "model_module": "jupyter-matplotlib",
      "model_module_version": "^0.9.0",
      "model_name": "ToolbarModel",
      "state": {
       "layout": "IPY_MODEL_70dac10f4ec848448a1d1914353cff87",
       "toolitems": [
        [
         "Home",
         "Reset original view",
         "home",
         "home"
        ],
        [
         "Back",
         "Back to previous view",
         "arrow-left",
         "back"
        ],
        [
         "Forward",
         "Forward to next view",
         "arrow-right",
         "forward"
        ],
        [
         "Pan",
         "Left button pans, Right button zooms\nx/y fixes axis, CTRL fixes aspect",
         "arrows",
         "pan"
        ],
        [
         "Zoom",
         "Zoom to rectangle\nx/y fixes axis, CTRL fixes aspect",
         "square-o",
         "zoom"
        ],
        [
         "Download",
         "Download plot",
         "floppy-o",
         "save_figure"
        ]
       ]
      }
     },
     "060607d58c3e4939a394c514ae9b8632": {
      "model_module": "@jupyter-widgets/base",
      "model_module_version": "1.2.0",
      "model_name": "LayoutModel",
      "state": {}
     },
     "0d76b6e835dd40c1ad3df760887f302f": {
      "model_module": "jupyter-matplotlib",
      "model_module_version": "^0.9.0",
      "model_name": "ToolbarModel",
      "state": {
       "layout": "IPY_MODEL_d95b35c928f04c0980fd5befb35d8c1a",
       "toolitems": [
        [
         "Home",
         "Reset original view",
         "home",
         "home"
        ],
        [
         "Back",
         "Back to previous view",
         "arrow-left",
         "back"
        ],
        [
         "Forward",
         "Forward to next view",
         "arrow-right",
         "forward"
        ],
        [
         "Pan",
         "Left button pans, Right button zooms\nx/y fixes axis, CTRL fixes aspect",
         "arrows",
         "pan"
        ],
        [
         "Zoom",
         "Zoom to rectangle\nx/y fixes axis, CTRL fixes aspect",
         "square-o",
         "zoom"
        ],
        [
         "Download",
         "Download plot",
         "floppy-o",
         "save_figure"
        ]
       ]
      }
     },
     "159bfde75a4343e3bdbd3844bd9649ff": {
      "model_module": "@jupyter-widgets/base",
      "model_module_version": "1.2.0",
      "model_name": "LayoutModel",
      "state": {}
     },
     "15fa7739a1ca433fb4c01fe7f9e832fc": {
      "model_module": "@jupyter-widgets/base",
      "model_module_version": "1.2.0",
      "model_name": "LayoutModel",
      "state": {}
     },
     "1a7ebdee39b34d038f8e3cbb956dec91": {
      "model_module": "jupyter-matplotlib",
      "model_module_version": "^0.9.0",
      "model_name": "MPLCanvasModel",
      "state": {
       "_cursor": "default",
       "_figure_label": "Figure 5",
       "_height": 500,
       "_message": "x= y=−3.4",
       "_width": 1000,
       "layout": "IPY_MODEL_3779fc69fcca4afebccf09f3fa789433",
       "toolbar": "IPY_MODEL_e9b11266dc2f4d2c96346b3f085c377f",
       "toolbar_position": "left"
      }
     },
     "1c9176d7b42e4f45aa47d28bee9d9701": {
      "model_module": "@jupyter-widgets/base",
      "model_module_version": "1.2.0",
      "model_name": "LayoutModel",
      "state": {}
     },
     "1d0b5e9495764dedba536c7cfd900398": {
      "model_module": "jupyter-matplotlib",
      "model_module_version": "^0.9.0",
      "model_name": "ToolbarModel",
      "state": {
       "layout": "IPY_MODEL_1f52b5744b7848daaae6239637fd2222",
       "toolitems": [
        [
         "Home",
         "Reset original view",
         "home",
         "home"
        ],
        [
         "Back",
         "Back to previous view",
         "arrow-left",
         "back"
        ],
        [
         "Forward",
         "Forward to next view",
         "arrow-right",
         "forward"
        ],
        [
         "Pan",
         "Left button pans, Right button zooms\nx/y fixes axis, CTRL fixes aspect",
         "arrows",
         "pan"
        ],
        [
         "Zoom",
         "Zoom to rectangle\nx/y fixes axis, CTRL fixes aspect",
         "square-o",
         "zoom"
        ],
        [
         "Download",
         "Download plot",
         "floppy-o",
         "save_figure"
        ]
       ]
      }
     },
     "1f52b5744b7848daaae6239637fd2222": {
      "model_module": "@jupyter-widgets/base",
      "model_module_version": "1.2.0",
      "model_name": "LayoutModel",
      "state": {}
     },
     "2418c0e9a4cf4bd3949fcb412dba6538": {
      "model_module": "@jupyter-widgets/base",
      "model_module_version": "1.2.0",
      "model_name": "LayoutModel",
      "state": {}
     },
     "286bc34e1b75431994758cd294ef9e9f": {
      "model_module": "@jupyter-widgets/base",
      "model_module_version": "1.2.0",
      "model_name": "LayoutModel",
      "state": {}
     },
     "2dedd567af5b4d3abd91941711c3253d": {
      "model_module": "jupyter-matplotlib",
      "model_module_version": "^0.9.0",
      "model_name": "MPLCanvasModel",
      "state": {
       "_cursor": "default",
       "_figure_label": "Figure 11",
       "_height": 500,
       "_width": 1000,
       "layout": "IPY_MODEL_15fa7739a1ca433fb4c01fe7f9e832fc",
       "toolbar": "IPY_MODEL_00d7837c2c084a4a8e4f57c74d95bc75",
       "toolbar_position": "left"
      }
     },
     "2f6e6bf0109b481da191984b3375c1a2": {
      "model_module": "jupyter-matplotlib",
      "model_module_version": "^0.9.0",
      "model_name": "ToolbarModel",
      "state": {
       "layout": "IPY_MODEL_a6c6234d165241738e85a40cda1baa4d",
       "toolitems": [
        [
         "Home",
         "Reset original view",
         "home",
         "home"
        ],
        [
         "Back",
         "Back to previous view",
         "arrow-left",
         "back"
        ],
        [
         "Forward",
         "Forward to next view",
         "arrow-right",
         "forward"
        ],
        [
         "Pan",
         "Left button pans, Right button zooms\nx/y fixes axis, CTRL fixes aspect",
         "arrows",
         "pan"
        ],
        [
         "Zoom",
         "Zoom to rectangle\nx/y fixes axis, CTRL fixes aspect",
         "square-o",
         "zoom"
        ],
        [
         "Download",
         "Download plot",
         "floppy-o",
         "save_figure"
        ]
       ]
      }
     },
     "3779fc69fcca4afebccf09f3fa789433": {
      "model_module": "@jupyter-widgets/base",
      "model_module_version": "1.2.0",
      "model_name": "LayoutModel",
      "state": {}
     },
     "384815720bcc4633b5b919924f8d9532": {
      "model_module": "@jupyter-widgets/base",
      "model_module_version": "1.2.0",
      "model_name": "LayoutModel",
      "state": {}
     },
     "3c34053220b140c4ad733972e0a5e3bf": {
      "model_module": "@jupyter-widgets/base",
      "model_module_version": "1.2.0",
      "model_name": "LayoutModel",
      "state": {}
     },
     "3f05689305ce41a981236bcd392280c5": {
      "model_module": "jupyter-matplotlib",
      "model_module_version": "^0.9.0",
      "model_name": "MPLCanvasModel",
      "state": {
       "_cursor": "default",
       "_figure_label": "Figure 9",
       "_height": 500,
       "_width": 1000,
       "layout": "IPY_MODEL_b21eb97274144a69abccb74f8dbd2304",
       "toolbar": "IPY_MODEL_4445278cccb04426b974223846a48aed",
       "toolbar_position": "left"
      }
     },
     "4445278cccb04426b974223846a48aed": {
      "model_module": "jupyter-matplotlib",
      "model_module_version": "^0.9.0",
      "model_name": "ToolbarModel",
      "state": {
       "layout": "IPY_MODEL_99c1684aa7884ff8bceee5afdfea83e3",
       "toolitems": [
        [
         "Home",
         "Reset original view",
         "home",
         "home"
        ],
        [
         "Back",
         "Back to previous view",
         "arrow-left",
         "back"
        ],
        [
         "Forward",
         "Forward to next view",
         "arrow-right",
         "forward"
        ],
        [
         "Pan",
         "Left button pans, Right button zooms\nx/y fixes axis, CTRL fixes aspect",
         "arrows",
         "pan"
        ],
        [
         "Zoom",
         "Zoom to rectangle\nx/y fixes axis, CTRL fixes aspect",
         "square-o",
         "zoom"
        ],
        [
         "Download",
         "Download plot",
         "floppy-o",
         "save_figure"
        ]
       ]
      }
     },
     "452c638c8f6945fbbd759a0b6c251bb0": {
      "model_module": "@jupyter-widgets/base",
      "model_module_version": "1.2.0",
      "model_name": "LayoutModel",
      "state": {}
     },
     "4bdbfcef8b1a46f09e42eaaa60e8bc91": {
      "model_module": "jupyter-matplotlib",
      "model_module_version": "^0.9.0",
      "model_name": "MPLCanvasModel",
      "state": {
       "_cursor": "default",
       "_figure_label": "Figure 14",
       "_height": 500,
       "_image_mode": "diff",
       "_message": "zoom rect",
       "_rubberband_y": 501,
       "_width": 1000,
       "layout": "IPY_MODEL_6cfbdfa6f06f497098eb70f9f4684f38",
       "toolbar": "IPY_MODEL_e1513275e2db4960931a034a896ec52e",
       "toolbar_position": "left"
      }
     },
     "50522ae7599e4eafae706a264799f19e": {
      "model_module": "@jupyter-widgets/base",
      "model_module_version": "1.2.0",
      "model_name": "LayoutModel",
      "state": {}
     },
     "57b643b4b87d43c4a003a945091ea875": {
      "model_module": "jupyter-matplotlib",
      "model_module_version": "^0.9.0",
      "model_name": "MPLCanvasModel",
      "state": {
       "_cursor": "crosshair",
       "_figure_label": "Figure 12",
       "_height": 500,
       "_image_mode": "diff",
       "_message": "x= y=1.121",
       "_rubberband_y": 501,
       "_width": 1000,
       "layout": "IPY_MODEL_d964a71d3bfe4fcb971daa7dc5d6f9da",
       "toolbar": "IPY_MODEL_de9c65474f0945ed908120040ef3b48e",
       "toolbar_position": "left"
      }
     },
     "5bbb379996cd4546b105733131c10338": {
      "model_module": "jupyter-matplotlib",
      "model_module_version": "^0.9.0",
      "model_name": "MPLCanvasModel",
      "state": {
       "_cursor": "default",
       "_figure_label": "Figure 10",
       "_height": 500,
       "_image_mode": "diff",
       "_message": "zoom rect",
       "_rubberband_y": 501,
       "_width": 1000,
       "layout": "IPY_MODEL_8988d1b2ac78430ca7163adbea2c11e6",
       "toolbar": "IPY_MODEL_8183f402a940422d82f3889a943d9ded",
       "toolbar_position": "left"
      }
     },
     "5ce92a6afd2c4df68f98cbbf00b322e5": {
      "model_module": "@jupyter-widgets/base",
      "model_module_version": "1.2.0",
      "model_name": "LayoutModel",
      "state": {}
     },
     "637da79770ab47259473c29a00c18069": {
      "model_module": "@jupyter-widgets/base",
      "model_module_version": "1.2.0",
      "model_name": "LayoutModel",
      "state": {}
     },
     "6555ca15f1994fecb6b0c12ab7949d9b": {
      "model_module": "jupyter-matplotlib",
      "model_module_version": "^0.9.0",
      "model_name": "MPLCanvasModel",
      "state": {
       "_cursor": "crosshair",
       "_figure_label": "Figure 16",
       "_height": 500,
       "_image_mode": "diff",
       "_message": "x= y=−1.29e+05",
       "_rubberband_y": 501,
       "_width": 1000,
       "layout": "IPY_MODEL_3c34053220b140c4ad733972e0a5e3bf",
       "toolbar": "IPY_MODEL_6919ffb3806e4353bd17b94c232e2fa1",
       "toolbar_position": "left"
      }
     },
     "6919ffb3806e4353bd17b94c232e2fa1": {
      "model_module": "jupyter-matplotlib",
      "model_module_version": "^0.9.0",
      "model_name": "ToolbarModel",
      "state": {
       "_current_action": "zoom",
       "layout": "IPY_MODEL_eec328a4e4df42bdabb4ebed1cf44617",
       "toolitems": [
        [
         "Home",
         "Reset original view",
         "home",
         "home"
        ],
        [
         "Back",
         "Back to previous view",
         "arrow-left",
         "back"
        ],
        [
         "Forward",
         "Forward to next view",
         "arrow-right",
         "forward"
        ],
        [
         "Pan",
         "Left button pans, Right button zooms\nx/y fixes axis, CTRL fixes aspect",
         "arrows",
         "pan"
        ],
        [
         "Zoom",
         "Zoom to rectangle\nx/y fixes axis, CTRL fixes aspect",
         "square-o",
         "zoom"
        ],
        [
         "Download",
         "Download plot",
         "floppy-o",
         "save_figure"
        ]
       ]
      }
     },
     "6a8c4dee0ce2402fa4789ba463f0bb4d": {
      "model_module": "jupyter-matplotlib",
      "model_module_version": "^0.9.0",
      "model_name": "MPLCanvasModel",
      "state": {
       "_cursor": "crosshair",
       "_figure_label": "Figure 3",
       "_height": 500,
       "_image_mode": "diff",
       "_message": "x= y=0.584",
       "_rubberband_y": 501,
       "_width": 1000,
       "layout": "IPY_MODEL_9d4f75756e93494ea7f7514eec4eaf23",
       "toolbar": "IPY_MODEL_8f4e253ae8c244198bf8f21779024d2c",
       "toolbar_position": "left"
      }
     },
     "6bfd3233690948b6994aa95048c77214": {
      "model_module": "jupyter-matplotlib",
      "model_module_version": "^0.9.0",
      "model_name": "MPLCanvasModel",
      "state": {
       "_cursor": "default",
       "_figure_label": "Figure 13",
       "_height": 500,
       "_message": "x=5.89e−06 y=73376.13855",
       "_width": 1000,
       "layout": "IPY_MODEL_6f0bf516f1c644fc8bffc68426ea92d2",
       "toolbar": "IPY_MODEL_f6c3566568e44313997b744af9ba93ab",
       "toolbar_position": "left"
      }
     },
     "6cfbdfa6f06f497098eb70f9f4684f38": {
      "model_module": "@jupyter-widgets/base",
      "model_module_version": "1.2.0",
      "model_name": "LayoutModel",
      "state": {}
     },
     "6f0bf516f1c644fc8bffc68426ea92d2": {
      "model_module": "@jupyter-widgets/base",
      "model_module_version": "1.2.0",
      "model_name": "LayoutModel",
      "state": {}
     },
     "70dac10f4ec848448a1d1914353cff87": {
      "model_module": "@jupyter-widgets/base",
      "model_module_version": "1.2.0",
      "model_name": "LayoutModel",
      "state": {}
     },
     "71e316e37848435ca4d358de8eda3107": {
      "model_module": "jupyter-matplotlib",
      "model_module_version": "^0.9.0",
      "model_name": "MPLCanvasModel",
      "state": {
       "_cursor": "default",
       "_figure_label": "Figure 2",
       "_height": 500,
       "_width": 1000,
       "layout": "IPY_MODEL_159bfde75a4343e3bdbd3844bd9649ff",
       "toolbar": "IPY_MODEL_ad2eca6c89be445c8b2a4d9df5eda1d4",
       "toolbar_position": "left"
      }
     },
     "7a07a1595cc2416ab158a5678dbedb90": {
      "model_module": "jupyter-matplotlib",
      "model_module_version": "^0.9.0",
      "model_name": "ToolbarModel",
      "state": {
       "_current_action": "zoom",
       "layout": "IPY_MODEL_286bc34e1b75431994758cd294ef9e9f",
       "toolitems": [
        [
         "Home",
         "Reset original view",
         "home",
         "home"
        ],
        [
         "Back",
         "Back to previous view",
         "arrow-left",
         "back"
        ],
        [
         "Forward",
         "Forward to next view",
         "arrow-right",
         "forward"
        ],
        [
         "Pan",
         "Left button pans, Right button zooms\nx/y fixes axis, CTRL fixes aspect",
         "arrows",
         "pan"
        ],
        [
         "Zoom",
         "Zoom to rectangle\nx/y fixes axis, CTRL fixes aspect",
         "square-o",
         "zoom"
        ],
        [
         "Download",
         "Download plot",
         "floppy-o",
         "save_figure"
        ]
       ]
      }
     },
     "7ec8c6fef19b462e9b6fcdb638b33a17": {
      "model_module": "jupyter-matplotlib",
      "model_module_version": "^0.9.0",
      "model_name": "MPLCanvasModel",
      "state": {
       "_cursor": "default",
       "_figure_label": "Figure 17",
       "_height": 500,
       "_width": 1000,
       "layout": "IPY_MODEL_99758e55a9a94857affd754c5499e281",
       "toolbar": "IPY_MODEL_c2828f6f00b648a18cc93f26cf6c59ce",
       "toolbar_position": "left"
      }
     },
     "8183f402a940422d82f3889a943d9ded": {
      "model_module": "jupyter-matplotlib",
      "model_module_version": "^0.9.0",
      "model_name": "ToolbarModel",
      "state": {
       "_current_action": "zoom",
       "layout": "IPY_MODEL_8a559385d91a4af098b98a225ef93f01",
       "toolitems": [
        [
         "Home",
         "Reset original view",
         "home",
         "home"
        ],
        [
         "Back",
         "Back to previous view",
         "arrow-left",
         "back"
        ],
        [
         "Forward",
         "Forward to next view",
         "arrow-right",
         "forward"
        ],
        [
         "Pan",
         "Left button pans, Right button zooms\nx/y fixes axis, CTRL fixes aspect",
         "arrows",
         "pan"
        ],
        [
         "Zoom",
         "Zoom to rectangle\nx/y fixes axis, CTRL fixes aspect",
         "square-o",
         "zoom"
        ],
        [
         "Download",
         "Download plot",
         "floppy-o",
         "save_figure"
        ]
       ]
      }
     },
     "8988d1b2ac78430ca7163adbea2c11e6": {
      "model_module": "@jupyter-widgets/base",
      "model_module_version": "1.2.0",
      "model_name": "LayoutModel",
      "state": {}
     },
     "8a559385d91a4af098b98a225ef93f01": {
      "model_module": "@jupyter-widgets/base",
      "model_module_version": "1.2.0",
      "model_name": "LayoutModel",
      "state": {}
     },
     "8b7a30c3254e46dda13b33579ae0de27": {
      "model_module": "jupyter-matplotlib",
      "model_module_version": "^0.9.0",
      "model_name": "MPLCanvasModel",
      "state": {
       "_cursor": "default",
       "_figure_label": "Figure 6",
       "_height": 500,
       "_width": 1000,
       "layout": "IPY_MODEL_637da79770ab47259473c29a00c18069",
       "toolbar": "IPY_MODEL_0d76b6e835dd40c1ad3df760887f302f",
       "toolbar_position": "left"
      }
     },
     "8f4e253ae8c244198bf8f21779024d2c": {
      "model_module": "jupyter-matplotlib",
      "model_module_version": "^0.9.0",
      "model_name": "ToolbarModel",
      "state": {
       "_current_action": "zoom",
       "layout": "IPY_MODEL_060607d58c3e4939a394c514ae9b8632",
       "toolitems": [
        [
         "Home",
         "Reset original view",
         "home",
         "home"
        ],
        [
         "Back",
         "Back to previous view",
         "arrow-left",
         "back"
        ],
        [
         "Forward",
         "Forward to next view",
         "arrow-right",
         "forward"
        ],
        [
         "Pan",
         "Left button pans, Right button zooms\nx/y fixes axis, CTRL fixes aspect",
         "arrows",
         "pan"
        ],
        [
         "Zoom",
         "Zoom to rectangle\nx/y fixes axis, CTRL fixes aspect",
         "square-o",
         "zoom"
        ],
        [
         "Download",
         "Download plot",
         "floppy-o",
         "save_figure"
        ]
       ]
      }
     },
     "9879e592deb7498ab0e76622941cebfb": {
      "model_module": "@jupyter-widgets/base",
      "model_module_version": "1.2.0",
      "model_name": "LayoutModel",
      "state": {}
     },
     "99758e55a9a94857affd754c5499e281": {
      "model_module": "@jupyter-widgets/base",
      "model_module_version": "1.2.0",
      "model_name": "LayoutModel",
      "state": {}
     },
     "99c1684aa7884ff8bceee5afdfea83e3": {
      "model_module": "@jupyter-widgets/base",
      "model_module_version": "1.2.0",
      "model_name": "LayoutModel",
      "state": {}
     },
     "99c989327c134a61b41977fe69cf0157": {
      "model_module": "@jupyter-widgets/base",
      "model_module_version": "1.2.0",
      "model_name": "LayoutModel",
      "state": {}
     },
     "9d4f75756e93494ea7f7514eec4eaf23": {
      "model_module": "@jupyter-widgets/base",
      "model_module_version": "1.2.0",
      "model_name": "LayoutModel",
      "state": {}
     },
     "a6932faca5134ec4b7c969ab424b5d63": {
      "model_module": "@jupyter-widgets/base",
      "model_module_version": "1.2.0",
      "model_name": "LayoutModel",
      "state": {}
     },
     "a6c6234d165241738e85a40cda1baa4d": {
      "model_module": "@jupyter-widgets/base",
      "model_module_version": "1.2.0",
      "model_name": "LayoutModel",
      "state": {}
     },
     "ad2eca6c89be445c8b2a4d9df5eda1d4": {
      "model_module": "jupyter-matplotlib",
      "model_module_version": "^0.9.0",
      "model_name": "ToolbarModel",
      "state": {
       "layout": "IPY_MODEL_b5ff16cf20e14114976a80844238d273",
       "toolitems": [
        [
         "Home",
         "Reset original view",
         "home",
         "home"
        ],
        [
         "Back",
         "Back to previous view",
         "arrow-left",
         "back"
        ],
        [
         "Forward",
         "Forward to next view",
         "arrow-right",
         "forward"
        ],
        [
         "Pan",
         "Left button pans, Right button zooms\nx/y fixes axis, CTRL fixes aspect",
         "arrows",
         "pan"
        ],
        [
         "Zoom",
         "Zoom to rectangle\nx/y fixes axis, CTRL fixes aspect",
         "square-o",
         "zoom"
        ],
        [
         "Download",
         "Download plot",
         "floppy-o",
         "save_figure"
        ]
       ]
      }
     },
     "b21eb97274144a69abccb74f8dbd2304": {
      "model_module": "@jupyter-widgets/base",
      "model_module_version": "1.2.0",
      "model_name": "LayoutModel",
      "state": {}
     },
     "b25d3781c0cf4bf2a43566b511dc1dd4": {
      "model_module": "@jupyter-widgets/base",
      "model_module_version": "1.2.0",
      "model_name": "LayoutModel",
      "state": {}
     },
     "b3c3bcba2b464193ba4f69a25225fc28": {
      "model_module": "@jupyter-widgets/base",
      "model_module_version": "1.2.0",
      "model_name": "LayoutModel",
      "state": {}
     },
     "b5ff16cf20e14114976a80844238d273": {
      "model_module": "@jupyter-widgets/base",
      "model_module_version": "1.2.0",
      "model_name": "LayoutModel",
      "state": {}
     },
     "c12a80fcf4ae4a849d27712d6a734cc9": {
      "model_module": "jupyter-matplotlib",
      "model_module_version": "^0.9.0",
      "model_name": "MPLCanvasModel",
      "state": {
       "_cursor": "default",
       "_figure_label": "Figure 1",
       "_height": 500,
       "_image_mode": "diff",
       "_message": "zoom rect",
       "_rubberband_y": 501,
       "_width": 1000,
       "layout": "IPY_MODEL_2418c0e9a4cf4bd3949fcb412dba6538",
       "toolbar": "IPY_MODEL_7a07a1595cc2416ab158a5678dbedb90",
       "toolbar_position": "left"
      }
     },
     "c2828f6f00b648a18cc93f26cf6c59ce": {
      "model_module": "jupyter-matplotlib",
      "model_module_version": "^0.9.0",
      "model_name": "ToolbarModel",
      "state": {
       "layout": "IPY_MODEL_452c638c8f6945fbbd759a0b6c251bb0",
       "toolitems": [
        [
         "Home",
         "Reset original view",
         "home",
         "home"
        ],
        [
         "Back",
         "Back to previous view",
         "arrow-left",
         "back"
        ],
        [
         "Forward",
         "Forward to next view",
         "arrow-right",
         "forward"
        ],
        [
         "Pan",
         "Left button pans, Right button zooms\nx/y fixes axis, CTRL fixes aspect",
         "arrows",
         "pan"
        ],
        [
         "Zoom",
         "Zoom to rectangle\nx/y fixes axis, CTRL fixes aspect",
         "square-o",
         "zoom"
        ],
        [
         "Download",
         "Download plot",
         "floppy-o",
         "save_figure"
        ]
       ]
      }
     },
     "c62ab7776b1746cb9af900c9b39cb101": {
      "model_module": "jupyter-matplotlib",
      "model_module_version": "^0.9.0",
      "model_name": "MPLCanvasModel",
      "state": {
       "_cursor": "default",
       "_figure_label": "Figure 8",
       "_height": 500,
       "_width": 1000,
       "layout": "IPY_MODEL_99c989327c134a61b41977fe69cf0157",
       "toolbar": "IPY_MODEL_d5d4bf0a3d144558bca30632dfe6499a",
       "toolbar_position": "left"
      }
     },
     "ccad3c28bf424fdc89341c8e412e22af": {
      "model_module": "jupyter-matplotlib",
      "model_module_version": "^0.9.0",
      "model_name": "ToolbarModel",
      "state": {
       "layout": "IPY_MODEL_b25d3781c0cf4bf2a43566b511dc1dd4",
       "toolitems": [
        [
         "Home",
         "Reset original view",
         "home",
         "home"
        ],
        [
         "Back",
         "Back to previous view",
         "arrow-left",
         "back"
        ],
        [
         "Forward",
         "Forward to next view",
         "arrow-right",
         "forward"
        ],
        [
         "Pan",
         "Left button pans, Right button zooms\nx/y fixes axis, CTRL fixes aspect",
         "arrows",
         "pan"
        ],
        [
         "Zoom",
         "Zoom to rectangle\nx/y fixes axis, CTRL fixes aspect",
         "square-o",
         "zoom"
        ],
        [
         "Download",
         "Download plot",
         "floppy-o",
         "save_figure"
        ]
       ]
      }
     },
     "d5d4bf0a3d144558bca30632dfe6499a": {
      "model_module": "jupyter-matplotlib",
      "model_module_version": "^0.9.0",
      "model_name": "ToolbarModel",
      "state": {
       "layout": "IPY_MODEL_a6932faca5134ec4b7c969ab424b5d63",
       "toolitems": [
        [
         "Home",
         "Reset original view",
         "home",
         "home"
        ],
        [
         "Back",
         "Back to previous view",
         "arrow-left",
         "back"
        ],
        [
         "Forward",
         "Forward to next view",
         "arrow-right",
         "forward"
        ],
        [
         "Pan",
         "Left button pans, Right button zooms\nx/y fixes axis, CTRL fixes aspect",
         "arrows",
         "pan"
        ],
        [
         "Zoom",
         "Zoom to rectangle\nx/y fixes axis, CTRL fixes aspect",
         "square-o",
         "zoom"
        ],
        [
         "Download",
         "Download plot",
         "floppy-o",
         "save_figure"
        ]
       ]
      }
     },
     "d95b35c928f04c0980fd5befb35d8c1a": {
      "model_module": "@jupyter-widgets/base",
      "model_module_version": "1.2.0",
      "model_name": "LayoutModel",
      "state": {}
     },
     "d964a71d3bfe4fcb971daa7dc5d6f9da": {
      "model_module": "@jupyter-widgets/base",
      "model_module_version": "1.2.0",
      "model_name": "LayoutModel",
      "state": {}
     },
     "db539090d66e4925a00338a2bc5a0509": {
      "model_module": "jupyter-matplotlib",
      "model_module_version": "^0.9.0",
      "model_name": "MPLCanvasModel",
      "state": {
       "_cursor": "default",
       "_figure_label": "Figure 4",
       "_height": 500,
       "_width": 1000,
       "layout": "IPY_MODEL_9879e592deb7498ab0e76622941cebfb",
       "toolbar": "IPY_MODEL_ccad3c28bf424fdc89341c8e412e22af",
       "toolbar_position": "left"
      }
     },
     "de9c65474f0945ed908120040ef3b48e": {
      "model_module": "jupyter-matplotlib",
      "model_module_version": "^0.9.0",
      "model_name": "ToolbarModel",
      "state": {
       "_current_action": "zoom",
       "layout": "IPY_MODEL_b3c3bcba2b464193ba4f69a25225fc28",
       "toolitems": [
        [
         "Home",
         "Reset original view",
         "home",
         "home"
        ],
        [
         "Back",
         "Back to previous view",
         "arrow-left",
         "back"
        ],
        [
         "Forward",
         "Forward to next view",
         "arrow-right",
         "forward"
        ],
        [
         "Pan",
         "Left button pans, Right button zooms\nx/y fixes axis, CTRL fixes aspect",
         "arrows",
         "pan"
        ],
        [
         "Zoom",
         "Zoom to rectangle\nx/y fixes axis, CTRL fixes aspect",
         "square-o",
         "zoom"
        ],
        [
         "Download",
         "Download plot",
         "floppy-o",
         "save_figure"
        ]
       ]
      }
     },
     "e1513275e2db4960931a034a896ec52e": {
      "model_module": "jupyter-matplotlib",
      "model_module_version": "^0.9.0",
      "model_name": "ToolbarModel",
      "state": {
       "_current_action": "zoom",
       "layout": "IPY_MODEL_ea25c778be5a486ca2004767f88c78af",
       "toolitems": [
        [
         "Home",
         "Reset original view",
         "home",
         "home"
        ],
        [
         "Back",
         "Back to previous view",
         "arrow-left",
         "back"
        ],
        [
         "Forward",
         "Forward to next view",
         "arrow-right",
         "forward"
        ],
        [
         "Pan",
         "Left button pans, Right button zooms\nx/y fixes axis, CTRL fixes aspect",
         "arrows",
         "pan"
        ],
        [
         "Zoom",
         "Zoom to rectangle\nx/y fixes axis, CTRL fixes aspect",
         "square-o",
         "zoom"
        ],
        [
         "Download",
         "Download plot",
         "floppy-o",
         "save_figure"
        ]
       ]
      }
     },
     "e9b11266dc2f4d2c96346b3f085c377f": {
      "model_module": "jupyter-matplotlib",
      "model_module_version": "^0.9.0",
      "model_name": "ToolbarModel",
      "state": {
       "layout": "IPY_MODEL_5ce92a6afd2c4df68f98cbbf00b322e5",
       "toolitems": [
        [
         "Home",
         "Reset original view",
         "home",
         "home"
        ],
        [
         "Back",
         "Back to previous view",
         "arrow-left",
         "back"
        ],
        [
         "Forward",
         "Forward to next view",
         "arrow-right",
         "forward"
        ],
        [
         "Pan",
         "Left button pans, Right button zooms\nx/y fixes axis, CTRL fixes aspect",
         "arrows",
         "pan"
        ],
        [
         "Zoom",
         "Zoom to rectangle\nx/y fixes axis, CTRL fixes aspect",
         "square-o",
         "zoom"
        ],
        [
         "Download",
         "Download plot",
         "floppy-o",
         "save_figure"
        ]
       ]
      }
     },
     "ea25c778be5a486ca2004767f88c78af": {
      "model_module": "@jupyter-widgets/base",
      "model_module_version": "1.2.0",
      "model_name": "LayoutModel",
      "state": {}
     },
     "eb516e823fe94c4aa01c4241ec111916": {
      "model_module": "jupyter-matplotlib",
      "model_module_version": "^0.9.0",
      "model_name": "MPLCanvasModel",
      "state": {
       "_cursor": "default",
       "_figure_label": "Figure 7",
       "_height": 500,
       "_message": "x=0.00130 y=73486.5",
       "_width": 1000,
       "layout": "IPY_MODEL_50522ae7599e4eafae706a264799f19e",
       "toolbar": "IPY_MODEL_2f6e6bf0109b481da191984b3375c1a2",
       "toolbar_position": "left"
      }
     },
     "eec328a4e4df42bdabb4ebed1cf44617": {
      "model_module": "@jupyter-widgets/base",
      "model_module_version": "1.2.0",
      "model_name": "LayoutModel",
      "state": {}
     },
     "f382fddf11ca4deea9166c3a72ccfb11": {
      "model_module": "jupyter-matplotlib",
      "model_module_version": "^0.9.0",
      "model_name": "MPLCanvasModel",
      "state": {
       "_cursor": "default",
       "_figure_label": "Figure 15",
       "_height": 500,
       "_width": 1000,
       "layout": "IPY_MODEL_384815720bcc4633b5b919924f8d9532",
       "toolbar": "IPY_MODEL_1d0b5e9495764dedba536c7cfd900398",
       "toolbar_position": "left"
      }
     },
     "f6c3566568e44313997b744af9ba93ab": {
      "model_module": "jupyter-matplotlib",
      "model_module_version": "^0.9.0",
      "model_name": "ToolbarModel",
      "state": {
       "layout": "IPY_MODEL_1c9176d7b42e4f45aa47d28bee9d9701",
       "toolitems": [
        [
         "Home",
         "Reset original view",
         "home",
         "home"
        ],
        [
         "Back",
         "Back to previous view",
         "arrow-left",
         "back"
        ],
        [
         "Forward",
         "Forward to next view",
         "arrow-right",
         "forward"
        ],
        [
         "Pan",
         "Left button pans, Right button zooms\nx/y fixes axis, CTRL fixes aspect",
         "arrows",
         "pan"
        ],
        [
         "Zoom",
         "Zoom to rectangle\nx/y fixes axis, CTRL fixes aspect",
         "square-o",
         "zoom"
        ],
        [
         "Download",
         "Download plot",
         "floppy-o",
         "save_figure"
        ]
       ]
      }
     }
    },
    "version_major": 2,
    "version_minor": 0
   }
  }
 },
 "nbformat": 4,
 "nbformat_minor": 5
}
