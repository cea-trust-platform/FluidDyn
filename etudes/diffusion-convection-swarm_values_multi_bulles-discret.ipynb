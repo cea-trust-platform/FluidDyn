{
 "cells": [
  {
   "cell_type": "markdown",
   "id": "ff85bb10",
   "metadata": {
    "tags": []
   },
   "source": [
    "# Test de l'opérateur ProblemDiscontinu"
   ]
  },
  {
   "cell_type": "code",
   "execution_count": 1,
   "id": "e49fd762-a10b-480b-a7f0-42f77b843c13",
   "metadata": {},
   "outputs": [],
   "source": [
    "import sys\n",
    "\n",
    "sys.path = ['/home/as259691/PycharmProjects/FluidDyn1D'] + sys.path"
   ]
  },
  {
   "cell_type": "code",
   "execution_count": 2,
   "id": "2ffdef2c-8113-431a-83f2-31a80cc46285",
   "metadata": {},
   "outputs": [],
   "source": [
    "from src.main_discontinu import *\n",
    "from src.plot_fields import *\n",
    "\n",
    "%matplotlib widget\n",
    "rc('figure', figsize=(10,5))\n",
    "rc('figure', dpi=100)"
   ]
  },
  {
   "cell_type": "markdown",
   "id": "de8be792",
   "metadata": {},
   "source": [
    "## Paramètres de la simulation\n",
    "\n",
    "Ici on va réaliser une simulation sans diffusion pour différentes écritures de notre équation thermique.\n",
    "\n",
    "La résolution se fait à chaque fois en WENO avec Euler explicite en temps."
   ]
  },
  {
   "cell_type": "code",
   "execution_count": 3,
   "id": "5651e4e6-e709-403e-ae3c-f712bd64fe1d",
   "metadata": {},
   "outputs": [
    {
     "name": "stdout",
     "output_type": "stream",
     "text": [
      "initialisation des indices des cellules des marqueurs\n"
     ]
    }
   ],
   "source": [
    "# d = 6./100*Delta/2.\n",
    "phy_prop = PhysicalProperties(Delta=0.02, v=0., dS=0.005**2,\n",
    "                              lda1=5.5*10**-2, lda2=15.5, rho_cp1=70278., rho_cp2=702780., diff=1.,\n",
    "                              alpha=0.06, a_i=357.)\n",
    "num_prop = NumericalProperties(dx=3.9*10**-5, schema='upwind', time_scheme='euler', phy_prop=phy_prop, cfl=0.5)\n",
    "markers = BulleTemperature(phy_prop=phy_prop, x=num_prop.x, n_bulle=1)\n",
    "markers.shift(0.00001)\n",
    "markers.set_indices_markers(num_prop.x)\n",
    "# markers = Bulles(phy_prop=phy_prop)\n",
    "\n",
    "n = 20000\n",
    "t_fin = 0.02"
   ]
  },
  {
   "cell_type": "code",
   "execution_count": 4,
   "id": "994cb9d1",
   "metadata": {},
   "outputs": [
    {
     "name": "stdout",
     "output_type": "stream",
     "text": [
      "\n",
      "dt fourier\n",
      "6.918433404737903e-06\n",
      "Cas : diffusion, euler, upwind, dx = 3.90625e-05, dt = 6.91843e-06\n",
      "==========================\n"
     ]
    },
    {
     "data": {
      "application/vnd.jupyter.widget-view+json": {
       "model_id": "3e8d2e6bc0bd4bbf974e3de5c034460d",
       "version_major": 2,
       "version_minor": 0
      },
      "text/plain": [
       "Canvas(toolbar=Toolbar(toolitems=[('Home', 'Reset original view', 'home', 'home'), ('Back', 'Back to previous …"
      ]
     },
     "metadata": {},
     "output_type": "display_data"
    },
    {
     "data": {
      "application/vnd.jupyter.widget-view+json": {
       "model_id": "f4d26067fff4434a8b8cab53f0bbe3a3",
       "version_major": 2,
       "version_minor": 0
      },
      "text/plain": [
       "Canvas(toolbar=Toolbar(toolitems=[('Home', 'Reset original view', 'home', 'home'), ('Back', 'Back to previous …"
      ]
     },
     "metadata": {},
     "output_type": "display_data"
    },
    {
     "name": "stdout",
     "output_type": "stream",
     "text": [
      "dE*/dt* = 3.46307e-18\n"
     ]
    }
   ],
   "source": [
    "print()\n",
    "prob = ProblemDiscontinu(get_T_creneau, markers=markers, phy_prop=phy_prop, num_prop=num_prop, interp_type='Ti')\n",
    "E0 = prob.energy\n",
    "print(prob.name)\n",
    "print('==========================')\n",
    "plot = Plotter('classic')\n",
    "t, e = prob.timestep(t_fin=t_fin, n=n, number_of_plots=1, plotter=plot)\n",
    "\n",
    "fig1,ax1 = plt.subplots(1)\n",
    "ax1.set_title('Énergie en fonction du temps')\n",
    "l = ax1.plot(t, e/(0.02*0.005*0.005), label=prob.name)\n",
    "le = fig1.legend()\n",
    "\n",
    "# plot.ax.plot(prob.bulles.markers.flatten(), prob.bulles.T.flatten(), 'r+')\n",
    "# plot.ax.plot(prob.bulles.markers.flatten(), prob.bulles.Tg.flatten(), 'g+')\n",
    "# plot.ax.plot(prob.bulles.markers.flatten(), prob.bulles.Td.flatten(), 'b+')\n",
    "\n",
    "n = len(e)\n",
    "i0 = int(n/5)\n",
    "dedt_adim = (e[-1] - e[i0]) / (t[-1] - t[i0]) * prob.dt / E0  # on a mult\n",
    "# par Dt / rho_cp_l T_l V\n",
    "print('dE*/dt* = %g' % dedt_adim)"
   ]
  },
  {
   "cell_type": "code",
   "execution_count": 5,
   "id": "753e0db2-2929-4ea0-a5fa-6435884c7665",
   "metadata": {},
   "outputs": [
    {
     "name": "stdout",
     "output_type": "stream",
     "text": [
      "\n",
      "dt fourier\n",
      "6.918433404737903e-06\n",
      "Cas : diffusion, euler, upwind, dx = 3.90625e-05, dt = 6.91843e-06\n",
      "==========================\n"
     ]
    },
    {
     "data": {
      "application/vnd.jupyter.widget-view+json": {
       "model_id": "964eb38fa793485d9ae3ce179c50c07b",
       "version_major": 2,
       "version_minor": 0
      },
      "text/plain": [
       "Canvas(toolbar=Toolbar(toolitems=[('Home', 'Reset original view', 'home', 'home'), ('Back', 'Back to previous …"
      ]
     },
     "metadata": {},
     "output_type": "display_data"
    },
    {
     "data": {
      "application/vnd.jupyter.widget-view+json": {
       "model_id": "0247171e851d42098318ff517a8635a5",
       "version_major": 2,
       "version_minor": 0
      },
      "text/plain": [
       "Canvas(toolbar=Toolbar(toolitems=[('Home', 'Reset original view', 'home', 'home'), ('Back', 'Back to previous …"
      ]
     },
     "metadata": {},
     "output_type": "display_data"
    },
    {
     "name": "stdout",
     "output_type": "stream",
     "text": [
      "dE*/dt* = 0\n"
     ]
    }
   ],
   "source": [
    "print()\n",
    "prob = ProblemDiscontinu(get_T_creneau, markers=markers, phy_prop=phy_prop, num_prop=num_prop, interp_type='gradTi')\n",
    "E0 = prob.energy\n",
    "print(prob.name)\n",
    "print('==========================')\n",
    "plot = Plotter('classic')\n",
    "t, e = prob.timestep(n=n,t_fin=t_fin, number_of_plots=2, plotter=plot)\n",
    "\n",
    "fig1,ax1 = plt.subplots(1)\n",
    "ax1.set_title('Énergie en fonction du temps')\n",
    "l = ax1.plot(t, e/(0.02*0.005*0.005), label=prob.name)\n",
    "le = fig1.legend()\n",
    "\n",
    "# plot.ax.plot(prob.bulles.markers.flatten(), prob.bulles.T.flatten(), 'r+')\n",
    "# plot.ax.plot(prob.bulles.markers.flatten(), prob.bulles.Tg.flatten(), 'g+')\n",
    "# plot.ax.plot(prob.bulles.markers.flatten(), prob.bulles.Td.flatten(), 'b+')\n",
    "\n",
    "n = len(e)\n",
    "i0 = int(n/5)\n",
    "dedt_adim = (e[-1] - e[i0]) / (t[-1] - t[i0]) * prob.dt / E0  # on a mult\n",
    "# par Dt / rho_cp_l T_l V\n",
    "print('dE*/dt* = %g' % dedt_adim)"
   ]
  },
  {
   "cell_type": "markdown",
   "id": "9468a91a-1cbf-4f9a-b3b3-d87879c1cab1",
   "metadata": {},
   "source": [
    "## Test de la convection\n",
    "\n",
    "Ici on met une vitesse de convection, et on supprime artificiellement la diffusion.\n",
    "\n",
    "Pour augmenter la facilité du cas, on le réalise sur une température initiale continue."
   ]
  },
  {
   "cell_type": "code",
   "execution_count": 6,
   "id": "ac60047f-9a5a-4f0b-8b26-b7a33926b6e1",
   "metadata": {},
   "outputs": [
    {
     "name": "stdout",
     "output_type": "stream",
     "text": [
      "initialisation des indices des cellules des marqueurs\n"
     ]
    }
   ],
   "source": [
    "# d = 6./100*Delta/2.\n",
    "phy_prop = PhysicalProperties(Delta=0.02, v=0.2, dS=0.005**2,\n",
    "                              lda1=5.5*10**-2, lda2=15.5, rho_cp1=70278., rho_cp2=702780., diff=0.,\n",
    "                              alpha=0.06, a_i=357.)\n",
    "# num_prop = NumericalProperties(dx=3.9*10**-5, schema='upwind', time_scheme='euler', phy_prop=phy_prop, cfl=0.5)\n",
    "num_prop = NumericalProperties(dx=1*10**-5, schema='upwind', time_scheme='euler', phy_prop=phy_prop, cfl=1.)\n",
    "markers = BulleTemperature(phy_prop=phy_prop, x=num_prop.x, n_bulle=1)\n",
    "markers.shift(0.00001)\n",
    "markers.set_indices_markers(num_prop.x)\n",
    "# markers = Bulles(phy_prop=phy_prop)\n",
    "\n",
    "n = 20000\n",
    "t_fin = 0.01"
   ]
  },
  {
   "cell_type": "code",
   "execution_count": 7,
   "id": "6c4762a8-a154-48ac-b18e-5119dfe6521f",
   "metadata": {},
   "outputs": [
    {
     "name": "stdout",
     "output_type": "stream",
     "text": [
      "dt fourier\n",
      "4.538601983461999e-07\n",
      "Cas : convection, euler, upwind, dx = 1.0005e-05, cfl = 0.00907267\n",
      "==========================\n"
     ]
    },
    {
     "data": {
      "application/vnd.jupyter.widget-view+json": {
       "model_id": "82fa650781e347b2bc56d2d661e885b1",
       "version_major": 2,
       "version_minor": 0
      },
      "text/plain": [
       "Canvas(toolbar=Toolbar(toolitems=[('Home', 'Reset original view', 'home', 'home'), ('Back', 'Back to previous …"
      ]
     },
     "metadata": {},
     "output_type": "display_data"
    },
    {
     "data": {
      "application/vnd.jupyter.widget-view+json": {
       "model_id": "77529aa810fc4a7ba5280cd3086ff80f",
       "version_major": 2,
       "version_minor": 0
      },
      "text/plain": [
       "Canvas(toolbar=Toolbar(toolitems=[('Home', 'Reset original view', 'home', 'home'), ('Back', 'Back to previous …"
      ]
     },
     "metadata": {},
     "output_type": "display_data"
    },
    {
     "name": "stdout",
     "output_type": "stream",
     "text": [
      "dE*/dt* = -8.78282e-19\n"
     ]
    }
   ],
   "source": [
    "prob = ProblemDiscontinu(get_T_creneau, markers=markers, phy_prop=phy_prop, num_prop=num_prop, interp_type='Ti')\n",
    "E0 = prob.energy\n",
    "print(prob.name)\n",
    "print('==========================')\n",
    "plot = Plotter('decale')\n",
    "t, e = prob.timestep(t_fin=t_fin, n=n, number_of_plots=1, plotter=plot)\n",
    "\n",
    "fig1,ax1 = plt.subplots(1)\n",
    "ax1.set_title('Énergie en fonction du temps')\n",
    "l = ax1.plot(t, e/(0.02*0.005*0.005), label=prob.name)\n",
    "le = fig1.legend()\n",
    "\n",
    "# plot.ax.plot(prob.bulles.markers.flatten(), prob.bulles.T.flatten(), 'r+')\n",
    "# plot.ax.plot(prob.bulles.markers.flatten(), prob.bulles.Tg.flatten(), 'g+')\n",
    "# plot.ax.plot(prob.bulles.markers.flatten(), prob.bulles.Td.flatten(), 'b+')\n",
    "\n",
    "n = len(e)\n",
    "i0 = int(n/5)\n",
    "dedt_adim = (e[-1] - e[i0]) / (t[-1] - t[i0]) * prob.dt / E0  # on a mult\n",
    "# par Dt / rho_cp_l T_l V\n",
    "print('dE*/dt* = %g' % dedt_adim)"
   ]
  },
  {
   "cell_type": "code",
   "execution_count": 8,
   "id": "a4b1a479-e08b-4e40-b900-57d0523b1865",
   "metadata": {},
   "outputs": [
    {
     "name": "stdout",
     "output_type": "stream",
     "text": [
      "\n",
      "dt fourier\n",
      "4.538601983461999e-07\n",
      "Cas : convection, euler, upwind, dx = 1.0005e-05, cfl = 0.00907267\n",
      "==========================\n"
     ]
    },
    {
     "data": {
      "application/vnd.jupyter.widget-view+json": {
       "model_id": "0483692f98534e3990bc880f51a89fb3",
       "version_major": 2,
       "version_minor": 0
      },
      "text/plain": [
       "Canvas(toolbar=Toolbar(toolitems=[('Home', 'Reset original view', 'home', 'home'), ('Back', 'Back to previous …"
      ]
     },
     "metadata": {},
     "output_type": "display_data"
    },
    {
     "data": {
      "application/vnd.jupyter.widget-view+json": {
       "model_id": "45ced9100100458191bbdea27f78c59f",
       "version_major": 2,
       "version_minor": 0
      },
      "text/plain": [
       "Canvas(toolbar=Toolbar(toolitems=[('Home', 'Reset original view', 'home', 'home'), ('Back', 'Back to previous …"
      ]
     },
     "metadata": {},
     "output_type": "display_data"
    },
    {
     "name": "stdout",
     "output_type": "stream",
     "text": [
      "dE*/dt* = 2.23508e+193\n"
     ]
    },
    {
     "data": {
      "application/vnd.jupyter.widget-view+json": {
       "model_id": "dbf03244c0ba45afb9b1cc60769641bf",
       "version_major": 2,
       "version_minor": 0
      },
      "text/plain": [
       "Canvas(toolbar=Toolbar(toolitems=[('Home', 'Reset original view', 'home', 'home'), ('Back', 'Back to previous …"
      ]
     },
     "metadata": {},
     "output_type": "display_data"
    },
    {
     "name": "stdout",
     "output_type": "stream",
     "text": [
      "[0.77382085 0.77515828 0.77649303 ... 0.76979266 0.77113803 0.77248076]\n"
     ]
    }
   ],
   "source": [
    "print()\n",
    "prob = ProblemDiscontinu(get_T, markers=markers, phy_prop=phy_prop, num_prop=num_prop, interp_type='gradTi')\n",
    "E0 = prob.energy\n",
    "print(prob.name)\n",
    "print('==========================')\n",
    "plot = Plotter('decale')\n",
    "t, e = prob.timestep(n=n, t_fin=t_fin, number_of_plots=1, plotter=plot)\n",
    "\n",
    "fig1,ax1 = plt.subplots(1)\n",
    "ax1.set_title('Énergie en fonction du temps')\n",
    "l = ax1.plot(t, e/(0.02*0.005*0.005), label=prob.name)\n",
    "le = fig1.legend()\n",
    "\n",
    "# plot.ax.plot(prob.bulles.markers.flatten(), prob.bulles.T.flatten(), 'r+')\n",
    "# plot.ax.plot(prob.bulles.markers.flatten(), prob.bulles.Tg.flatten(), 'g+')\n",
    "# plot.ax.plot(prob.bulles.markers.flatten(), prob.bulles.Td.flatten(), 'b+')\n",
    "\n",
    "n = len(e)\n",
    "i0 = int(n/5)\n",
    "dedt_adim = (e[-1] - e[i0]) / (t[-1] - t[i0]) * prob.dt / E0  # on a mult\n",
    "# par Dt / rho_cp_l T_l V\n",
    "print('dE*/dt* = %g' % dedt_adim)\n",
    "plt.figure()\n",
    "plt.plot(prob.num_prop.x, prob.rho_cp_a*prob.T)\n",
    "print(prob.T)"
   ]
  },
  {
   "cell_type": "markdown",
   "id": "f9332e9f-6290-4d94-bfe2-cf0efec2cf52",
   "metadata": {},
   "source": [
    "# Probleme discontinu traité en déduisant $T_g^c$ et $T_d^c$ de T et h"
   ]
  },
  {
   "cell_type": "code",
   "execution_count": 3,
   "id": "6be12385-75df-49da-8ce0-8e9f59ff1bda",
   "metadata": {},
   "outputs": [
    {
     "name": "stdout",
     "output_type": "stream",
     "text": [
      "initialisation des indices des cellules des marqueurs\n"
     ]
    }
   ],
   "source": [
    "# d = 6./100*Delta/2.\n",
    "phy_prop = PhysicalProperties(Delta=0.02, v=0.2, dS=0.005**2,\n",
    "                              lda1=5.5*10**-2, lda2=15.5, rho_cp1=70278., rho_cp2=702780., diff=0.,\n",
    "                              alpha=0.06, a_i=357.)\n",
    "# num_prop = NumericalProperties(dx=3.9*10**-5, schema='upwind', time_scheme='euler', phy_prop=phy_prop, cfl=0.5)\n",
    "num_prop = NumericalProperties(dx=1*10**-5, schema='upwind', time_scheme='euler', phy_prop=phy_prop, cfl=1.)\n",
    "markers = BulleTemperature(phy_prop=phy_prop, x=num_prop.x, n_bulle=1)\n",
    "markers.shift(0.00001)\n",
    "markers.set_indices_markers(num_prop.x)\n",
    "# markers = Bulles(phy_prop=phy_prop)\n",
    "\n",
    "n = 30\n",
    "# t_fin = 0.01"
   ]
  },
  {
   "cell_type": "code",
   "execution_count": 4,
   "id": "b8efbf1a-3554-4b77-840a-15cb6e140d2d",
   "metadata": {},
   "outputs": [
    {
     "name": "stdout",
     "output_type": "stream",
     "text": [
      "\n",
      "dt fourier\n",
      "4.538601983461999e-07\n",
      "Cas : convection, euler, upwind, dx = 1.0005e-05, cfl = 0.00907267\n",
      "==========================\n"
     ]
    },
    {
     "data": {
      "application/vnd.jupyter.widget-view+json": {
       "model_id": "905b6dd5e04d4f209ca2508330abc063",
       "version_major": 2,
       "version_minor": 0
      },
      "text/plain": [
       "Canvas(toolbar=Toolbar(toolitems=[('Home', 'Reset original view', 'home', 'home'), ('Back', 'Back to previous …"
      ]
     },
     "metadata": {},
     "output_type": "display_data"
    },
    {
     "name": "stdout",
     "output_type": "stream",
     "text": [
      "lda grad T i :  1.8885529207181215e-12\n"
     ]
    },
    {
     "ename": "ValueError",
     "evalue": "operands could not be broadcast together with shapes (3,) (4,) ",
     "output_type": "error",
     "traceback": [
      "\u001b[0;31m---------------------------------------------------------------------------\u001b[0m",
      "\u001b[0;31mValueError\u001b[0m                                Traceback (most recent call last)",
      "\u001b[0;32m<ipython-input-4-48940a9b31a8>\u001b[0m in \u001b[0;36m<module>\u001b[0;34m\u001b[0m\n\u001b[1;32m      5\u001b[0m \u001b[0mprint\u001b[0m\u001b[0;34m(\u001b[0m\u001b[0;34m'=========================='\u001b[0m\u001b[0;34m)\u001b[0m\u001b[0;34m\u001b[0m\u001b[0;34m\u001b[0m\u001b[0m\n\u001b[1;32m      6\u001b[0m \u001b[0mplot\u001b[0m \u001b[0;34m=\u001b[0m \u001b[0mPlotter\u001b[0m\u001b[0;34m(\u001b[0m\u001b[0;34m'classic'\u001b[0m\u001b[0;34m)\u001b[0m\u001b[0;34m\u001b[0m\u001b[0;34m\u001b[0m\u001b[0m\n\u001b[0;32m----> 7\u001b[0;31m \u001b[0mt\u001b[0m\u001b[0;34m,\u001b[0m \u001b[0me\u001b[0m \u001b[0;34m=\u001b[0m \u001b[0mprob\u001b[0m\u001b[0;34m.\u001b[0m\u001b[0mtimestep\u001b[0m\u001b[0;34m(\u001b[0m\u001b[0mn\u001b[0m\u001b[0;34m=\u001b[0m\u001b[0mn\u001b[0m\u001b[0;34m,\u001b[0m \u001b[0mnumber_of_plots\u001b[0m\u001b[0;34m=\u001b[0m\u001b[0;36m3\u001b[0m\u001b[0;34m,\u001b[0m \u001b[0mplotter\u001b[0m\u001b[0;34m=\u001b[0m\u001b[0mplot\u001b[0m\u001b[0;34m)\u001b[0m\u001b[0;34m\u001b[0m\u001b[0;34m\u001b[0m\u001b[0m\n\u001b[0m\u001b[1;32m      8\u001b[0m \u001b[0;34m\u001b[0m\u001b[0m\n\u001b[1;32m      9\u001b[0m \u001b[0mfig1\u001b[0m\u001b[0;34m,\u001b[0m\u001b[0max1\u001b[0m \u001b[0;34m=\u001b[0m \u001b[0mplt\u001b[0m\u001b[0;34m.\u001b[0m\u001b[0msubplots\u001b[0m\u001b[0;34m(\u001b[0m\u001b[0;36m1\u001b[0m\u001b[0;34m)\u001b[0m\u001b[0;34m\u001b[0m\u001b[0;34m\u001b[0m\u001b[0m\n",
      "\u001b[0;32m~/PycharmProjects/FluidDyn1D/src/main.py\u001b[0m in \u001b[0;36mtimestep\u001b[0;34m(self, n, t_fin, plot_for_each, number_of_plots, plotter, debug)\u001b[0m\n\u001b[1;32m    544\u001b[0m         \u001b[0;32mfor\u001b[0m \u001b[0mi\u001b[0m \u001b[0;32min\u001b[0m \u001b[0mrange\u001b[0m\u001b[0;34m(\u001b[0m\u001b[0mn\u001b[0m\u001b[0;34m)\u001b[0m\u001b[0;34m:\u001b[0m\u001b[0;34m\u001b[0m\u001b[0;34m\u001b[0m\u001b[0m\n\u001b[1;32m    545\u001b[0m             \u001b[0;32mif\u001b[0m \u001b[0mself\u001b[0m\u001b[0;34m.\u001b[0m\u001b[0mnum_prop\u001b[0m\u001b[0;34m.\u001b[0m\u001b[0mtime_scheme\u001b[0m \u001b[0;32mis\u001b[0m \u001b[0;34m'euler'\u001b[0m\u001b[0;34m:\u001b[0m\u001b[0;34m\u001b[0m\u001b[0;34m\u001b[0m\u001b[0m\n\u001b[0;32m--> 546\u001b[0;31m                 \u001b[0mself\u001b[0m\u001b[0;34m.\u001b[0m\u001b[0meuler_timestep\u001b[0m\u001b[0;34m(\u001b[0m\u001b[0mdebug\u001b[0m\u001b[0;34m=\u001b[0m\u001b[0mdebug\u001b[0m\u001b[0;34m,\u001b[0m \u001b[0mbool_debug\u001b[0m\u001b[0;34m=\u001b[0m\u001b[0;34m(\u001b[0m\u001b[0mi\u001b[0m \u001b[0;34m%\u001b[0m \u001b[0mplot_for_each\u001b[0m \u001b[0;34m==\u001b[0m \u001b[0;36m0\u001b[0m\u001b[0;34m)\u001b[0m\u001b[0;34m)\u001b[0m\u001b[0;34m\u001b[0m\u001b[0;34m\u001b[0m\u001b[0m\n\u001b[0m\u001b[1;32m    547\u001b[0m             \u001b[0;32melif\u001b[0m \u001b[0mself\u001b[0m\u001b[0;34m.\u001b[0m\u001b[0mnum_prop\u001b[0m\u001b[0;34m.\u001b[0m\u001b[0mtime_scheme\u001b[0m \u001b[0;32mis\u001b[0m \u001b[0;34m'rk4'\u001b[0m\u001b[0;34m:\u001b[0m\u001b[0;34m\u001b[0m\u001b[0;34m\u001b[0m\u001b[0m\n\u001b[1;32m    548\u001b[0m                 \u001b[0mself\u001b[0m\u001b[0;34m.\u001b[0m\u001b[0mrk4_timestep\u001b[0m\u001b[0;34m(\u001b[0m\u001b[0mdebug\u001b[0m\u001b[0;34m=\u001b[0m\u001b[0mdebug\u001b[0m\u001b[0;34m,\u001b[0m \u001b[0mbool_debug\u001b[0m\u001b[0;34m=\u001b[0m\u001b[0;34m(\u001b[0m\u001b[0mi\u001b[0m \u001b[0;34m%\u001b[0m \u001b[0mplot_for_each\u001b[0m \u001b[0;34m==\u001b[0m \u001b[0;36m0\u001b[0m\u001b[0;34m)\u001b[0m\u001b[0;34m)\u001b[0m\u001b[0;34m\u001b[0m\u001b[0;34m\u001b[0m\u001b[0m\n",
      "\u001b[0;32m~/PycharmProjects/FluidDyn1D/src/main_discontinu.py\u001b[0m in \u001b[0;36meuler_timestep\u001b[0;34m(self, debug, bool_debug)\u001b[0m\n\u001b[1;32m    396\u001b[0m                 \u001b[0mself\u001b[0m\u001b[0;34m.\u001b[0m\u001b[0mintS_lda_gradT_n_dS\u001b[0m\u001b[0;34m[\u001b[0m\u001b[0mind_flux_to_change\u001b[0m\u001b[0;34m]\u001b[0m \u001b[0;34m=\u001b[0m \u001b[0mself\u001b[0m\u001b[0;34m.\u001b[0m\u001b[0mphy_prop\u001b[0m\u001b[0;34m.\u001b[0m\u001b[0mdS\u001b[0m \u001b[0;34m*\u001b[0m\u001b[0;31m \u001b[0m\u001b[0;31m\\\u001b[0m\u001b[0;34m\u001b[0m\u001b[0;34m\u001b[0m\u001b[0m\n\u001b[1;32m    397\u001b[0m                     ((cells.lda_f[1:] * cells.T[1:] - cells.lda_f[:-1] * cells.T[:-1]) -\n\u001b[0;32m--> 398\u001b[0;31m                      cells.T_f[1:3] * (cells.lda_f[1:] - cells.lda_f[:-1])) / self.num_prop.dx\n\u001b[0m\u001b[1;32m    399\u001b[0m \u001b[0;34m\u001b[0m\u001b[0m\n\u001b[1;32m    400\u001b[0m         \u001b[0mdV\u001b[0m \u001b[0;34m=\u001b[0m \u001b[0mself\u001b[0m\u001b[0;34m.\u001b[0m\u001b[0mphy_prop\u001b[0m\u001b[0;34m.\u001b[0m\u001b[0mdS\u001b[0m \u001b[0;34m*\u001b[0m \u001b[0mself\u001b[0m\u001b[0;34m.\u001b[0m\u001b[0mnum_prop\u001b[0m\u001b[0;34m.\u001b[0m\u001b[0mdx\u001b[0m\u001b[0;34m\u001b[0m\u001b[0;34m\u001b[0m\u001b[0m\n",
      "\u001b[0;31mValueError\u001b[0m: operands could not be broadcast together with shapes (3,) (4,) "
     ]
    }
   ],
   "source": [
    "print()\n",
    "prob = ProblemDiscontinuEnergieTemperature(get_T, markers=markers, phy_prop=phy_prop, num_prop=num_prop)\n",
    "E0 = prob.energy\n",
    "print(prob.name)\n",
    "print('==========================')\n",
    "plot = Plotter('classic')\n",
    "t, e = prob.timestep(n=n, number_of_plots=3, plotter=plot)\n",
    "\n",
    "fig1,ax1 = plt.subplots(1)\n",
    "ax1.set_title('Énergie en fonction du temps')\n",
    "l = ax1.plot(t, e/(0.02*0.005*0.005), label=prob.name)\n",
    "le = fig1.legend()\n",
    "\n",
    "# plot.ax.plot(prob.bulles.markers.flatten(), prob.bulles.T.flatten(), 'r+')\n",
    "# plot.ax.plot(prob.bulles.markers.flatten(), prob.bulles.Tg.flatten(), 'g+')\n",
    "# plot.ax.plot(prob.bulles.markers.flatten(), prob.bulles.Td.flatten(), 'b+')\n",
    "\n",
    "n = len(e)\n",
    "i0 = int(n/5)\n",
    "dedt_adim = (e[-1] - e[i0]) / (t[-1] - t[i0]) * prob.dt / E0  # on a mult\n",
    "# par Dt / rho_cp_l T_l V\n",
    "print('dE*/dt* = %g' % dedt_adim)\n",
    "plt.figure()\n",
    "plt.plot(prob.num_prop.x, prob.rho_cp_a*prob.T)\n",
    "print(prob.T)"
   ]
  }
 ],
 "metadata": {
  "hide_input": false,
  "kernelspec": {
   "display_name": "venv-flu1d",
   "language": "python",
   "name": "venv-flu1d"
  },
  "language_info": {
   "codemirror_mode": {
    "name": "ipython",
    "version": 3
   },
   "file_extension": ".py",
   "mimetype": "text/x-python",
   "name": "python",
   "nbconvert_exporter": "python",
   "pygments_lexer": "ipython3",
   "version": "3.6.9"
  },
  "toc": {
   "base_numbering": 1,
   "nav_menu": {},
   "number_sections": true,
   "sideBar": true,
   "skip_h1_title": false,
   "title_cell": "Table of Contents",
   "title_sidebar": "Contents",
   "toc_cell": false,
   "toc_position": {},
   "toc_section_display": true,
   "toc_window_display": false
  },
  "toc-autonumbering": true,
  "toc-showcode": false,
  "toc-showmarkdowntxt": true,
  "widgets": {
   "application/vnd.jupyter.widget-state+json": {
    "state": {
     "10184c520fb0431c97931d01f1f7a4e3": {
      "model_module": "@jupyter-widgets/base",
      "model_module_version": "1.2.0",
      "model_name": "LayoutModel",
      "state": {}
     },
     "20e5da45a4904fc99d88352a9a9d0226": {
      "model_module": "jupyter-matplotlib",
      "model_module_version": "^0.9.0",
      "model_name": "ToolbarModel",
      "state": {
       "layout": "IPY_MODEL_10184c520fb0431c97931d01f1f7a4e3",
       "toolitems": [
        [
         "Home",
         "Reset original view",
         "home",
         "home"
        ],
        [
         "Back",
         "Back to previous view",
         "arrow-left",
         "back"
        ],
        [
         "Forward",
         "Forward to next view",
         "arrow-right",
         "forward"
        ],
        [
         "Pan",
         "Left button pans, Right button zooms\nx/y fixes axis, CTRL fixes aspect",
         "arrows",
         "pan"
        ],
        [
         "Zoom",
         "Zoom to rectangle\nx/y fixes axis, CTRL fixes aspect",
         "square-o",
         "zoom"
        ],
        [
         "Download",
         "Download plot",
         "floppy-o",
         "save_figure"
        ]
       ]
      }
     },
     "905b6dd5e04d4f209ca2508330abc063": {
      "model_module": "jupyter-matplotlib",
      "model_module_version": "^0.9.0",
      "model_name": "MPLCanvasModel",
      "state": {
       "_cursor": "default",
       "_figure_label": "Figure 1",
       "_height": 500,
       "_width": 1000,
       "layout": "IPY_MODEL_c4667c02f2cd4255954b4018e5d52c77",
       "toolbar": "IPY_MODEL_20e5da45a4904fc99d88352a9a9d0226",
       "toolbar_position": "left"
      }
     },
     "c4667c02f2cd4255954b4018e5d52c77": {
      "model_module": "@jupyter-widgets/base",
      "model_module_version": "1.2.0",
      "model_name": "LayoutModel",
      "state": {}
     }
    },
    "version_major": 2,
    "version_minor": 0
   }
  }
 },
 "nbformat": 4,
 "nbformat_minor": 5
}
