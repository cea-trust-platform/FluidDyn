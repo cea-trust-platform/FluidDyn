{
 "cells": [
  {
   "cell_type": "markdown",
   "id": "ff85bb10",
   "metadata": {
    "tags": []
   },
   "source": [
    "# Test de l'opérateur ProblemDiscontinu"
   ]
  },
  {
   "cell_type": "code",
   "execution_count": 1,
   "id": "e49fd762-a10b-480b-a7f0-42f77b843c13",
   "metadata": {},
   "outputs": [],
   "source": [
    "import sys\n",
    "\n",
    "sys.path = ['/home/as259691/PycharmProjects/FluidDyn1D'] + sys.path"
   ]
  },
  {
   "cell_type": "code",
   "execution_count": 2,
   "id": "2ffdef2c-8113-431a-83f2-31a80cc46285",
   "metadata": {},
   "outputs": [],
   "source": [
    "from src.main_discontinu import *\n",
    "from src.plot_fields import *\n",
    "\n",
    "%matplotlib widget\n",
    "rc('figure', figsize=(10,5))\n",
    "rc('figure', dpi=100)"
   ]
  },
  {
   "cell_type": "markdown",
   "id": "de8be792",
   "metadata": {},
   "source": [
    "## Paramètres de la simulation\n",
    "\n",
    "Ici on va réaliser une simulation sans diffusion pour différentes écritures de notre équation thermique.\n",
    "\n",
    "La résolution se fait à chaque fois en WENO avec Euler explicite en temps."
   ]
  },
  {
   "cell_type": "code",
   "execution_count": 3,
   "id": "2cf88d33-cb27-4f28-8811-d7e07d8adb05",
   "metadata": {},
   "outputs": [],
   "source": [
    "# d = 6./100*Delta/2.\n",
    "phy_prop = PhysicalProperties(Delta=0.02, v=0., dS=0.005**2,\n",
    "                              lda1=5.5*10**-2, lda2=15.5, rho_cp1=70278., rho_cp2=702780., diff=1.,\n",
    "                              alpha=0.06, a_i=357.)\n",
    "num_prop = NumericalProperties(dx=3.9*10**-5, schema='upwind', time_scheme='euler', phy_prop=phy_prop, cfl=0.5)\n",
    "markers = BulleTemperature(phy_prop=phy_prop, x=num_prop.x, n_bulle=1)\n",
    "markers.shift(0.00001)\n",
    "# markers = Bulles(phy_prop=phy_prop)"
   ]
  },
  {
   "cell_type": "code",
   "execution_count": 4,
   "id": "5e54f556-6441-4d89-8bf5-c4b18e727ab5",
   "metadata": {},
   "outputs": [],
   "source": [
    "n_lim = 1\n",
    "t_fin_lim = 0.01"
   ]
  },
  {
   "cell_type": "code",
   "execution_count": 5,
   "id": "994cb9d1",
   "metadata": {},
   "outputs": [
    {
     "name": "stdout",
     "output_type": "stream",
     "text": [
      "dt fourier\n",
      "6.918433404737903e-06\n",
      "Cas : diffusion, euler, upwind, dx = 3.90625e-05, dt = 6.91843e-06\n",
      "==========================\n"
     ]
    },
    {
     "data": {
      "application/vnd.jupyter.widget-view+json": {
       "model_id": "14373f802da943c9bab7cd889d631a76",
       "version_major": 2,
       "version_minor": 0
      },
      "text/plain": [
       "Canvas(toolbar=Toolbar(toolitems=[('Home', 'Reset original view', 'home', 'home'), ('Back', 'Back to previous …"
      ]
     },
     "metadata": {},
     "output_type": "display_data"
    },
    {
     "data": {
      "application/vnd.jupyter.widget-view+json": {
       "model_id": "e371e2430a3b4851bb3bc78f0729070f",
       "version_major": 2,
       "version_minor": 0
      },
      "text/plain": [
       "Canvas(toolbar=Toolbar(toolitems=[('Home', 'Reset original view', 'home', 'home'), ('Back', 'Back to previous …"
      ]
     },
     "metadata": {},
     "output_type": "display_data"
    },
    {
     "name": "stdout",
     "output_type": "stream",
     "text": [
      "dE*/dt* = -1.66804e-16\n"
     ]
    }
   ],
   "source": [
    "t_fin = 0.2\n",
    "prob = ProblemDiscontinu(get_T_creneau, markers=markers, phy_prop=phy_prop, num_prop=num_prop, interp_type='Ti')\n",
    "E0 = prob.energy\n",
    "print(prob.name)\n",
    "print('==========================')\n",
    "plot = Plotter('classic')\n",
    "t, e = prob.timestep(t_fin=min(t_fin, t_fin_lim), n=n_lim, number_of_plots=1, plotter=plot)\n",
    "\n",
    "fig1,ax1 = plt.subplots(1)\n",
    "ax1.set_title('Énergie en fonction du temps')\n",
    "l = ax1.plot(t, e/(0.02*0.005*0.005), label=prob.name)\n",
    "le = fig1.legend()\n",
    "\n",
    "# plot.ax.plot(prob.bulles.markers.flatten(), prob.bulles.T.flatten(), 'r+')\n",
    "# plot.ax.plot(prob.bulles.markers.flatten(), prob.bulles.Tg.flatten(), 'g+')\n",
    "# plot.ax.plot(prob.bulles.markers.flatten(), prob.bulles.Td.flatten(), 'b+')\n",
    "\n",
    "n = len(e)\n",
    "i0 = int(n/5)\n",
    "dedt_adim = (e[-1] - e[i0]) / (t[-1] - t[i0]) * prob.dt / E0  # on a mult\n",
    "# par Dt / rho_cp_l T_l V\n",
    "print('dE*/dt* = %g' % dedt_adim)"
   ]
  },
  {
   "cell_type": "code",
   "execution_count": 6,
   "id": "753e0db2-2929-4ea0-a5fa-6435884c7665",
   "metadata": {},
   "outputs": [
    {
     "name": "stdout",
     "output_type": "stream",
     "text": [
      "dt fourier\n",
      "6.918433404737903e-06\n",
      "Cas : diffusion, euler, upwind, dx = 3.90625e-05, dt = 6.91843e-06\n",
      "==========================\n"
     ]
    },
    {
     "data": {
      "application/vnd.jupyter.widget-view+json": {
       "model_id": "eb7141876fce4750a2b39fa4bed58738",
       "version_major": 2,
       "version_minor": 0
      },
      "text/plain": [
       "Canvas(toolbar=Toolbar(toolitems=[('Home', 'Reset original view', 'home', 'home'), ('Back', 'Back to previous …"
      ]
     },
     "metadata": {},
     "output_type": "display_data"
    },
    {
     "data": {
      "application/vnd.jupyter.widget-view+json": {
       "model_id": "9d6b80fb1ce94dd2b404fc4f9c52aa38",
       "version_major": 2,
       "version_minor": 0
      },
      "text/plain": [
       "Canvas(toolbar=Toolbar(toolitems=[('Home', 'Reset original view', 'home', 'home'), ('Back', 'Back to previous …"
      ]
     },
     "metadata": {},
     "output_type": "display_data"
    },
    {
     "name": "stdout",
     "output_type": "stream",
     "text": [
      "dE*/dt* = 0\n"
     ]
    }
   ],
   "source": [
    "t_fin = 0.2\n",
    "prob = ProblemDiscontinu(get_T_creneau, markers=markers, phy_prop=phy_prop, num_prop=num_prop, interp_type='gradTi')\n",
    "E0 = prob.energy\n",
    "print(prob.name)\n",
    "print('==========================')\n",
    "plot = Plotter('classic')\n",
    "t, e = prob.timestep(n=n_lim,t_fin=min(t_fin, t_fin_lim), number_of_plots=2, plotter=plot)\n",
    "\n",
    "fig1,ax1 = plt.subplots(1)\n",
    "ax1.set_title('Énergie en fonction du temps')\n",
    "l = ax1.plot(t, e/(0.02*0.005*0.005), label=prob.name)\n",
    "le = fig1.legend()\n",
    "\n",
    "# plot.ax.plot(prob.bulles.markers.flatten(), prob.bulles.T.flatten(), 'r+')\n",
    "# plot.ax.plot(prob.bulles.markers.flatten(), prob.bulles.Tg.flatten(), 'g+')\n",
    "# plot.ax.plot(prob.bulles.markers.flatten(), prob.bulles.Td.flatten(), 'b+')\n",
    "\n",
    "n = len(e)\n",
    "i0 = int(n/5)\n",
    "dedt_adim = (e[-1] - e[i0]) / (t[-1] - t[i0]) * prob.dt / E0  # on a mult\n",
    "# par Dt / rho_cp_l T_l V\n",
    "print('dE*/dt* = %g' % dedt_adim)"
   ]
  },
  {
   "cell_type": "code",
   "execution_count": 7,
   "id": "5a157bf3-afb7-406b-96d0-98005700e97d",
   "metadata": {},
   "outputs": [
    {
     "name": "stdout",
     "output_type": "stream",
     "text": [
      "dt fourier\n",
      "6.918433404737903e-06\n",
      "Cas : diffusion, euler, upwind, dx = 3.90625e-05, dt = 6.91843e-06\n",
      "==========================\n"
     ]
    },
    {
     "data": {
      "application/vnd.jupyter.widget-view+json": {
       "model_id": "a2899cf51b3c4dc3ae91d0f735f22240",
       "version_major": 2,
       "version_minor": 0
      },
      "text/plain": [
       "Canvas(toolbar=Toolbar(toolitems=[('Home', 'Reset original view', 'home', 'home'), ('Back', 'Back to previous …"
      ]
     },
     "metadata": {},
     "output_type": "display_data"
    },
    {
     "data": {
      "application/vnd.jupyter.widget-view+json": {
       "model_id": "28a31c637bcf459096cc628040601714",
       "version_major": 2,
       "version_minor": 0
      },
      "text/plain": [
       "Canvas(toolbar=Toolbar(toolitems=[('Home', 'Reset original view', 'home', 'home'), ('Back', 'Back to previous …"
      ]
     },
     "metadata": {},
     "output_type": "display_data"
    },
    {
     "name": "stdout",
     "output_type": "stream",
     "text": [
      "dE*/dt* = 0\n"
     ]
    }
   ],
   "source": [
    "t_fin = 0.2\n",
    "prob = ProblemDiscontinu(get_T_creneau, markers=markers, phy_prop=phy_prop, num_prop=num_prop, interp_type='gradTi2')\n",
    "E0 = prob.energy\n",
    "print(prob.name)\n",
    "print('==========================')\n",
    "plot = Plotter('classic')\n",
    "t, e = prob.timestep(n=n_lim,t_fin=min(t_fin, t_fin_lim), number_of_plots=2, plotter=plot)\n",
    "\n",
    "fig1,ax1 = plt.subplots(1)\n",
    "ax1.set_title('Énergie en fonction du temps')\n",
    "l = ax1.plot(t, e/(0.02*0.005*0.005), label=prob.name)\n",
    "le = fig1.legend()\n",
    "\n",
    "# plot.ax.plot(prob.bulles.markers.flatten(), prob.bulles.T.flatten(), 'r+')\n",
    "# plot.ax.plot(prob.bulles.markers.flatten(), prob.bulles.Tg.flatten(), 'g+')\n",
    "# plot.ax.plot(prob.bulles.markers.flatten(), prob.bulles.Td.flatten(), 'b+')\n",
    "\n",
    "n = len(e)\n",
    "i0 = int(n/5)\n",
    "dedt_adim = (e[-1] - e[i0]) / (t[-1] - t[i0]) * prob.dt / E0  # on a mult\n",
    "# par Dt / rho_cp_l T_l V\n",
    "print('dE*/dt* = %g' % dedt_adim)"
   ]
  },
  {
   "cell_type": "markdown",
   "id": "9468a91a-1cbf-4f9a-b3b3-d87879c1cab1",
   "metadata": {},
   "source": [
    "## Test de la convection\n",
    "\n",
    "Ici on met une vitesse de convection, et on supprime artificiellement la diffusion.\n",
    "\n",
    "Pour augmenter la facilité du cas, on le réalise sur une température initiale continue."
   ]
  },
  {
   "cell_type": "code",
   "execution_count": 8,
   "id": "ac60047f-9a5a-4f0b-8b26-b7a33926b6e1",
   "metadata": {},
   "outputs": [],
   "source": [
    "phy_prop = PhysicalProperties(Delta=0.02, v=0.2, dS=0.005**2,\n",
    "                              lda1=5.5*10**-2, lda2=15.5, rho_cp1=70278., rho_cp2=702780., diff=0.,\n",
    "                              alpha=0.06, a_i=357.)\n",
    "num_prop = NumericalProperties(dx=1*10**-5, schema='upwind', time_scheme='euler', phy_prop=phy_prop, cfl=0.5, fo=10.**250)\n",
    "markers = BulleTemperature(phy_prop=phy_prop, x=num_prop.x, n_bulle=1)\n",
    "markers.shift(0.00001)"
   ]
  },
  {
   "cell_type": "code",
   "execution_count": 14,
   "id": "6c4762a8-a154-48ac-b18e-5119dfe6521f",
   "metadata": {},
   "outputs": [
    {
     "name": "stdout",
     "output_type": "stream",
     "text": [
      "dt fourier\n",
      "4.538601983461999e-07\n",
      "Cas : convection, euler, upwind, dx = 1.0005e-05, cfl = 0.00907267\n",
      "==========================\n"
     ]
    },
    {
     "data": {
      "application/vnd.jupyter.widget-view+json": {
       "model_id": "e28f4e1d679d4104a0706a03a58c353c",
       "version_major": 2,
       "version_minor": 0
      },
      "text/plain": [
       "Canvas(toolbar=Toolbar(toolitems=[('Home', 'Reset original view', 'home', 'home'), ('Back', 'Back to previous …"
      ]
     },
     "metadata": {},
     "output_type": "display_data"
    },
    {
     "data": {
      "application/vnd.jupyter.widget-view+json": {
       "model_id": "eae02b7025224a80a0eae6fad1310af0",
       "version_major": 2,
       "version_minor": 0
      },
      "text/plain": [
       "Canvas(toolbar=Toolbar(toolitems=[('Home', 'Reset original view', 'home', 'home'), ('Back', 'Back to previous …"
      ]
     },
     "metadata": {},
     "output_type": "display_data"
    },
    {
     "name": "stdout",
     "output_type": "stream",
     "text": [
      "dE*/dt* = 0\n"
     ]
    }
   ],
   "source": [
    "prob = ProblemDiscontinu(get_T, markers=markers, phy_prop=phy_prop, num_prop=num_prop, interp_type='Ti')\n",
    "E0 = prob.energy\n",
    "print(prob.name)\n",
    "print('==========================')\n",
    "plot = Plotter('classic')\n",
    "t, e = prob.timestep(t_fin=min(t_fin, t_fin_lim), n=n_lim, number_of_plots=1, plotter=plot)\n",
    "\n",
    "fig1,ax1 = plt.subplots(1)\n",
    "ax1.set_title('Énergie en fonction du temps')\n",
    "l = ax1.plot(t, e/(0.02*0.005*0.005), label=prob.name)\n",
    "le = fig1.legend()\n",
    "\n",
    "# plot.ax.plot(prob.bulles.markers.flatten(), prob.bulles.T.flatten(), 'r+')\n",
    "# plot.ax.plot(prob.bulles.markers.flatten(), prob.bulles.Tg.flatten(), 'g+')\n",
    "# plot.ax.plot(prob.bulles.markers.flatten(), prob.bulles.Td.flatten(), 'b+')\n",
    "\n",
    "n = len(e)\n",
    "i0 = int(n/5)\n",
    "dedt_adim = (e[-1] - e[i0]) / (t[-1] - t[i0]) * prob.dt / E0  # on a mult\n",
    "# par Dt / rho_cp_l T_l V\n",
    "print('dE*/dt* = %g' % dedt_adim)"
   ]
  },
  {
   "cell_type": "code",
   "execution_count": 10,
   "id": "a4b1a479-e08b-4e40-b900-57d0523b1865",
   "metadata": {},
   "outputs": [
    {
     "name": "stdout",
     "output_type": "stream",
     "text": [
      "\n",
      "dt cfl\n",
      "2.501250625312656e-05\n",
      "Cas : convection, euler, upwind, dx = 1.0005e-05, cfl = 0.5\n",
      "==========================\n"
     ]
    },
    {
     "data": {
      "application/vnd.jupyter.widget-view+json": {
       "model_id": "08e59829438d4775b99b12772eeab9f9",
       "version_major": 2,
       "version_minor": 0
      },
      "text/plain": [
       "Canvas(toolbar=Toolbar(toolitems=[('Home', 'Reset original view', 'home', 'home'), ('Back', 'Back to previous …"
      ]
     },
     "metadata": {},
     "output_type": "display_data"
    },
    {
     "data": {
      "application/vnd.jupyter.widget-view+json": {
       "model_id": "8a03bebf5f0b49458b2f831a607b5f23",
       "version_major": 2,
       "version_minor": 0
      },
      "text/plain": [
       "Canvas(toolbar=Toolbar(toolitems=[('Home', 'Reset original view', 'home', 'home'), ('Back', 'Back to previous …"
      ]
     },
     "metadata": {},
     "output_type": "display_data"
    },
    {
     "name": "stdout",
     "output_type": "stream",
     "text": [
      "dE*/dt* = 0\n"
     ]
    },
    {
     "data": {
      "application/vnd.jupyter.widget-view+json": {
       "model_id": "02f2e68bb35a4f4dae0121fda24fb1f4",
       "version_major": 2,
       "version_minor": 0
      },
      "text/plain": [
       "Canvas(toolbar=Toolbar(toolitems=[('Home', 'Reset original view', 'home', 'home'), ('Back', 'Back to previous …"
      ]
     },
     "metadata": {},
     "output_type": "display_data"
    },
    {
     "name": "stdout",
     "output_type": "stream",
     "text": [
      "[0.97259754 0.97318586 0.97376954 ... 0.97080487 0.97140704 0.9720046 ]\n"
     ]
    }
   ],
   "source": [
    "print()\n",
    "prob = ProblemDiscontinu(get_T, markers=markers, phy_prop=phy_prop, num_prop=num_prop, interp_type='gradTi')\n",
    "E0 = prob.energy\n",
    "print(prob.name)\n",
    "print('==========================')\n",
    "plot = Plotter('decale')\n",
    "t, e = prob.timestep(n=n, t_fin=t_fin, number_of_plots=1, plotter=plot)\n",
    "\n",
    "fig1,ax1 = plt.subplots(1)\n",
    "ax1.set_title('Énergie en fonction du temps')\n",
    "l = ax1.plot(t, e/(0.02*0.005*0.005), label=prob.name)\n",
    "le = fig1.legend()\n",
    "\n",
    "# plot.ax.plot(prob.bulles.markers.flatten(), prob.bulles.T.flatten(), 'r+')\n",
    "# plot.ax.plot(prob.bulles.markers.flatten(), prob.bulles.Tg.flatten(), 'g+')\n",
    "# plot.ax.plot(prob.bulles.markers.flatten(), prob.bulles.Td.flatten(), 'b+')\n",
    "\n",
    "n = len(e)\n",
    "i0 = int(n/5)\n",
    "dedt_adim = (e[-1] - e[i0]) / (t[-1] - t[i0]) * prob.dt / E0  # on a mult\n",
    "# par Dt / rho_cp_l T_l V\n",
    "print('dE*/dt* = %g' % dedt_adim)\n",
    "plt.figure()\n",
    "plt.plot(prob.num_prop.x, prob.rho_cp_a*prob.T)\n",
    "print(prob.T)"
   ]
  },
  {
   "cell_type": "code",
   "execution_count": 11,
   "id": "a9735357-634e-497a-a75e-fd8b9dbee6d6",
   "metadata": {},
   "outputs": [
    {
     "name": "stdout",
     "output_type": "stream",
     "text": [
      "\n",
      "dt cfl\n",
      "2.501250625312656e-05\n",
      "Cas : convection, euler, upwind, dx = 1.0005e-05, cfl = 0.5\n",
      "==========================\n"
     ]
    },
    {
     "data": {
      "application/vnd.jupyter.widget-view+json": {
       "model_id": "250745606990419482637905acef2467",
       "version_major": 2,
       "version_minor": 0
      },
      "text/plain": [
       "Canvas(toolbar=Toolbar(toolitems=[('Home', 'Reset original view', 'home', 'home'), ('Back', 'Back to previous …"
      ]
     },
     "metadata": {},
     "output_type": "display_data"
    },
    {
     "data": {
      "application/vnd.jupyter.widget-view+json": {
       "model_id": "acb49351475b454da91df178e2e5847a",
       "version_major": 2,
       "version_minor": 0
      },
      "text/plain": [
       "Canvas(toolbar=Toolbar(toolitems=[('Home', 'Reset original view', 'home', 'home'), ('Back', 'Back to previous …"
      ]
     },
     "metadata": {},
     "output_type": "display_data"
    },
    {
     "name": "stdout",
     "output_type": "stream",
     "text": [
      "dE*/dt* = 0\n"
     ]
    },
    {
     "data": {
      "application/vnd.jupyter.widget-view+json": {
       "model_id": "b4daa837941a42fab243ab397f59e3b1",
       "version_major": 2,
       "version_minor": 0
      },
      "text/plain": [
       "Canvas(toolbar=Toolbar(toolitems=[('Home', 'Reset original view', 'home', 'home'), ('Back', 'Back to previous …"
      ]
     },
     "metadata": {},
     "output_type": "display_data"
    },
    {
     "name": "stdout",
     "output_type": "stream",
     "text": [
      "[0.97230107 0.9728917  0.9734777  ... 0.97050148 0.97110596 0.97170582]\n"
     ]
    }
   ],
   "source": [
    "print()\n",
    "prob = ProblemDiscontinu(get_T, markers=markers, phy_prop=phy_prop, num_prop=num_prop, interp_type='gradTi2')\n",
    "E0 = prob.energy\n",
    "print(prob.name)\n",
    "print('==========================')\n",
    "plot = Plotter('decale')\n",
    "t, e = prob.timestep(n=n, t_fin=t_fin, number_of_plots=1, plotter=plot)\n",
    "\n",
    "fig1,ax1 = plt.subplots(1)\n",
    "ax1.set_title('Énergie en fonction du temps')\n",
    "l = ax1.plot(t, e/(0.02*0.005*0.005), label=prob.name)\n",
    "le = fig1.legend()\n",
    "\n",
    "# plot.ax.plot(prob.bulles.markers.flatten(), prob.bulles.T.flatten(), 'r+')\n",
    "# plot.ax.plot(prob.bulles.markers.flatten(), prob.bulles.Tg.flatten(), 'g+')\n",
    "# plot.ax.plot(prob.bulles.markers.flatten(), prob.bulles.Td.flatten(), 'b+')\n",
    "\n",
    "n = len(e)\n",
    "i0 = int(n/5)\n",
    "dedt_adim = (e[-1] - e[i0]) / (t[-1] - t[i0]) * prob.dt / E0  # on a mult\n",
    "# par Dt / rho_cp_l T_l V\n",
    "print('dE*/dt* = %g' % dedt_adim)\n",
    "plt.figure()\n",
    "plt.plot(prob.num_prop.x, prob.rho_cp_a*prob.T)\n",
    "print(prob.T)"
   ]
  },
  {
   "cell_type": "markdown",
   "id": "f9332e9f-6290-4d94-bfe2-cf0efec2cf52",
   "metadata": {},
   "source": [
    "# Probleme discontinu traité en déduisant $T_g^c$ et $T_d^c$ de T et h"
   ]
  },
  {
   "cell_type": "code",
   "execution_count": 12,
   "id": "6be12385-75df-49da-8ce0-8e9f59ff1bda",
   "metadata": {},
   "outputs": [],
   "source": [
    "# d = 6./100*Delta/2.\n",
    "phy_prop = PhysicalProperties(Delta=0.02, v=0.2, dS=0.005**2,\n",
    "                              lda1=5.5*10**-2, lda2=15.5, rho_cp1=70278., rho_cp2=702780., diff=0.,\n",
    "                              alpha=0.06, a_i=357.)\n",
    "# num_prop = NumericalProperties(dx=3.9*10**-5, schema='upwind', time_scheme='euler', phy_prop=phy_prop, cfl=0.5)\n",
    "num_prop = NumericalProperties(dx=1*10**-5, schema='upwind', time_scheme='euler', phy_prop=phy_prop, cfl=1.)\n",
    "markers = BulleTemperature(phy_prop=phy_prop, x=num_prop.x, n_bulle=1)\n",
    "markers.shift(0.00001)\n",
    "# markers = Bulles(phy_prop=phy_prop)\n",
    "\n",
    "n = 300\n",
    "# t_fin = 0.01"
   ]
  },
  {
   "cell_type": "code",
   "execution_count": 13,
   "id": "b8efbf1a-3554-4b77-840a-15cb6e140d2d",
   "metadata": {},
   "outputs": [
    {
     "name": "stdout",
     "output_type": "stream",
     "text": [
      "\n",
      "dt fourier\n",
      "4.538601983461999e-07\n",
      "Cas : convection, euler, upwind, dx = 1.0005e-05, cfl = 0.00907267\n",
      "==========================\n"
     ]
    },
    {
     "data": {
      "application/vnd.jupyter.widget-view+json": {
       "model_id": "a8af9efdf5a44c0595e8b6b42f8693f3",
       "version_major": 2,
       "version_minor": 0
      },
      "text/plain": [
       "Canvas(toolbar=Toolbar(toolitems=[('Home', 'Reset original view', 'home', 'home'), ('Back', 'Back to previous …"
      ]
     },
     "metadata": {},
     "output_type": "display_data"
    },
    {
     "data": {
      "application/vnd.jupyter.widget-view+json": {
       "model_id": "d937c1ef06f74d1797e9636fb94443d9",
       "version_major": 2,
       "version_minor": 0
      },
      "text/plain": [
       "Canvas(toolbar=Toolbar(toolitems=[('Home', 'Reset original view', 'home', 'home'), ('Back', 'Back to previous …"
      ]
     },
     "metadata": {},
     "output_type": "display_data"
    },
    {
     "name": "stdout",
     "output_type": "stream",
     "text": [
      "dE*/dt* = 1.17118e-08\n"
     ]
    },
    {
     "data": {
      "application/vnd.jupyter.widget-view+json": {
       "model_id": "cb3131f73d99456bb9f6bd4d6dbd129d",
       "version_major": 2,
       "version_minor": 0
      },
      "text/plain": [
       "Canvas(toolbar=Toolbar(toolitems=[('Home', 'Reset original view', 'home', 'home'), ('Back', 'Back to previous …"
      ]
     },
     "metadata": {},
     "output_type": "display_data"
    },
    {
     "name": "stdout",
     "output_type": "stream",
     "text": [
      "[0.9731817  0.97376543 0.97434452 ... 0.97140275 0.97200036 0.97259334]\n"
     ]
    }
   ],
   "source": [
    "print()\n",
    "prob = ProblemDiscontinuEnergieTemperature(get_T, markers=markers, phy_prop=phy_prop, num_prop=num_prop)\n",
    "E0 = prob.energy\n",
    "print(prob.name)\n",
    "print('==========================')\n",
    "plot = Plotter('classic')\n",
    "t, e = prob.timestep(n=min(n, n_lim), number_of_plots=3, plotter=plot)\n",
    "\n",
    "fig1,ax1 = plt.subplots(1)\n",
    "ax1.set_title('Énergie en fonction du temps')\n",
    "l = ax1.plot(t, e/(0.02*0.005*0.005), label=prob.name)\n",
    "le = fig1.legend()\n",
    "\n",
    "# plot.ax.plot(prob.bulles.markers.flatten(), prob.bulles.T.flatten(), 'r+')\n",
    "# plot.ax.plot(prob.bulles.markers.flatten(), prob.bulles.Tg.flatten(), 'g+')\n",
    "# plot.ax.plot(prob.bulles.markers.flatten(), prob.bulles.Td.flatten(), 'b+')\n",
    "\n",
    "n = len(e)\n",
    "i0 = int(n/5)\n",
    "dedt_adim = (e[-1] - e[i0]) / (t[-1] - t[i0]) * prob.dt / E0  # on a mult\n",
    "# par Dt / rho_cp_l T_l V\n",
    "print('dE*/dt* = %g' % dedt_adim)\n",
    "plt.figure()\n",
    "plt.plot(prob.num_prop.x, prob.rho_cp_a*prob.T)\n",
    "print(prob.T)"
   ]
  }
 ],
 "metadata": {
  "hide_input": false,
  "kernelspec": {
   "display_name": "venv-flu1d",
   "language": "python",
   "name": "venv-flu1d"
  },
  "language_info": {
   "codemirror_mode": {
    "name": "ipython",
    "version": 3
   },
   "file_extension": ".py",
   "mimetype": "text/x-python",
   "name": "python",
   "nbconvert_exporter": "python",
   "pygments_lexer": "ipython3",
   "version": "3.6.9"
  },
  "toc": {
   "base_numbering": 1,
   "nav_menu": {},
   "number_sections": true,
   "sideBar": true,
   "skip_h1_title": false,
   "title_cell": "Table of Contents",
   "title_sidebar": "Contents",
   "toc_cell": false,
   "toc_position": {},
   "toc_section_display": true,
   "toc_window_display": false
  },
  "toc-autonumbering": true,
  "toc-showcode": false,
  "toc-showmarkdowntxt": true,
  "widgets": {
   "application/vnd.jupyter.widget-state+json": {
    "state": {
     "006753f71e6d4f0bbee75ac9f8cb3669": {
      "model_module": "jupyter-matplotlib",
      "model_module_version": "^0.9.0",
      "model_name": "ToolbarModel",
      "state": {
       "_current_action": "zoom",
       "layout": "IPY_MODEL_77a1a1ce79c445a2b55947bce9f496a2",
       "toolitems": [
        [
         "Home",
         "Reset original view",
         "home",
         "home"
        ],
        [
         "Back",
         "Back to previous view",
         "arrow-left",
         "back"
        ],
        [
         "Forward",
         "Forward to next view",
         "arrow-right",
         "forward"
        ],
        [
         "Pan",
         "Left button pans, Right button zooms\nx/y fixes axis, CTRL fixes aspect",
         "arrows",
         "pan"
        ],
        [
         "Zoom",
         "Zoom to rectangle\nx/y fixes axis, CTRL fixes aspect",
         "square-o",
         "zoom"
        ],
        [
         "Download",
         "Download plot",
         "floppy-o",
         "save_figure"
        ]
       ]
      }
     },
     "015c6ff525464dedbc919dc95e31fe9b": {
      "model_module": "jupyter-matplotlib",
      "model_module_version": "^0.9.0",
      "model_name": "ToolbarModel",
      "state": {
       "layout": "IPY_MODEL_e5bfd7fe3dca44eab59de4fbeb9c1802",
       "toolitems": [
        [
         "Home",
         "Reset original view",
         "home",
         "home"
        ],
        [
         "Back",
         "Back to previous view",
         "arrow-left",
         "back"
        ],
        [
         "Forward",
         "Forward to next view",
         "arrow-right",
         "forward"
        ],
        [
         "Pan",
         "Left button pans, Right button zooms\nx/y fixes axis, CTRL fixes aspect",
         "arrows",
         "pan"
        ],
        [
         "Zoom",
         "Zoom to rectangle\nx/y fixes axis, CTRL fixes aspect",
         "square-o",
         "zoom"
        ],
        [
         "Download",
         "Download plot",
         "floppy-o",
         "save_figure"
        ]
       ]
      }
     },
     "02e8817ee0924766ba34e30b1a5dbc96": {
      "model_module": "@jupyter-widgets/base",
      "model_module_version": "1.2.0",
      "model_name": "LayoutModel",
      "state": {}
     },
     "02f2e68bb35a4f4dae0121fda24fb1f4": {
      "model_module": "jupyter-matplotlib",
      "model_module_version": "^0.9.0",
      "model_name": "MPLCanvasModel",
      "state": {
       "_cursor": "default",
       "_figure_label": "Figure 11",
       "_height": 500,
       "_width": 1000,
       "layout": "IPY_MODEL_7891c6774e3a4448bbfdf7a0095cb1bc",
       "toolbar": "IPY_MODEL_425ffcd1df4b46c389cd0221797bea52",
       "toolbar_position": "left"
      }
     },
     "08e59829438d4775b99b12772eeab9f9": {
      "model_module": "jupyter-matplotlib",
      "model_module_version": "^0.9.0",
      "model_name": "MPLCanvasModel",
      "state": {
       "_cursor": "default",
       "_figure_label": "Figure 9",
       "_height": 500,
       "_width": 1000,
       "layout": "IPY_MODEL_a16ce167b27746fa998de08d7506f900",
       "toolbar": "IPY_MODEL_84c39875bb964f53b82f096595a930fa",
       "toolbar_position": "left"
      }
     },
     "1180330ee69b473bbf3615d59158c20c": {
      "model_module": "@jupyter-widgets/base",
      "model_module_version": "1.2.0",
      "model_name": "LayoutModel",
      "state": {}
     },
     "1424fc530d9644b9be88892101bd1497": {
      "model_module": "jupyter-matplotlib",
      "model_module_version": "^0.9.0",
      "model_name": "ToolbarModel",
      "state": {
       "layout": "IPY_MODEL_02e8817ee0924766ba34e30b1a5dbc96",
       "toolitems": [
        [
         "Home",
         "Reset original view",
         "home",
         "home"
        ],
        [
         "Back",
         "Back to previous view",
         "arrow-left",
         "back"
        ],
        [
         "Forward",
         "Forward to next view",
         "arrow-right",
         "forward"
        ],
        [
         "Pan",
         "Left button pans, Right button zooms\nx/y fixes axis, CTRL fixes aspect",
         "arrows",
         "pan"
        ],
        [
         "Zoom",
         "Zoom to rectangle\nx/y fixes axis, CTRL fixes aspect",
         "square-o",
         "zoom"
        ],
        [
         "Download",
         "Download plot",
         "floppy-o",
         "save_figure"
        ]
       ]
      }
     },
     "14373f802da943c9bab7cd889d631a76": {
      "model_module": "jupyter-matplotlib",
      "model_module_version": "^0.9.0",
      "model_name": "MPLCanvasModel",
      "state": {
       "_cursor": "crosshair",
       "_figure_label": "Figure 1",
       "_height": 500,
       "_image_mode": "diff",
       "_message": "x= y=−6.1e+02",
       "_rubberband_y": 501,
       "_width": 1000,
       "layout": "IPY_MODEL_e5074445ef2541e7b067c542b6fc61ae",
       "toolbar": "IPY_MODEL_e62ed2934ab548fc88d353fdce72b6d1",
       "toolbar_position": "left"
      }
     },
     "169c2c60c9de427d889a7225189b44b6": {
      "model_module": "@jupyter-widgets/base",
      "model_module_version": "1.2.0",
      "model_name": "LayoutModel",
      "state": {}
     },
     "20ba843dd2894d68b55df6c0b62ee877": {
      "model_module": "jupyter-matplotlib",
      "model_module_version": "^0.9.0",
      "model_name": "ToolbarModel",
      "state": {
       "layout": "IPY_MODEL_66558c2479d4477ebd976de96eddbf03",
       "toolitems": [
        [
         "Home",
         "Reset original view",
         "home",
         "home"
        ],
        [
         "Back",
         "Back to previous view",
         "arrow-left",
         "back"
        ],
        [
         "Forward",
         "Forward to next view",
         "arrow-right",
         "forward"
        ],
        [
         "Pan",
         "Left button pans, Right button zooms\nx/y fixes axis, CTRL fixes aspect",
         "arrows",
         "pan"
        ],
        [
         "Zoom",
         "Zoom to rectangle\nx/y fixes axis, CTRL fixes aspect",
         "square-o",
         "zoom"
        ],
        [
         "Download",
         "Download plot",
         "floppy-o",
         "save_figure"
        ]
       ]
      }
     },
     "23464aad5b8b446baff22dd1a07c58e1": {
      "model_module": "@jupyter-widgets/base",
      "model_module_version": "1.2.0",
      "model_name": "LayoutModel",
      "state": {}
     },
     "250745606990419482637905acef2467": {
      "model_module": "jupyter-matplotlib",
      "model_module_version": "^0.9.0",
      "model_name": "MPLCanvasModel",
      "state": {
       "_cursor": "default",
       "_figure_label": "Figure 12",
       "_height": 500,
       "_width": 1000,
       "layout": "IPY_MODEL_c7aa46af9cd64101998d106e25b0fc17",
       "toolbar": "IPY_MODEL_5aa48bd67a3040eab367004aa006d95a",
       "toolbar_position": "left"
      }
     },
     "28a31c637bcf459096cc628040601714": {
      "model_module": "jupyter-matplotlib",
      "model_module_version": "^0.9.0",
      "model_name": "MPLCanvasModel",
      "state": {
       "_cursor": "default",
       "_figure_label": "Figure 6",
       "_height": 500,
       "_width": 1000,
       "layout": "IPY_MODEL_31c72efec1a14eac85f4f2335ba68176",
       "toolbar": "IPY_MODEL_ed593a54ef4c47a6b2075e5594a8a3a3",
       "toolbar_position": "left"
      }
     },
     "313cdcb5e8e8418abb9a0ddc7f513962": {
      "model_module": "jupyter-matplotlib",
      "model_module_version": "^0.9.0",
      "model_name": "ToolbarModel",
      "state": {
       "layout": "IPY_MODEL_ee3eb5e548384665b82570e7b76e653b",
       "toolitems": [
        [
         "Home",
         "Reset original view",
         "home",
         "home"
        ],
        [
         "Back",
         "Back to previous view",
         "arrow-left",
         "back"
        ],
        [
         "Forward",
         "Forward to next view",
         "arrow-right",
         "forward"
        ],
        [
         "Pan",
         "Left button pans, Right button zooms\nx/y fixes axis, CTRL fixes aspect",
         "arrows",
         "pan"
        ],
        [
         "Zoom",
         "Zoom to rectangle\nx/y fixes axis, CTRL fixes aspect",
         "square-o",
         "zoom"
        ],
        [
         "Download",
         "Download plot",
         "floppy-o",
         "save_figure"
        ]
       ]
      }
     },
     "31c72efec1a14eac85f4f2335ba68176": {
      "model_module": "@jupyter-widgets/base",
      "model_module_version": "1.2.0",
      "model_name": "LayoutModel",
      "state": {}
     },
     "3abb92b2103440148638d338187dc914": {
      "model_module": "@jupyter-widgets/base",
      "model_module_version": "1.2.0",
      "model_name": "LayoutModel",
      "state": {}
     },
     "3c03bf5db4494b51b424499057fc56a1": {
      "model_module": "@jupyter-widgets/base",
      "model_module_version": "1.2.0",
      "model_name": "LayoutModel",
      "state": {}
     },
     "425ffcd1df4b46c389cd0221797bea52": {
      "model_module": "jupyter-matplotlib",
      "model_module_version": "^0.9.0",
      "model_name": "ToolbarModel",
      "state": {
       "layout": "IPY_MODEL_4d19aac4b294477bade75d90bf4027c7",
       "toolitems": [
        [
         "Home",
         "Reset original view",
         "home",
         "home"
        ],
        [
         "Back",
         "Back to previous view",
         "arrow-left",
         "back"
        ],
        [
         "Forward",
         "Forward to next view",
         "arrow-right",
         "forward"
        ],
        [
         "Pan",
         "Left button pans, Right button zooms\nx/y fixes axis, CTRL fixes aspect",
         "arrows",
         "pan"
        ],
        [
         "Zoom",
         "Zoom to rectangle\nx/y fixes axis, CTRL fixes aspect",
         "square-o",
         "zoom"
        ],
        [
         "Download",
         "Download plot",
         "floppy-o",
         "save_figure"
        ]
       ]
      }
     },
     "4af966755a464419b52d4c245db645b7": {
      "model_module": "jupyter-matplotlib",
      "model_module_version": "^0.9.0",
      "model_name": "ToolbarModel",
      "state": {
       "layout": "IPY_MODEL_6a04542e11a848eba526b2859ab2a54c",
       "toolitems": [
        [
         "Home",
         "Reset original view",
         "home",
         "home"
        ],
        [
         "Back",
         "Back to previous view",
         "arrow-left",
         "back"
        ],
        [
         "Forward",
         "Forward to next view",
         "arrow-right",
         "forward"
        ],
        [
         "Pan",
         "Left button pans, Right button zooms\nx/y fixes axis, CTRL fixes aspect",
         "arrows",
         "pan"
        ],
        [
         "Zoom",
         "Zoom to rectangle\nx/y fixes axis, CTRL fixes aspect",
         "square-o",
         "zoom"
        ],
        [
         "Download",
         "Download plot",
         "floppy-o",
         "save_figure"
        ]
       ]
      }
     },
     "4c8fe1745ec54bf7887ce6791ca4d886": {
      "model_module": "jupyter-matplotlib",
      "model_module_version": "^0.9.0",
      "model_name": "ToolbarModel",
      "state": {
       "layout": "IPY_MODEL_ceab61b985c045ad856e9581452c074e",
       "toolitems": [
        [
         "Home",
         "Reset original view",
         "home",
         "home"
        ],
        [
         "Back",
         "Back to previous view",
         "arrow-left",
         "back"
        ],
        [
         "Forward",
         "Forward to next view",
         "arrow-right",
         "forward"
        ],
        [
         "Pan",
         "Left button pans, Right button zooms\nx/y fixes axis, CTRL fixes aspect",
         "arrows",
         "pan"
        ],
        [
         "Zoom",
         "Zoom to rectangle\nx/y fixes axis, CTRL fixes aspect",
         "square-o",
         "zoom"
        ],
        [
         "Download",
         "Download plot",
         "floppy-o",
         "save_figure"
        ]
       ]
      }
     },
     "4d19aac4b294477bade75d90bf4027c7": {
      "model_module": "@jupyter-widgets/base",
      "model_module_version": "1.2.0",
      "model_name": "LayoutModel",
      "state": {}
     },
     "4e62622d599c41de98fbbb88f161fad0": {
      "model_module": "@jupyter-widgets/base",
      "model_module_version": "1.2.0",
      "model_name": "LayoutModel",
      "state": {}
     },
     "4f034074e2b54ccb89cdd31027506b11": {
      "model_module": "@jupyter-widgets/base",
      "model_module_version": "1.2.0",
      "model_name": "LayoutModel",
      "state": {}
     },
     "5aa48bd67a3040eab367004aa006d95a": {
      "model_module": "jupyter-matplotlib",
      "model_module_version": "^0.9.0",
      "model_name": "ToolbarModel",
      "state": {
       "layout": "IPY_MODEL_8e76c10241194647870361923db70cbc",
       "toolitems": [
        [
         "Home",
         "Reset original view",
         "home",
         "home"
        ],
        [
         "Back",
         "Back to previous view",
         "arrow-left",
         "back"
        ],
        [
         "Forward",
         "Forward to next view",
         "arrow-right",
         "forward"
        ],
        [
         "Pan",
         "Left button pans, Right button zooms\nx/y fixes axis, CTRL fixes aspect",
         "arrows",
         "pan"
        ],
        [
         "Zoom",
         "Zoom to rectangle\nx/y fixes axis, CTRL fixes aspect",
         "square-o",
         "zoom"
        ],
        [
         "Download",
         "Download plot",
         "floppy-o",
         "save_figure"
        ]
       ]
      }
     },
     "5af912bb075c47d383976d5963fad0d9": {
      "model_module": "@jupyter-widgets/base",
      "model_module_version": "1.2.0",
      "model_name": "LayoutModel",
      "state": {}
     },
     "5dd47ddbe92b4de09d4104ce29a6b2c3": {
      "model_module": "@jupyter-widgets/base",
      "model_module_version": "1.2.0",
      "model_name": "LayoutModel",
      "state": {}
     },
     "5f086ab7a43f4813be63380dc341e9e1": {
      "model_module": "@jupyter-widgets/base",
      "model_module_version": "1.2.0",
      "model_name": "LayoutModel",
      "state": {}
     },
     "66558c2479d4477ebd976de96eddbf03": {
      "model_module": "@jupyter-widgets/base",
      "model_module_version": "1.2.0",
      "model_name": "LayoutModel",
      "state": {}
     },
     "68df38e05acd4b2eb99aaf620dcad429": {
      "model_module": "jupyter-matplotlib",
      "model_module_version": "^0.9.0",
      "model_name": "ToolbarModel",
      "state": {
       "layout": "IPY_MODEL_4f034074e2b54ccb89cdd31027506b11",
       "toolitems": [
        [
         "Home",
         "Reset original view",
         "home",
         "home"
        ],
        [
         "Back",
         "Back to previous view",
         "arrow-left",
         "back"
        ],
        [
         "Forward",
         "Forward to next view",
         "arrow-right",
         "forward"
        ],
        [
         "Pan",
         "Left button pans, Right button zooms\nx/y fixes axis, CTRL fixes aspect",
         "arrows",
         "pan"
        ],
        [
         "Zoom",
         "Zoom to rectangle\nx/y fixes axis, CTRL fixes aspect",
         "square-o",
         "zoom"
        ],
        [
         "Download",
         "Download plot",
         "floppy-o",
         "save_figure"
        ]
       ]
      }
     },
     "6a04542e11a848eba526b2859ab2a54c": {
      "model_module": "@jupyter-widgets/base",
      "model_module_version": "1.2.0",
      "model_name": "LayoutModel",
      "state": {}
     },
     "72ed6ba49e1e43a4800b4694b2a874fb": {
      "model_module": "@jupyter-widgets/base",
      "model_module_version": "1.2.0",
      "model_name": "LayoutModel",
      "state": {}
     },
     "77a1a1ce79c445a2b55947bce9f496a2": {
      "model_module": "@jupyter-widgets/base",
      "model_module_version": "1.2.0",
      "model_name": "LayoutModel",
      "state": {}
     },
     "77ff50f6a0bd4ce6b90f8a2d512cba72": {
      "model_module": "jupyter-matplotlib",
      "model_module_version": "^0.9.0",
      "model_name": "MPLCanvasModel",
      "state": {
       "_cursor": "crosshair",
       "_figure_label": "Figure 7",
       "_height": 500,
       "_image_mode": "diff",
       "_message": "x= y=1.04",
       "_rubberband_y": 501,
       "_width": 1000,
       "layout": "IPY_MODEL_b0096d61fc1e48559b080ca4e50470a3",
       "toolbar": "IPY_MODEL_006753f71e6d4f0bbee75ac9f8cb3669",
       "toolbar_position": "left"
      }
     },
     "7891c6774e3a4448bbfdf7a0095cb1bc": {
      "model_module": "@jupyter-widgets/base",
      "model_module_version": "1.2.0",
      "model_name": "LayoutModel",
      "state": {}
     },
     "7bda5f6ec7cb4d94aa837e3aa6db31a6": {
      "model_module": "@jupyter-widgets/base",
      "model_module_version": "1.2.0",
      "model_name": "LayoutModel",
      "state": {}
     },
     "83619b11633846ec8676049228921685": {
      "model_module": "jupyter-matplotlib",
      "model_module_version": "^0.9.0",
      "model_name": "ToolbarModel",
      "state": {
       "layout": "IPY_MODEL_7bda5f6ec7cb4d94aa837e3aa6db31a6",
       "toolitems": [
        [
         "Home",
         "Reset original view",
         "home",
         "home"
        ],
        [
         "Back",
         "Back to previous view",
         "arrow-left",
         "back"
        ],
        [
         "Forward",
         "Forward to next view",
         "arrow-right",
         "forward"
        ],
        [
         "Pan",
         "Left button pans, Right button zooms\nx/y fixes axis, CTRL fixes aspect",
         "arrows",
         "pan"
        ],
        [
         "Zoom",
         "Zoom to rectangle\nx/y fixes axis, CTRL fixes aspect",
         "square-o",
         "zoom"
        ],
        [
         "Download",
         "Download plot",
         "floppy-o",
         "save_figure"
        ]
       ]
      }
     },
     "83a89612ba1842428a2d70d8e4dd16f7": {
      "model_module": "@jupyter-widgets/base",
      "model_module_version": "1.2.0",
      "model_name": "LayoutModel",
      "state": {}
     },
     "84451b74ff004d25899eda0688ff6cb4": {
      "model_module": "@jupyter-widgets/base",
      "model_module_version": "1.2.0",
      "model_name": "LayoutModel",
      "state": {}
     },
     "8475ddac62a140c8a47f0d2a0f3155b0": {
      "model_module": "jupyter-matplotlib",
      "model_module_version": "^0.9.0",
      "model_name": "ToolbarModel",
      "state": {
       "layout": "IPY_MODEL_ef77bcd6f5ab4201a4f6dead6d57db7b",
       "toolitems": [
        [
         "Home",
         "Reset original view",
         "home",
         "home"
        ],
        [
         "Back",
         "Back to previous view",
         "arrow-left",
         "back"
        ],
        [
         "Forward",
         "Forward to next view",
         "arrow-right",
         "forward"
        ],
        [
         "Pan",
         "Left button pans, Right button zooms\nx/y fixes axis, CTRL fixes aspect",
         "arrows",
         "pan"
        ],
        [
         "Zoom",
         "Zoom to rectangle\nx/y fixes axis, CTRL fixes aspect",
         "square-o",
         "zoom"
        ],
        [
         "Download",
         "Download plot",
         "floppy-o",
         "save_figure"
        ]
       ]
      }
     },
     "84c39875bb964f53b82f096595a930fa": {
      "model_module": "jupyter-matplotlib",
      "model_module_version": "^0.9.0",
      "model_name": "ToolbarModel",
      "state": {
       "layout": "IPY_MODEL_e21d0699b25c4d7e8097854b257ad7ef",
       "toolitems": [
        [
         "Home",
         "Reset original view",
         "home",
         "home"
        ],
        [
         "Back",
         "Back to previous view",
         "arrow-left",
         "back"
        ],
        [
         "Forward",
         "Forward to next view",
         "arrow-right",
         "forward"
        ],
        [
         "Pan",
         "Left button pans, Right button zooms\nx/y fixes axis, CTRL fixes aspect",
         "arrows",
         "pan"
        ],
        [
         "Zoom",
         "Zoom to rectangle\nx/y fixes axis, CTRL fixes aspect",
         "square-o",
         "zoom"
        ],
        [
         "Download",
         "Download plot",
         "floppy-o",
         "save_figure"
        ]
       ]
      }
     },
     "8a03bebf5f0b49458b2f831a607b5f23": {
      "model_module": "jupyter-matplotlib",
      "model_module_version": "^0.9.0",
      "model_name": "MPLCanvasModel",
      "state": {
       "_cursor": "default",
       "_figure_label": "Figure 10",
       "_height": 500,
       "_width": 1000,
       "layout": "IPY_MODEL_b076515595114889b110f5fd4cd5ada0",
       "toolbar": "IPY_MODEL_313cdcb5e8e8418abb9a0ddc7f513962",
       "toolbar_position": "left"
      }
     },
     "8ba79d2dc9e4422d836082f283bb08fd": {
      "model_module": "@jupyter-widgets/base",
      "model_module_version": "1.2.0",
      "model_name": "LayoutModel",
      "state": {}
     },
     "8e76c10241194647870361923db70cbc": {
      "model_module": "@jupyter-widgets/base",
      "model_module_version": "1.2.0",
      "model_name": "LayoutModel",
      "state": {}
     },
     "9aa06c6e716a480e9652fa6d2fee6749": {
      "model_module": "@jupyter-widgets/base",
      "model_module_version": "1.2.0",
      "model_name": "LayoutModel",
      "state": {}
     },
     "9b8cc167ee40451e841f125e6577b153": {
      "model_module": "jupyter-matplotlib",
      "model_module_version": "^0.9.0",
      "model_name": "ToolbarModel",
      "state": {
       "layout": "IPY_MODEL_169c2c60c9de427d889a7225189b44b6",
       "toolitems": [
        [
         "Home",
         "Reset original view",
         "home",
         "home"
        ],
        [
         "Back",
         "Back to previous view",
         "arrow-left",
         "back"
        ],
        [
         "Forward",
         "Forward to next view",
         "arrow-right",
         "forward"
        ],
        [
         "Pan",
         "Left button pans, Right button zooms\nx/y fixes axis, CTRL fixes aspect",
         "arrows",
         "pan"
        ],
        [
         "Zoom",
         "Zoom to rectangle\nx/y fixes axis, CTRL fixes aspect",
         "square-o",
         "zoom"
        ],
        [
         "Download",
         "Download plot",
         "floppy-o",
         "save_figure"
        ]
       ]
      }
     },
     "9c4a4875f22248cfad495f4e98885b88": {
      "model_module": "@jupyter-widgets/base",
      "model_module_version": "1.2.0",
      "model_name": "LayoutModel",
      "state": {}
     },
     "9d6b80fb1ce94dd2b404fc4f9c52aa38": {
      "model_module": "jupyter-matplotlib",
      "model_module_version": "^0.9.0",
      "model_name": "MPLCanvasModel",
      "state": {
       "_cursor": "default",
       "_figure_label": "Figure 4",
       "_height": 500,
       "_width": 1000,
       "layout": "IPY_MODEL_3abb92b2103440148638d338187dc914",
       "toolbar": "IPY_MODEL_68df38e05acd4b2eb99aaf620dcad429",
       "toolbar_position": "left"
      }
     },
     "a16ce167b27746fa998de08d7506f900": {
      "model_module": "@jupyter-widgets/base",
      "model_module_version": "1.2.0",
      "model_name": "LayoutModel",
      "state": {}
     },
     "a2899cf51b3c4dc3ae91d0f735f22240": {
      "model_module": "jupyter-matplotlib",
      "model_module_version": "^0.9.0",
      "model_name": "MPLCanvasModel",
      "state": {
       "_cursor": "default",
       "_figure_label": "Figure 5",
       "_height": 500,
       "_width": 1000,
       "layout": "IPY_MODEL_83a89612ba1842428a2d70d8e4dd16f7",
       "toolbar": "IPY_MODEL_1424fc530d9644b9be88892101bd1497",
       "toolbar_position": "left"
      }
     },
     "a8af9efdf5a44c0595e8b6b42f8693f3": {
      "model_module": "jupyter-matplotlib",
      "model_module_version": "^0.9.0",
      "model_name": "MPLCanvasModel",
      "state": {
       "_cursor": "default",
       "_figure_label": "Figure 15",
       "_height": 500,
       "_width": 1000,
       "layout": "IPY_MODEL_5dd47ddbe92b4de09d4104ce29a6b2c3",
       "toolbar": "IPY_MODEL_4c8fe1745ec54bf7887ce6791ca4d886",
       "toolbar_position": "left"
      }
     },
     "acb49351475b454da91df178e2e5847a": {
      "model_module": "jupyter-matplotlib",
      "model_module_version": "^0.9.0",
      "model_name": "MPLCanvasModel",
      "state": {
       "_cursor": "default",
       "_figure_label": "Figure 13",
       "_height": 500,
       "_width": 1000,
       "layout": "IPY_MODEL_9aa06c6e716a480e9652fa6d2fee6749",
       "toolbar": "IPY_MODEL_83619b11633846ec8676049228921685",
       "toolbar_position": "left"
      }
     },
     "b0096d61fc1e48559b080ca4e50470a3": {
      "model_module": "@jupyter-widgets/base",
      "model_module_version": "1.2.0",
      "model_name": "LayoutModel",
      "state": {}
     },
     "b076515595114889b110f5fd4cd5ada0": {
      "model_module": "@jupyter-widgets/base",
      "model_module_version": "1.2.0",
      "model_name": "LayoutModel",
      "state": {}
     },
     "b4daa837941a42fab243ab397f59e3b1": {
      "model_module": "jupyter-matplotlib",
      "model_module_version": "^0.9.0",
      "model_name": "MPLCanvasModel",
      "state": {
       "_cursor": "default",
       "_figure_label": "Figure 14",
       "_height": 500,
       "_width": 1000,
       "layout": "IPY_MODEL_72ed6ba49e1e43a4800b4694b2a874fb",
       "toolbar": "IPY_MODEL_015c6ff525464dedbc919dc95e31fe9b",
       "toolbar_position": "left"
      }
     },
     "c7aa46af9cd64101998d106e25b0fc17": {
      "model_module": "@jupyter-widgets/base",
      "model_module_version": "1.2.0",
      "model_name": "LayoutModel",
      "state": {}
     },
     "cb3131f73d99456bb9f6bd4d6dbd129d": {
      "model_module": "jupyter-matplotlib",
      "model_module_version": "^0.9.0",
      "model_name": "MPLCanvasModel",
      "state": {
       "_cursor": "default",
       "_figure_label": "Figure 17",
       "_height": 500,
       "_width": 1000,
       "layout": "IPY_MODEL_1180330ee69b473bbf3615d59158c20c",
       "toolbar": "IPY_MODEL_efe797333aee4b808c9cc293d5d07cc5",
       "toolbar_position": "left"
      }
     },
     "ceab61b985c045ad856e9581452c074e": {
      "model_module": "@jupyter-widgets/base",
      "model_module_version": "1.2.0",
      "model_name": "LayoutModel",
      "state": {}
     },
     "d248003e9fb641a28823f0061ca68e12": {
      "model_module": "jupyter-matplotlib",
      "model_module_version": "^0.9.0",
      "model_name": "ToolbarModel",
      "state": {
       "layout": "IPY_MODEL_9c4a4875f22248cfad495f4e98885b88",
       "toolitems": [
        [
         "Home",
         "Reset original view",
         "home",
         "home"
        ],
        [
         "Back",
         "Back to previous view",
         "arrow-left",
         "back"
        ],
        [
         "Forward",
         "Forward to next view",
         "arrow-right",
         "forward"
        ],
        [
         "Pan",
         "Left button pans, Right button zooms\nx/y fixes axis, CTRL fixes aspect",
         "arrows",
         "pan"
        ],
        [
         "Zoom",
         "Zoom to rectangle\nx/y fixes axis, CTRL fixes aspect",
         "square-o",
         "zoom"
        ],
        [
         "Download",
         "Download plot",
         "floppy-o",
         "save_figure"
        ]
       ]
      }
     },
     "d937c1ef06f74d1797e9636fb94443d9": {
      "model_module": "jupyter-matplotlib",
      "model_module_version": "^0.9.0",
      "model_name": "MPLCanvasModel",
      "state": {
       "_cursor": "default",
       "_figure_label": "Figure 16",
       "_height": 500,
       "_width": 1000,
       "layout": "IPY_MODEL_5f086ab7a43f4813be63380dc341e9e1",
       "toolbar": "IPY_MODEL_8475ddac62a140c8a47f0d2a0f3155b0",
       "toolbar_position": "left"
      }
     },
     "df8b25fffb984418b1e3b4ce8dc14e7d": {
      "model_module": "jupyter-matplotlib",
      "model_module_version": "^0.9.0",
      "model_name": "MPLCanvasModel",
      "state": {
       "_cursor": "default",
       "_figure_label": "Figure 8",
       "_height": 500,
       "_width": 1000,
       "layout": "IPY_MODEL_3c03bf5db4494b51b424499057fc56a1",
       "toolbar": "IPY_MODEL_4af966755a464419b52d4c245db645b7",
       "toolbar_position": "left"
      }
     },
     "e21d0699b25c4d7e8097854b257ad7ef": {
      "model_module": "@jupyter-widgets/base",
      "model_module_version": "1.2.0",
      "model_name": "LayoutModel",
      "state": {}
     },
     "e28f4e1d679d4104a0706a03a58c353c": {
      "model_module": "jupyter-matplotlib",
      "model_module_version": "^0.9.0",
      "model_name": "MPLCanvasModel",
      "state": {
       "_cursor": "crosshair",
       "_figure_label": "Figure 18",
       "_height": 500,
       "_image_mode": "diff",
       "_message": "x= y=0.081",
       "_rubberband_y": 501,
       "_width": 1000,
       "layout": "IPY_MODEL_8ba79d2dc9e4422d836082f283bb08fd",
       "toolbar": "IPY_MODEL_fa48fcefa57c4094b89970d5c08699ce",
       "toolbar_position": "left"
      }
     },
     "e371e2430a3b4851bb3bc78f0729070f": {
      "model_module": "jupyter-matplotlib",
      "model_module_version": "^0.9.0",
      "model_name": "MPLCanvasModel",
      "state": {
       "_cursor": "default",
       "_figure_label": "Figure 2",
       "_height": 500,
       "_width": 1000,
       "layout": "IPY_MODEL_4e62622d599c41de98fbbb88f161fad0",
       "toolbar": "IPY_MODEL_9b8cc167ee40451e841f125e6577b153",
       "toolbar_position": "left"
      }
     },
     "e5074445ef2541e7b067c542b6fc61ae": {
      "model_module": "@jupyter-widgets/base",
      "model_module_version": "1.2.0",
      "model_name": "LayoutModel",
      "state": {}
     },
     "e5bfd7fe3dca44eab59de4fbeb9c1802": {
      "model_module": "@jupyter-widgets/base",
      "model_module_version": "1.2.0",
      "model_name": "LayoutModel",
      "state": {}
     },
     "e62ed2934ab548fc88d353fdce72b6d1": {
      "model_module": "jupyter-matplotlib",
      "model_module_version": "^0.9.0",
      "model_name": "ToolbarModel",
      "state": {
       "_current_action": "zoom",
       "layout": "IPY_MODEL_84451b74ff004d25899eda0688ff6cb4",
       "toolitems": [
        [
         "Home",
         "Reset original view",
         "home",
         "home"
        ],
        [
         "Back",
         "Back to previous view",
         "arrow-left",
         "back"
        ],
        [
         "Forward",
         "Forward to next view",
         "arrow-right",
         "forward"
        ],
        [
         "Pan",
         "Left button pans, Right button zooms\nx/y fixes axis, CTRL fixes aspect",
         "arrows",
         "pan"
        ],
        [
         "Zoom",
         "Zoom to rectangle\nx/y fixes axis, CTRL fixes aspect",
         "square-o",
         "zoom"
        ],
        [
         "Download",
         "Download plot",
         "floppy-o",
         "save_figure"
        ]
       ]
      }
     },
     "e6d10b5a644540208606e8f3681987fd": {
      "model_module": "@jupyter-widgets/base",
      "model_module_version": "1.2.0",
      "model_name": "LayoutModel",
      "state": {}
     },
     "eae02b7025224a80a0eae6fad1310af0": {
      "model_module": "jupyter-matplotlib",
      "model_module_version": "^0.9.0",
      "model_name": "MPLCanvasModel",
      "state": {
       "_cursor": "default",
       "_figure_label": "Figure 19",
       "_height": 500,
       "_width": 1000,
       "layout": "IPY_MODEL_fc57bf9e958540e69fbbd39cdc15b71f",
       "toolbar": "IPY_MODEL_d248003e9fb641a28823f0061ca68e12",
       "toolbar_position": "left"
      }
     },
     "eb7141876fce4750a2b39fa4bed58738": {
      "model_module": "jupyter-matplotlib",
      "model_module_version": "^0.9.0",
      "model_name": "MPLCanvasModel",
      "state": {
       "_cursor": "default",
       "_figure_label": "Figure 3",
       "_height": 500,
       "_width": 1000,
       "layout": "IPY_MODEL_5af912bb075c47d383976d5963fad0d9",
       "toolbar": "IPY_MODEL_20ba843dd2894d68b55df6c0b62ee877",
       "toolbar_position": "left"
      }
     },
     "ed593a54ef4c47a6b2075e5594a8a3a3": {
      "model_module": "jupyter-matplotlib",
      "model_module_version": "^0.9.0",
      "model_name": "ToolbarModel",
      "state": {
       "layout": "IPY_MODEL_e6d10b5a644540208606e8f3681987fd",
       "toolitems": [
        [
         "Home",
         "Reset original view",
         "home",
         "home"
        ],
        [
         "Back",
         "Back to previous view",
         "arrow-left",
         "back"
        ],
        [
         "Forward",
         "Forward to next view",
         "arrow-right",
         "forward"
        ],
        [
         "Pan",
         "Left button pans, Right button zooms\nx/y fixes axis, CTRL fixes aspect",
         "arrows",
         "pan"
        ],
        [
         "Zoom",
         "Zoom to rectangle\nx/y fixes axis, CTRL fixes aspect",
         "square-o",
         "zoom"
        ],
        [
         "Download",
         "Download plot",
         "floppy-o",
         "save_figure"
        ]
       ]
      }
     },
     "edd5da9e6eb7432193ba9b06421de23d": {
      "model_module": "@jupyter-widgets/base",
      "model_module_version": "1.2.0",
      "model_name": "LayoutModel",
      "state": {}
     },
     "ee3eb5e548384665b82570e7b76e653b": {
      "model_module": "@jupyter-widgets/base",
      "model_module_version": "1.2.0",
      "model_name": "LayoutModel",
      "state": {}
     },
     "ef77bcd6f5ab4201a4f6dead6d57db7b": {
      "model_module": "@jupyter-widgets/base",
      "model_module_version": "1.2.0",
      "model_name": "LayoutModel",
      "state": {}
     },
     "efe797333aee4b808c9cc293d5d07cc5": {
      "model_module": "jupyter-matplotlib",
      "model_module_version": "^0.9.0",
      "model_name": "ToolbarModel",
      "state": {
       "layout": "IPY_MODEL_23464aad5b8b446baff22dd1a07c58e1",
       "toolitems": [
        [
         "Home",
         "Reset original view",
         "home",
         "home"
        ],
        [
         "Back",
         "Back to previous view",
         "arrow-left",
         "back"
        ],
        [
         "Forward",
         "Forward to next view",
         "arrow-right",
         "forward"
        ],
        [
         "Pan",
         "Left button pans, Right button zooms\nx/y fixes axis, CTRL fixes aspect",
         "arrows",
         "pan"
        ],
        [
         "Zoom",
         "Zoom to rectangle\nx/y fixes axis, CTRL fixes aspect",
         "square-o",
         "zoom"
        ],
        [
         "Download",
         "Download plot",
         "floppy-o",
         "save_figure"
        ]
       ]
      }
     },
     "fa48fcefa57c4094b89970d5c08699ce": {
      "model_module": "jupyter-matplotlib",
      "model_module_version": "^0.9.0",
      "model_name": "ToolbarModel",
      "state": {
       "_current_action": "zoom",
       "layout": "IPY_MODEL_edd5da9e6eb7432193ba9b06421de23d",
       "toolitems": [
        [
         "Home",
         "Reset original view",
         "home",
         "home"
        ],
        [
         "Back",
         "Back to previous view",
         "arrow-left",
         "back"
        ],
        [
         "Forward",
         "Forward to next view",
         "arrow-right",
         "forward"
        ],
        [
         "Pan",
         "Left button pans, Right button zooms\nx/y fixes axis, CTRL fixes aspect",
         "arrows",
         "pan"
        ],
        [
         "Zoom",
         "Zoom to rectangle\nx/y fixes axis, CTRL fixes aspect",
         "square-o",
         "zoom"
        ],
        [
         "Download",
         "Download plot",
         "floppy-o",
         "save_figure"
        ]
       ]
      }
     },
     "fc57bf9e958540e69fbbd39cdc15b71f": {
      "model_module": "@jupyter-widgets/base",
      "model_module_version": "1.2.0",
      "model_name": "LayoutModel",
      "state": {}
     }
    },
    "version_major": 2,
    "version_minor": 0
   }
  }
 },
 "nbformat": 4,
 "nbformat_minor": 5
}
