{
 "cells": [
  {
   "cell_type": "markdown",
   "id": "02ff5de9-5152-4d07-a21c-10531f8a8bbc",
   "metadata": {},
   "source": [
    "# Calcul de $T_1^c$ et $T_2^c$"
   ]
  },
  {
   "cell_type": "markdown",
   "id": "93de6862-8922-4e13-bfdf-e0204e12d901",
   "metadata": {},
   "source": [
    "Cells :\n",
    "\n",
    "                              d12    d2I   dI3     d34\n",
    "                          |--------|----|-------|-------|\n",
    "                                 a1 |---|-----| a2\n",
    "               +----------+---------+---------+---------+---------+\n",
    "               |          |         |   |     |         |         |\n",
    "               |    +    -|>   +  ->| + |  +  |->  +   -|>   +    |\n",
    "               |    im2   |    im1  | 1c|  2c |    ip1  |    ip2  |\n",
    "               +----------+---------+---------+---------+---------+\n",
    "                    |----------|------|    |-------|---------|\n",
    "                         dx       dxc1       dxc2      dx\n",
    "\n",
    "Dans ce module on calcule analytiquement les extrapolations de gradient en I à partir des températures en im2, im1 et 1c\n",
    "Puis on fait la même chose avec 2c, ip1 et ip2"
   ]
  },
  {
   "cell_type": "code",
   "execution_count": 3,
   "id": "bc339304-9b3f-4596-9f23-71498a1098d3",
   "metadata": {},
   "outputs": [],
   "source": [
    "import sympy as sy"
   ]
  },
  {
   "cell_type": "markdown",
   "id": "ab9e258e-167a-4ae5-b0c2-c0a1d4f749f3",
   "metadata": {},
   "source": [
    "## Calcul des gradients $\\nabla T_g^I$ et $\\nabla T_d^I$\n",
    "\n",
    "Calcul à gauche"
   ]
  },
  {
   "cell_type": "code",
   "execution_count": 7,
   "id": "28960067-b48c-481c-ac51-f4d7acc0ec12",
   "metadata": {},
   "outputs": [
    {
     "data": {
      "text/plain": [
       "'\\\\frac{\\\\left(\\\\frac{3 a_{1}}{4} + 0.25\\\\right) \\\\left(\\\\frac{Tgc - Tim_{1}}{dx \\\\left(\\\\frac{a_{1}}{2} + 0.5\\\\right)} - \\\\frac{Tim_{1} - Tim_{2}}{dx}\\\\right)}{\\\\frac{a_{1}}{4} + 0.75} + \\\\frac{Tgc - Tim_{1}}{dx \\\\left(\\\\frac{a_{1}}{2} + 0.5\\\\right)}'"
      ]
     },
     "execution_count": 7,
     "metadata": {},
     "output_type": "execute_result"
    }
   ],
   "source": [
    "a1, Tim2, Tim1, Tgc, dx = sy.symbols('a1 Tim2 Tim1 Tgc dx')\n",
    "\n",
    "axc1 = 1/2 + a1/2\n",
    "a12 = 1/2 + axc1/2\n",
    "a2I = 1 + a1 - a12\n",
    "\n",
    "dxc1 = axc1*dx\n",
    "d12 = a12*dx\n",
    "d2I = a2I*dx\n",
    "\n",
    "gradT1 = (Tim1 - Tim2)/dx\n",
    "gradT2 = (Tgc - Tim1)/dxc1\n",
    "\n",
    "# On extrapole à l'ordre 1 le gradient à l'interface\n",
    "gradTgI = gradT2 + (gradT2 - gradT1)/d12*d2I\n",
    "sy.pretty_p"
   ]
  },
  {
   "cell_type": "markdown",
   "id": "4a39e849-4849-42a6-9dc9-e9060b03ce36",
   "metadata": {},
   "source": [
    "Calcul à droite"
   ]
  },
  {
   "cell_type": "code",
   "execution_count": null,
   "id": "db07a50f-c98d-4adc-81a9-ae6c53786cae",
   "metadata": {},
   "outputs": [],
   "source": [
    "Tip2, Tip1, Tdc = sy.symbols('Tip2 Tip1 Tdc')\n",
    "\n",
    "a2 = 1 - a1\n",
    "axc2 = 1/2 + a2/2\n",
    "a34 = 1/2 + axc2/2\n",
    "aI3 = 1 + a2 - a34\n",
    "\n",
    "dxc2 = axc2*dx\n",
    "dI3 = aI3*dx\n",
    "d34 = a34*dx\n",
    "\n",
    "gradT3 = (Tip1 - Tdc)/dxc2\n",
    "gradT4 = (Tip2 - Tip1)/dx\n",
    "\n",
    "# On extrapole à l'ordre 1 le gradient à l'interface\n",
    "gradTdI = gradT3 - (gradT4 - gradT3)/d34*dI3"
   ]
  },
  {
   "cell_type": "code",
   "execution_count": null,
   "id": "77c7c972-8614-426f-89d6-93a63bc3e029",
   "metadata": {},
   "outputs": [],
   "source": [
    "# Égalité des flux à l'interface\n",
    "ldag, ldad = sy.symbols('ldag ldad')\n",
    "eq1 = sy.Eq(ldag*gradTgI, ldad*gradTdI)\n",
    "\n",
    "# Énergie dans la cellule\n",
    "rhocpg, rhocpd, h = sy.symbols('rhocpg rhocpd h')\n",
    "eq2 = sy.Eq(a1*rhocpg*Tgc + a2*rhocpd*Tdc, h)\n",
    "\n",
    "# Résolution du système :\n",
    "sol = sy.solve([eq1, eq2], [Tgc, Tdc])\n",
    "print('Tdc : ')\n",
    "print(sy.simplify(sol[Tdc]))\n",
    "print('Tgc : ')\n",
    "print(sy.simplify(sol[Tgc]))\n",
    "\n",
    "eq3 = 8*a1**2*ldad*rhocpg - 8*a1**2*ldag*rhocpd + 24*a1*ldad*rhocpg + 40*a1*ldag*rhocpd - 32*ldag*rhocpd\n",
    "\n",
    "aint = sy.solve(eq3, a1)\n",
    "print('a interdit :')\n",
    "print(aint[0])"
   ]
  },
  {
   "cell_type": "code",
   "execution_count": null,
   "id": "504aaed1-fca3-4338-9525-6b43eca4f26c",
   "metadata": {},
   "outputs": [],
   "source": []
  }
 ],
 "metadata": {
  "kernelspec": {
   "display_name": "venv-flu1d",
   "language": "python",
   "name": "venv-flu1d"
  },
  "language_info": {
   "codemirror_mode": {
    "name": "ipython",
    "version": 3
   },
   "file_extension": ".py",
   "mimetype": "text/x-python",
   "name": "python",
   "nbconvert_exporter": "python",
   "pygments_lexer": "ipython3",
   "version": "3.6.9"
  },
  "widgets": {
   "application/vnd.jupyter.widget-state+json": {
    "state": {},
    "version_major": 2,
    "version_minor": 0
   }
  }
 },
 "nbformat": 4,
 "nbformat_minor": 5
}
