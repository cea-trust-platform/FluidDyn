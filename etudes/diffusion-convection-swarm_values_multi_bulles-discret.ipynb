{
 "cells": [
  {
   "cell_type": "markdown",
   "id": "ff85bb10",
   "metadata": {
    "tags": []
   },
   "source": [
    "# Test de l'opérateur ProblemDiscontinu"
   ]
  },
  {
   "cell_type": "code",
   "execution_count": 1,
   "id": "e49fd762-a10b-480b-a7f0-42f77b843c13",
   "metadata": {},
   "outputs": [],
   "source": [
    "import sys\n",
    "\n",
    "sys.path = ['/home/as259691/PycharmProjects/FluidDyn1D'] + sys.path"
   ]
  },
  {
   "cell_type": "code",
   "execution_count": 2,
   "id": "2ffdef2c-8113-431a-83f2-31a80cc46285",
   "metadata": {},
   "outputs": [],
   "source": [
    "from src.main_discontinu import *\n",
    "from src.plot_fields import *\n",
    "\n",
    "%matplotlib widget\n",
    "rc('figure', figsize=(10,5))\n",
    "rc('figure', dpi=100)"
   ]
  },
  {
   "cell_type": "markdown",
   "id": "de8be792",
   "metadata": {},
   "source": [
    "## Paramètres de la simulation\n",
    "\n",
    "Ici on va réaliser une simulation sans diffusion pour différentes écritures de notre équation thermique.\n",
    "\n",
    "La résolution se fait à chaque fois en WENO avec Euler explicite en temps."
   ]
  },
  {
   "cell_type": "code",
   "execution_count": 3,
   "id": "5651e4e6-e709-403e-ae3c-f712bd64fe1d",
   "metadata": {},
   "outputs": [
    {
     "name": "stdout",
     "output_type": "stream",
     "text": [
      "initialisation des indices des cellules des marqueurs\n"
     ]
    }
   ],
   "source": [
    "# d = 6./100*Delta/2.\n",
    "phy_prop = PhysicalProperties(Delta=0.02, v=0., dS=0.005**2,\n",
    "                              lda1=5.5*10**-2, lda2=15.5, rho_cp1=70278., rho_cp2=702780., diff=1.,\n",
    "                              alpha=0.06, a_i=357.)\n",
    "num_prop = NumericalProperties(dx=3.9*10**-5, schema='upwind', time_scheme='euler', phy_prop=phy_prop, cfl=0.5)\n",
    "markers = BulleTemperature(phy_prop=phy_prop, x=num_prop.x, n_bulle=1)\n",
    "markers.shift(0.00001)\n",
    "markers.set_indices_markers(num_prop.x)\n",
    "# markers = Bulles(phy_prop=phy_prop)\n",
    "\n",
    "n = 20000\n",
    "t_fin = 0.2"
   ]
  },
  {
   "cell_type": "code",
   "execution_count": 4,
   "id": "994cb9d1",
   "metadata": {},
   "outputs": [
    {
     "name": "stdout",
     "output_type": "stream",
     "text": [
      "\n",
      "dt fourier\n",
      "6.918433404737903e-06\n",
      "Cas : diffusion, euler, upwind, dx = 3.90625e-05, dt = 6.91843e-06\n",
      "==========================\n"
     ]
    },
    {
     "data": {
      "application/vnd.jupyter.widget-view+json": {
       "model_id": "920fae00a5864721b271215db282dbfc",
       "version_major": 2,
       "version_minor": 0
      },
      "text/plain": [
       "Canvas(toolbar=Toolbar(toolitems=[('Home', 'Reset original view', 'home', 'home'), ('Back', 'Back to previous …"
      ]
     },
     "metadata": {},
     "output_type": "display_data"
    },
    {
     "data": {
      "application/vnd.jupyter.widget-view+json": {
       "model_id": "03a037229677458b84befbe3da0e4c14",
       "version_major": 2,
       "version_minor": 0
      },
      "text/plain": [
       "Canvas(toolbar=Toolbar(toolitems=[('Home', 'Reset original view', 'home', 'home'), ('Back', 'Back to previous …"
      ]
     },
     "metadata": {},
     "output_type": "display_data"
    },
    {
     "name": "stdout",
     "output_type": "stream",
     "text": [
      "dE*/dt* = 3.24564e-18\n"
     ]
    }
   ],
   "source": [
    "print()\n",
    "prob = ProblemDiscontinu(get_T_creneau, markers=markers, phy_prop=phy_prop, num_prop=num_prop, interp_type='Ti')\n",
    "E0 = prob.energy\n",
    "print(prob.name)\n",
    "print('==========================')\n",
    "plot = Plotter('classic')\n",
    "t, e = prob.timestep(t_fin=t_fin, n=n, number_of_plots=1, plotter=plot)\n",
    "\n",
    "fig1,ax1 = plt.subplots(1)\n",
    "ax1.set_title('Énergie en fonction du temps')\n",
    "l = ax1.plot(t, e/(0.02*0.005*0.005), label=prob.name)\n",
    "le = fig1.legend()\n",
    "\n",
    "# plot.ax.plot(prob.bulles.markers.flatten(), prob.bulles.T.flatten(), 'r+')\n",
    "# plot.ax.plot(prob.bulles.markers.flatten(), prob.bulles.Tg.flatten(), 'g+')\n",
    "# plot.ax.plot(prob.bulles.markers.flatten(), prob.bulles.Td.flatten(), 'b+')\n",
    "\n",
    "n = len(e)\n",
    "i0 = int(n/5)\n",
    "dedt_adim = (e[-1] - e[i0]) / (t[-1] - t[i0]) * prob.dt / E0  # on a mult\n",
    "# par Dt / rho_cp_l T_l V\n",
    "print('dE*/dt* = %g' % dedt_adim)"
   ]
  },
  {
   "cell_type": "code",
   "execution_count": 5,
   "id": "753e0db2-2929-4ea0-a5fa-6435884c7665",
   "metadata": {},
   "outputs": [
    {
     "name": "stdout",
     "output_type": "stream",
     "text": [
      "\n",
      "dt fourier\n",
      "6.918433404737903e-06\n",
      "Cas : diffusion, euler, upwind, dx = 3.90625e-05, dt = 6.91843e-06\n",
      "==========================\n"
     ]
    },
    {
     "data": {
      "application/vnd.jupyter.widget-view+json": {
       "model_id": "9eea4332e8554b7f96afa772c556dc9f",
       "version_major": 2,
       "version_minor": 0
      },
      "text/plain": [
       "Canvas(toolbar=Toolbar(toolitems=[('Home', 'Reset original view', 'home', 'home'), ('Back', 'Back to previous …"
      ]
     },
     "metadata": {},
     "output_type": "display_data"
    },
    {
     "data": {
      "application/vnd.jupyter.widget-view+json": {
       "model_id": "6e09013408954657be149dc10ba2f3ed",
       "version_major": 2,
       "version_minor": 0
      },
      "text/plain": [
       "Canvas(toolbar=Toolbar(toolitems=[('Home', 'Reset original view', 'home', 'home'), ('Back', 'Back to previous …"
      ]
     },
     "metadata": {},
     "output_type": "display_data"
    },
    {
     "name": "stdout",
     "output_type": "stream",
     "text": [
      "dE*/dt* = 0\n"
     ]
    }
   ],
   "source": [
    "print()\n",
    "prob = ProblemDiscontinu(get_T_creneau, markers=markers, phy_prop=phy_prop, num_prop=num_prop, interp_type='gradTi')\n",
    "E0 = prob.energy\n",
    "print(prob.name)\n",
    "print('==========================')\n",
    "plot = Plotter('classic')\n",
    "t, e = prob.timestep(n=n,t_fin=t_fin, number_of_plots=2, plotter=plot)\n",
    "\n",
    "fig1,ax1 = plt.subplots(1)\n",
    "ax1.set_title('Énergie en fonction du temps')\n",
    "l = ax1.plot(t, e/(0.02*0.005*0.005), label=prob.name)\n",
    "le = fig1.legend()\n",
    "\n",
    "# plot.ax.plot(prob.bulles.markers.flatten(), prob.bulles.T.flatten(), 'r+')\n",
    "# plot.ax.plot(prob.bulles.markers.flatten(), prob.bulles.Tg.flatten(), 'g+')\n",
    "# plot.ax.plot(prob.bulles.markers.flatten(), prob.bulles.Td.flatten(), 'b+')\n",
    "\n",
    "n = len(e)\n",
    "i0 = int(n/5)\n",
    "dedt_adim = (e[-1] - e[i0]) / (t[-1] - t[i0]) * prob.dt / E0  # on a mult\n",
    "# par Dt / rho_cp_l T_l V\n",
    "print('dE*/dt* = %g' % dedt_adim)"
   ]
  },
  {
   "cell_type": "markdown",
   "id": "9468a91a-1cbf-4f9a-b3b3-d87879c1cab1",
   "metadata": {},
   "source": [
    "## Test de la convection\n",
    "\n",
    "Ici on met une vitesse de convection, et on supprime artificiellement la diffusion.\n",
    "\n",
    "Pour augmenter la facilité du cas, on le réalise sur une température initiale continue."
   ]
  },
  {
   "cell_type": "code",
   "execution_count": 9,
   "id": "ac60047f-9a5a-4f0b-8b26-b7a33926b6e1",
   "metadata": {},
   "outputs": [
    {
     "name": "stdout",
     "output_type": "stream",
     "text": [
      "initialisation des indices des cellules des marqueurs\n"
     ]
    }
   ],
   "source": [
    "# d = 6./100*Delta/2.\n",
    "phy_prop = PhysicalProperties(Delta=0.02, v=0.2, dS=0.005**2,\n",
    "                              lda1=5.5*10**-2, lda2=15.5, rho_cp1=70278., rho_cp2=702780., diff=0.,\n",
    "                              alpha=0.06, a_i=357.)\n",
    "# num_prop = NumericalProperties(dx=3.9*10**-5, schema='upwind', time_scheme='euler', phy_prop=phy_prop, cfl=0.5)\n",
    "num_prop = NumericalProperties(dx=1*10**-5, schema='upwind', time_scheme='euler', phy_prop=phy_prop, cfl=1.)\n",
    "markers = BulleTemperature(phy_prop=phy_prop, x=num_prop.x, n_bulle=1)\n",
    "markers.shift(0.00001)\n",
    "markers.set_indices_markers(num_prop.x)\n",
    "# markers = Bulles(phy_prop=phy_prop)\n",
    "\n",
    "n = 20000\n",
    "t_fin = 0.2"
   ]
  },
  {
   "cell_type": "code",
   "execution_count": 10,
   "id": "6c4762a8-a154-48ac-b18e-5119dfe6521f",
   "metadata": {},
   "outputs": [
    {
     "name": "stdout",
     "output_type": "stream",
     "text": [
      "dt fourier\n",
      "4.538601983461999e-07\n",
      "Cas : convection, euler, upwind, dx = 1.0005e-05, cfl = 0.00907267\n",
      "==========================\n"
     ]
    },
    {
     "data": {
      "application/vnd.jupyter.widget-view+json": {
       "model_id": "d50dda7dfa234c9db6687e75cca3b515",
       "version_major": 2,
       "version_minor": 0
      },
      "text/plain": [
       "Canvas(toolbar=Toolbar(toolitems=[('Home', 'Reset original view', 'home', 'home'), ('Back', 'Back to previous …"
      ]
     },
     "metadata": {},
     "output_type": "display_data"
    },
    {
     "data": {
      "application/vnd.jupyter.widget-view+json": {
       "model_id": "c2727d7e716d4eff900bfd1b42a7cf66",
       "version_major": 2,
       "version_minor": 0
      },
      "text/plain": [
       "Canvas(toolbar=Toolbar(toolitems=[('Home', 'Reset original view', 'home', 'home'), ('Back', 'Back to previous …"
      ]
     },
     "metadata": {},
     "output_type": "display_data"
    },
    {
     "name": "stdout",
     "output_type": "stream",
     "text": [
      "dE*/dt* = 0\n"
     ]
    }
   ],
   "source": [
    "prob = ProblemDiscontinu(get_T, markers=markers, phy_prop=phy_prop, num_prop=num_prop, interp_type='Ti')\n",
    "E0 = prob.energy\n",
    "print(prob.name)\n",
    "print('==========================')\n",
    "plot = Plotter('decale')\n",
    "t, e = prob.timestep(t_fin=t_fin, n=n, number_of_plots=1, plotter=plot)\n",
    "\n",
    "fig1,ax1 = plt.subplots(1)\n",
    "ax1.set_title('Énergie en fonction du temps')\n",
    "l = ax1.plot(t, e/(0.02*0.005*0.005), label=prob.name)\n",
    "le = fig1.legend()\n",
    "\n",
    "# plot.ax.plot(prob.bulles.markers.flatten(), prob.bulles.T.flatten(), 'r+')\n",
    "# plot.ax.plot(prob.bulles.markers.flatten(), prob.bulles.Tg.flatten(), 'g+')\n",
    "# plot.ax.plot(prob.bulles.markers.flatten(), prob.bulles.Td.flatten(), 'b+')\n",
    "\n",
    "n = len(e)\n",
    "i0 = int(n/5)\n",
    "dedt_adim = (e[-1] - e[i0]) / (t[-1] - t[i0]) * prob.dt / E0  # on a mult\n",
    "# par Dt / rho_cp_l T_l V\n",
    "print('dE*/dt* = %g' % dedt_adim)"
   ]
  },
  {
   "cell_type": "code",
   "execution_count": 8,
   "id": "a4b1a479-e08b-4e40-b900-57d0523b1865",
   "metadata": {},
   "outputs": [
    {
     "name": "stdout",
     "output_type": "stream",
     "text": [
      "\n",
      "dt fourier\n",
      "6.918433404737903e-06\n",
      "Cas : convection, euler, upwind, dx = 3.90625e-05, cfl = 0.0354224\n",
      "==========================\n"
     ]
    },
    {
     "data": {
      "application/vnd.jupyter.widget-view+json": {
       "model_id": "25b0d0a9019848a382b01f7bfa60e669",
       "version_major": 2,
       "version_minor": 0
      },
      "text/plain": [
       "Canvas(toolbar=Toolbar(toolitems=[('Home', 'Reset original view', 'home', 'home'), ('Back', 'Back to previous …"
      ]
     },
     "metadata": {},
     "output_type": "display_data"
    },
    {
     "name": "stderr",
     "output_type": "stream",
     "text": [
      "/home/as259691/PycharmProjects/FluidDyn1D/src/main.py:563: RuntimeWarning: overflow encountered in multiply\n",
      "  dS=self.phy_prop.dS, schema=self.num_prop.schema)\n",
      "/home/as259691/PycharmProjects/FluidDyn1D/src/main.py:576: RuntimeWarning: invalid value encountered in multiply\n",
      "  self.T += self.dt * (-int_div_T_u + self.phy_prop.diff * rho_cp_inv_h * int_div_lda_grad_T)\n",
      "/home/as259691/PycharmProjects/FluidDyn1D/src/main_discontinu.py:187: RuntimeWarning: overflow encountered in true_divide\n",
      "  Tm = np.sum(T/d) / np.sum(1./d)\n",
      "/home/as259691/PycharmProjects/FluidDyn1D/src/main_discontinu.py:310: RuntimeWarning: overflow encountered in multiply\n",
      "  cv_0=cells.T[0], cv_n=cells.T[-1])\n",
      "/home/as259691/PycharmProjects/FluidDyn1D/src/main_discontinu.py:318: RuntimeWarning: invalid value encountered in multiply\n",
      "  self.phy_prop.diff * int_div_lda_grad_T)) / rhocp_np1[ind_to_change]\n"
     ]
    },
    {
     "data": {
      "application/vnd.jupyter.widget-view+json": {
       "model_id": "7b660fc1240a479e9b6f970c618975e2",
       "version_major": 2,
       "version_minor": 0
      },
      "text/plain": [
       "Canvas(toolbar=Toolbar(toolitems=[('Home', 'Reset original view', 'home', 'home'), ('Back', 'Back to previous …"
      ]
     },
     "metadata": {},
     "output_type": "display_data"
    },
    {
     "name": "stdout",
     "output_type": "stream",
     "text": [
      "dE*/dt* = nan\n"
     ]
    },
    {
     "data": {
      "application/vnd.jupyter.widget-view+json": {
       "model_id": "56376c3252a14a2aa236e15cfb7338cb",
       "version_major": 2,
       "version_minor": 0
      },
      "text/plain": [
       "Canvas(toolbar=Toolbar(toolitems=[('Home', 'Reset original view', 'home', 'home'), ('Back', 'Back to previous …"
      ]
     },
     "metadata": {},
     "output_type": "display_data"
    },
    {
     "name": "stdout",
     "output_type": "stream",
     "text": [
      "[nan nan nan nan nan nan nan nan nan nan nan nan nan nan nan nan nan nan\n",
      " nan nan nan nan nan nan nan nan nan nan nan nan nan nan nan nan nan nan\n",
      " nan nan nan nan nan nan nan nan nan nan nan nan nan nan nan nan nan nan\n",
      " nan nan nan nan nan nan nan nan nan nan nan nan nan nan nan nan nan nan\n",
      " nan nan nan nan nan nan nan nan nan nan nan nan nan nan nan nan nan nan\n",
      " nan nan nan nan nan nan nan nan nan nan nan nan nan nan nan nan nan nan\n",
      " nan nan nan nan nan nan nan nan nan nan nan nan nan nan nan nan nan nan\n",
      " nan nan nan nan nan nan nan nan nan nan nan nan nan nan nan nan nan nan\n",
      " nan nan nan nan nan nan nan nan nan nan nan nan nan nan nan nan nan nan\n",
      " nan nan nan nan nan nan nan nan nan nan nan nan nan nan nan nan nan nan\n",
      " nan nan nan nan nan nan nan nan nan nan nan nan nan nan nan nan nan nan\n",
      " nan nan nan nan nan nan nan nan nan nan nan nan nan nan nan nan nan nan\n",
      " nan nan nan nan nan nan nan nan nan nan nan nan nan nan nan nan nan nan\n",
      " nan nan nan nan nan nan nan nan nan nan nan nan nan nan nan nan nan nan\n",
      " nan nan nan nan nan nan nan nan nan nan nan nan nan nan nan nan nan nan\n",
      " nan nan nan nan nan nan nan nan nan nan nan nan nan nan nan nan nan nan\n",
      " nan nan nan nan nan nan nan nan nan nan nan nan nan nan nan nan nan nan\n",
      " nan nan nan nan nan nan nan nan nan nan nan nan nan nan nan nan nan nan\n",
      " nan nan nan nan nan nan nan nan nan nan nan nan nan nan nan nan nan nan\n",
      " nan nan nan nan nan nan nan nan nan nan nan nan nan nan nan nan nan nan\n",
      " nan nan nan nan nan nan nan nan nan nan nan nan nan nan nan nan nan nan\n",
      " nan nan nan nan nan nan nan nan nan nan nan nan nan nan nan nan nan nan\n",
      " nan nan nan nan nan nan nan nan nan nan nan nan nan nan nan nan nan nan\n",
      " nan nan nan nan nan nan nan nan nan nan nan nan nan nan nan nan nan nan\n",
      " nan nan nan nan nan nan nan nan nan nan nan nan nan nan nan nan nan nan\n",
      " nan nan nan nan nan nan nan nan nan nan nan nan nan nan nan nan nan nan\n",
      " nan nan nan nan nan nan nan nan nan nan nan nan nan nan nan nan nan nan\n",
      " nan nan nan nan nan nan nan nan nan nan nan nan nan nan nan nan nan nan\n",
      " nan nan nan nan nan nan nan nan]\n"
     ]
    }
   ],
   "source": [
    "print()\n",
    "prob = ProblemDiscontinu(get_T, markers=markers, phy_prop=phy_prop, num_prop=num_prop, interp_type='gradTi')\n",
    "E0 = prob.energy\n",
    "print(prob.name)\n",
    "print('==========================')\n",
    "plot = Plotter('decale')\n",
    "t, e = prob.timestep(n=n, t_fin=t_fin, number_of_plots=1, plotter=plot)\n",
    "\n",
    "fig1,ax1 = plt.subplots(1)\n",
    "ax1.set_title('Énergie en fonction du temps')\n",
    "l = ax1.plot(t, e/(0.02*0.005*0.005), label=prob.name)\n",
    "le = fig1.legend()\n",
    "\n",
    "# plot.ax.plot(prob.bulles.markers.flatten(), prob.bulles.T.flatten(), 'r+')\n",
    "# plot.ax.plot(prob.bulles.markers.flatten(), prob.bulles.Tg.flatten(), 'g+')\n",
    "# plot.ax.plot(prob.bulles.markers.flatten(), prob.bulles.Td.flatten(), 'b+')\n",
    "\n",
    "n = len(e)\n",
    "i0 = int(n/5)\n",
    "dedt_adim = (e[-1] - e[i0]) / (t[-1] - t[i0]) * prob.dt / E0  # on a mult\n",
    "# par Dt / rho_cp_l T_l V\n",
    "print('dE*/dt* = %g' % dedt_adim)\n",
    "plt.figure()\n",
    "plt.plot(prob.num_prop.x, prob.rho_cp_a*prob.T)\n",
    "print(prob.T)"
   ]
  }
 ],
 "metadata": {
  "hide_input": false,
  "kernelspec": {
   "display_name": "venv-flu1d",
   "language": "python",
   "name": "venv-flu1d"
  },
  "language_info": {
   "codemirror_mode": {
    "name": "ipython",
    "version": 3
   },
   "file_extension": ".py",
   "mimetype": "text/x-python",
   "name": "python",
   "nbconvert_exporter": "python",
   "pygments_lexer": "ipython3",
   "version": "3.6.9"
  },
  "toc": {
   "base_numbering": 1,
   "nav_menu": {},
   "number_sections": true,
   "sideBar": true,
   "skip_h1_title": false,
   "title_cell": "Table of Contents",
   "title_sidebar": "Contents",
   "toc_cell": false,
   "toc_position": {},
   "toc_section_display": true,
   "toc_window_display": false
  },
  "toc-autonumbering": true,
  "toc-showcode": false,
  "toc-showmarkdowntxt": true,
  "widgets": {
   "application/vnd.jupyter.widget-state+json": {
    "state": {
     "03a037229677458b84befbe3da0e4c14": {
      "model_module": "jupyter-matplotlib",
      "model_module_version": "^0.9.0",
      "model_name": "MPLCanvasModel",
      "state": {
       "_cursor": "default",
       "_figure_label": "Figure 2",
       "_height": 500,
       "_width": 1000,
       "layout": "IPY_MODEL_bbe3fb62510f4abc88b5dec080ed5b74",
       "toolbar": "IPY_MODEL_d1dd1063347d413b9ccc65031869afaa",
       "toolbar_position": "left"
      }
     },
     "0b2a736e11ee4eb58c9a4da32b85d0ab": {
      "model_module": "jupyter-matplotlib",
      "model_module_version": "^0.9.0",
      "model_name": "ToolbarModel",
      "state": {
       "_current_action": "zoom",
       "layout": "IPY_MODEL_b1d3d0652bdf4ca5b0b94e74a593240c",
       "toolitems": [
        [
         "Home",
         "Reset original view",
         "home",
         "home"
        ],
        [
         "Back",
         "Back to previous view",
         "arrow-left",
         "back"
        ],
        [
         "Forward",
         "Forward to next view",
         "arrow-right",
         "forward"
        ],
        [
         "Pan",
         "Left button pans, Right button zooms\nx/y fixes axis, CTRL fixes aspect",
         "arrows",
         "pan"
        ],
        [
         "Zoom",
         "Zoom to rectangle\nx/y fixes axis, CTRL fixes aspect",
         "square-o",
         "zoom"
        ],
        [
         "Download",
         "Download plot",
         "floppy-o",
         "save_figure"
        ]
       ]
      }
     },
     "0d36b47539fd49f0b4c2db20612ca023": {
      "model_module": "jupyter-matplotlib",
      "model_module_version": "^0.9.0",
      "model_name": "ToolbarModel",
      "state": {
       "layout": "IPY_MODEL_f51637ebeb834904999c2eb92b2faf15",
       "toolitems": [
        [
         "Home",
         "Reset original view",
         "home",
         "home"
        ],
        [
         "Back",
         "Back to previous view",
         "arrow-left",
         "back"
        ],
        [
         "Forward",
         "Forward to next view",
         "arrow-right",
         "forward"
        ],
        [
         "Pan",
         "Left button pans, Right button zooms\nx/y fixes axis, CTRL fixes aspect",
         "arrows",
         "pan"
        ],
        [
         "Zoom",
         "Zoom to rectangle\nx/y fixes axis, CTRL fixes aspect",
         "square-o",
         "zoom"
        ],
        [
         "Download",
         "Download plot",
         "floppy-o",
         "save_figure"
        ]
       ]
      }
     },
     "16e64e965ccf4fee8e4d31146d4fe083": {
      "model_module": "@jupyter-widgets/base",
      "model_module_version": "1.2.0",
      "model_name": "LayoutModel",
      "state": {}
     },
     "184bfcf7f08540d09b39bcbfed286da5": {
      "model_module": "@jupyter-widgets/base",
      "model_module_version": "1.2.0",
      "model_name": "LayoutModel",
      "state": {}
     },
     "25b0d0a9019848a382b01f7bfa60e669": {
      "model_module": "jupyter-matplotlib",
      "model_module_version": "^0.9.0",
      "model_name": "MPLCanvasModel",
      "state": {
       "_cursor": "default",
       "_figure_label": "Figure 7",
       "_height": 500,
       "_message": "x= y=−8.0",
       "_width": 1000,
       "layout": "IPY_MODEL_8b1ea54992af42b8bb783fc98f24ce2a",
       "toolbar": "IPY_MODEL_9245988c092b4ce684d1d15405cdd50d",
       "toolbar_position": "left"
      }
     },
     "2840b40150c24327836a587cd1427e4c": {
      "model_module": "jupyter-matplotlib",
      "model_module_version": "^0.9.0",
      "model_name": "ToolbarModel",
      "state": {
       "layout": "IPY_MODEL_3a976331bb5740ae9ed1b09ab9e7e951",
       "toolitems": [
        [
         "Home",
         "Reset original view",
         "home",
         "home"
        ],
        [
         "Back",
         "Back to previous view",
         "arrow-left",
         "back"
        ],
        [
         "Forward",
         "Forward to next view",
         "arrow-right",
         "forward"
        ],
        [
         "Pan",
         "Left button pans, Right button zooms\nx/y fixes axis, CTRL fixes aspect",
         "arrows",
         "pan"
        ],
        [
         "Zoom",
         "Zoom to rectangle\nx/y fixes axis, CTRL fixes aspect",
         "square-o",
         "zoom"
        ],
        [
         "Download",
         "Download plot",
         "floppy-o",
         "save_figure"
        ]
       ]
      }
     },
     "338a13f4f7ac4f4890ab21878dd8f7b6": {
      "model_module": "@jupyter-widgets/base",
      "model_module_version": "1.2.0",
      "model_name": "LayoutModel",
      "state": {}
     },
     "3a976331bb5740ae9ed1b09ab9e7e951": {
      "model_module": "@jupyter-widgets/base",
      "model_module_version": "1.2.0",
      "model_name": "LayoutModel",
      "state": {}
     },
     "3d577f6be38f4f8f8fe8918604a2ce62": {
      "model_module": "jupyter-matplotlib",
      "model_module_version": "^0.9.0",
      "model_name": "MPLCanvasModel",
      "state": {
       "_cursor": "default",
       "_figure_label": "Figure 6",
       "_height": 500,
       "_width": 1000,
       "layout": "IPY_MODEL_5003fcfccc984f7a9684ea0f932b5884",
       "toolbar": "IPY_MODEL_2840b40150c24327836a587cd1427e4c",
       "toolbar_position": "left"
      }
     },
     "3f7e09242d2640ecb64d808657d888de": {
      "model_module": "jupyter-matplotlib",
      "model_module_version": "^0.9.0",
      "model_name": "ToolbarModel",
      "state": {
       "layout": "IPY_MODEL_defc76808fc148e3a1a0184a03b86115",
       "toolitems": [
        [
         "Home",
         "Reset original view",
         "home",
         "home"
        ],
        [
         "Back",
         "Back to previous view",
         "arrow-left",
         "back"
        ],
        [
         "Forward",
         "Forward to next view",
         "arrow-right",
         "forward"
        ],
        [
         "Pan",
         "Left button pans, Right button zooms\nx/y fixes axis, CTRL fixes aspect",
         "arrows",
         "pan"
        ],
        [
         "Zoom",
         "Zoom to rectangle\nx/y fixes axis, CTRL fixes aspect",
         "square-o",
         "zoom"
        ],
        [
         "Download",
         "Download plot",
         "floppy-o",
         "save_figure"
        ]
       ]
      }
     },
     "4f1fbdd9c21d4dc789a993dcd4a3ab94": {
      "model_module": "jupyter-matplotlib",
      "model_module_version": "^0.9.0",
      "model_name": "ToolbarModel",
      "state": {
       "_current_action": "zoom",
       "layout": "IPY_MODEL_9aee1a8842d34ac48f51165b0104acbe",
       "toolitems": [
        [
         "Home",
         "Reset original view",
         "home",
         "home"
        ],
        [
         "Back",
         "Back to previous view",
         "arrow-left",
         "back"
        ],
        [
         "Forward",
         "Forward to next view",
         "arrow-right",
         "forward"
        ],
        [
         "Pan",
         "Left button pans, Right button zooms\nx/y fixes axis, CTRL fixes aspect",
         "arrows",
         "pan"
        ],
        [
         "Zoom",
         "Zoom to rectangle\nx/y fixes axis, CTRL fixes aspect",
         "square-o",
         "zoom"
        ],
        [
         "Download",
         "Download plot",
         "floppy-o",
         "save_figure"
        ]
       ]
      }
     },
     "5003fcfccc984f7a9684ea0f932b5884": {
      "model_module": "@jupyter-widgets/base",
      "model_module_version": "1.2.0",
      "model_name": "LayoutModel",
      "state": {}
     },
     "55d6646684e14ab481560840e0fd364d": {
      "model_module": "@jupyter-widgets/base",
      "model_module_version": "1.2.0",
      "model_name": "LayoutModel",
      "state": {}
     },
     "56376c3252a14a2aa236e15cfb7338cb": {
      "model_module": "jupyter-matplotlib",
      "model_module_version": "^0.9.0",
      "model_name": "MPLCanvasModel",
      "state": {
       "_cursor": "default",
       "_figure_label": "Figure 9",
       "_height": 500,
       "_message": "x=0.0517 y=−0.0053",
       "_width": 1000,
       "layout": "IPY_MODEL_7b386145dca548be8b11529b9af7cd5a",
       "toolbar": "IPY_MODEL_3f7e09242d2640ecb64d808657d888de",
       "toolbar_position": "left"
      }
     },
     "62db656ff0f84211b3069537e4108063": {
      "model_module": "@jupyter-widgets/base",
      "model_module_version": "1.2.0",
      "model_name": "LayoutModel",
      "state": {}
     },
     "6c429d591c1a438ea21cb91e76178d35": {
      "model_module": "@jupyter-widgets/base",
      "model_module_version": "1.2.0",
      "model_name": "LayoutModel",
      "state": {}
     },
     "6e09013408954657be149dc10ba2f3ed": {
      "model_module": "jupyter-matplotlib",
      "model_module_version": "^0.9.0",
      "model_name": "MPLCanvasModel",
      "state": {
       "_cursor": "default",
       "_figure_label": "Figure 4",
       "_height": 500,
       "_width": 1000,
       "layout": "IPY_MODEL_338a13f4f7ac4f4890ab21878dd8f7b6",
       "toolbar": "IPY_MODEL_9845cd7a2f6a41bda58fd0854f0f7bc5",
       "toolbar_position": "left"
      }
     },
     "7b386145dca548be8b11529b9af7cd5a": {
      "model_module": "@jupyter-widgets/base",
      "model_module_version": "1.2.0",
      "model_name": "LayoutModel",
      "state": {}
     },
     "7b660fc1240a479e9b6f970c618975e2": {
      "model_module": "jupyter-matplotlib",
      "model_module_version": "^0.9.0",
      "model_name": "MPLCanvasModel",
      "state": {
       "_cursor": "default",
       "_figure_label": "Figure 8",
       "_height": 500,
       "_message": "x=0.01011 y=1.590e+286",
       "_width": 1000,
       "layout": "IPY_MODEL_62db656ff0f84211b3069537e4108063",
       "toolbar": "IPY_MODEL_0d36b47539fd49f0b4c2db20612ca023",
       "toolbar_position": "left"
      }
     },
     "7d1a91f9e1634c318e4198108545162c": {
      "model_module": "@jupyter-widgets/base",
      "model_module_version": "1.2.0",
      "model_name": "LayoutModel",
      "state": {}
     },
     "82b3903169844ba4b2dcb108ea2d578a": {
      "model_module": "@jupyter-widgets/base",
      "model_module_version": "1.2.0",
      "model_name": "LayoutModel",
      "state": {}
     },
     "8b1ea54992af42b8bb783fc98f24ce2a": {
      "model_module": "@jupyter-widgets/base",
      "model_module_version": "1.2.0",
      "model_name": "LayoutModel",
      "state": {}
     },
     "920fae00a5864721b271215db282dbfc": {
      "model_module": "jupyter-matplotlib",
      "model_module_version": "^0.9.0",
      "model_name": "MPLCanvasModel",
      "state": {
       "_cursor": "crosshair",
       "_figure_label": "Figure 1",
       "_height": 500,
       "_image_mode": "diff",
       "_message": "x= y=0.656",
       "_rubberband_y": 501,
       "_width": 1000,
       "layout": "IPY_MODEL_82b3903169844ba4b2dcb108ea2d578a",
       "toolbar": "IPY_MODEL_0b2a736e11ee4eb58c9a4da32b85d0ab",
       "toolbar_position": "left"
      }
     },
     "9245988c092b4ce684d1d15405cdd50d": {
      "model_module": "jupyter-matplotlib",
      "model_module_version": "^0.9.0",
      "model_name": "ToolbarModel",
      "state": {
       "layout": "IPY_MODEL_6c429d591c1a438ea21cb91e76178d35",
       "toolitems": [
        [
         "Home",
         "Reset original view",
         "home",
         "home"
        ],
        [
         "Back",
         "Back to previous view",
         "arrow-left",
         "back"
        ],
        [
         "Forward",
         "Forward to next view",
         "arrow-right",
         "forward"
        ],
        [
         "Pan",
         "Left button pans, Right button zooms\nx/y fixes axis, CTRL fixes aspect",
         "arrows",
         "pan"
        ],
        [
         "Zoom",
         "Zoom to rectangle\nx/y fixes axis, CTRL fixes aspect",
         "square-o",
         "zoom"
        ],
        [
         "Download",
         "Download plot",
         "floppy-o",
         "save_figure"
        ]
       ]
      }
     },
     "9845cd7a2f6a41bda58fd0854f0f7bc5": {
      "model_module": "jupyter-matplotlib",
      "model_module_version": "^0.9.0",
      "model_name": "ToolbarModel",
      "state": {
       "layout": "IPY_MODEL_7d1a91f9e1634c318e4198108545162c",
       "toolitems": [
        [
         "Home",
         "Reset original view",
         "home",
         "home"
        ],
        [
         "Back",
         "Back to previous view",
         "arrow-left",
         "back"
        ],
        [
         "Forward",
         "Forward to next view",
         "arrow-right",
         "forward"
        ],
        [
         "Pan",
         "Left button pans, Right button zooms\nx/y fixes axis, CTRL fixes aspect",
         "arrows",
         "pan"
        ],
        [
         "Zoom",
         "Zoom to rectangle\nx/y fixes axis, CTRL fixes aspect",
         "square-o",
         "zoom"
        ],
        [
         "Download",
         "Download plot",
         "floppy-o",
         "save_figure"
        ]
       ]
      }
     },
     "9aee1a8842d34ac48f51165b0104acbe": {
      "model_module": "@jupyter-widgets/base",
      "model_module_version": "1.2.0",
      "model_name": "LayoutModel",
      "state": {}
     },
     "9eea4332e8554b7f96afa772c556dc9f": {
      "model_module": "jupyter-matplotlib",
      "model_module_version": "^0.9.0",
      "model_name": "MPLCanvasModel",
      "state": {
       "_cursor": "crosshair",
       "_figure_label": "Figure 3",
       "_height": 500,
       "_image_mode": "diff",
       "_message": "x= y=0.138",
       "_rubberband_y": 501,
       "_width": 1000,
       "layout": "IPY_MODEL_16e64e965ccf4fee8e4d31146d4fe083",
       "toolbar": "IPY_MODEL_af688232cf9241128e3e70049ea82b51",
       "toolbar_position": "left"
      }
     },
     "a133e5970a0a430680f1751e8f652cbd": {
      "model_module": "@jupyter-widgets/base",
      "model_module_version": "1.2.0",
      "model_name": "LayoutModel",
      "state": {}
     },
     "a3d1092a5b2944b087e9a43611e5ed89": {
      "model_module": "@jupyter-widgets/base",
      "model_module_version": "1.2.0",
      "model_name": "LayoutModel",
      "state": {}
     },
     "a88ec08266d24a6094a36272bd602e66": {
      "model_module": "jupyter-matplotlib",
      "model_module_version": "^0.9.0",
      "model_name": "ToolbarModel",
      "state": {
       "layout": "IPY_MODEL_c0a960dddf1a40c7b00781807b53d41e",
       "toolitems": [
        [
         "Home",
         "Reset original view",
         "home",
         "home"
        ],
        [
         "Back",
         "Back to previous view",
         "arrow-left",
         "back"
        ],
        [
         "Forward",
         "Forward to next view",
         "arrow-right",
         "forward"
        ],
        [
         "Pan",
         "Left button pans, Right button zooms\nx/y fixes axis, CTRL fixes aspect",
         "arrows",
         "pan"
        ],
        [
         "Zoom",
         "Zoom to rectangle\nx/y fixes axis, CTRL fixes aspect",
         "square-o",
         "zoom"
        ],
        [
         "Download",
         "Download plot",
         "floppy-o",
         "save_figure"
        ]
       ]
      }
     },
     "af688232cf9241128e3e70049ea82b51": {
      "model_module": "jupyter-matplotlib",
      "model_module_version": "^0.9.0",
      "model_name": "ToolbarModel",
      "state": {
       "_current_action": "zoom",
       "layout": "IPY_MODEL_f155a5a08baa4443a215965b11b0a4e0",
       "toolitems": [
        [
         "Home",
         "Reset original view",
         "home",
         "home"
        ],
        [
         "Back",
         "Back to previous view",
         "arrow-left",
         "back"
        ],
        [
         "Forward",
         "Forward to next view",
         "arrow-right",
         "forward"
        ],
        [
         "Pan",
         "Left button pans, Right button zooms\nx/y fixes axis, CTRL fixes aspect",
         "arrows",
         "pan"
        ],
        [
         "Zoom",
         "Zoom to rectangle\nx/y fixes axis, CTRL fixes aspect",
         "square-o",
         "zoom"
        ],
        [
         "Download",
         "Download plot",
         "floppy-o",
         "save_figure"
        ]
       ]
      }
     },
     "b1d3d0652bdf4ca5b0b94e74a593240c": {
      "model_module": "@jupyter-widgets/base",
      "model_module_version": "1.2.0",
      "model_name": "LayoutModel",
      "state": {}
     },
     "bbe3fb62510f4abc88b5dec080ed5b74": {
      "model_module": "@jupyter-widgets/base",
      "model_module_version": "1.2.0",
      "model_name": "LayoutModel",
      "state": {}
     },
     "c0a960dddf1a40c7b00781807b53d41e": {
      "model_module": "@jupyter-widgets/base",
      "model_module_version": "1.2.0",
      "model_name": "LayoutModel",
      "state": {}
     },
     "c2727d7e716d4eff900bfd1b42a7cf66": {
      "model_module": "jupyter-matplotlib",
      "model_module_version": "^0.9.0",
      "model_name": "MPLCanvasModel",
      "state": {
       "_cursor": "default",
       "_figure_label": "Figure 11",
       "_height": 500,
       "_width": 1000,
       "layout": "IPY_MODEL_a133e5970a0a430680f1751e8f652cbd",
       "toolbar": "IPY_MODEL_a88ec08266d24a6094a36272bd602e66",
       "toolbar_position": "left"
      }
     },
     "cb0becc360164b89804e3f508ad97de5": {
      "model_module": "jupyter-matplotlib",
      "model_module_version": "^0.9.0",
      "model_name": "MPLCanvasModel",
      "state": {
       "_cursor": "crosshair",
       "_figure_label": "Figure 5",
       "_height": 500,
       "_image_mode": "diff",
       "_message": "x= y=−1.04e+03",
       "_rubberband_y": 501,
       "_width": 1000,
       "layout": "IPY_MODEL_e87c67dc54744c8bb89932dab991140e",
       "toolbar": "IPY_MODEL_4f1fbdd9c21d4dc789a993dcd4a3ab94",
       "toolbar_position": "left"
      }
     },
     "d1dd1063347d413b9ccc65031869afaa": {
      "model_module": "jupyter-matplotlib",
      "model_module_version": "^0.9.0",
      "model_name": "ToolbarModel",
      "state": {
       "layout": "IPY_MODEL_a3d1092a5b2944b087e9a43611e5ed89",
       "toolitems": [
        [
         "Home",
         "Reset original view",
         "home",
         "home"
        ],
        [
         "Back",
         "Back to previous view",
         "arrow-left",
         "back"
        ],
        [
         "Forward",
         "Forward to next view",
         "arrow-right",
         "forward"
        ],
        [
         "Pan",
         "Left button pans, Right button zooms\nx/y fixes axis, CTRL fixes aspect",
         "arrows",
         "pan"
        ],
        [
         "Zoom",
         "Zoom to rectangle\nx/y fixes axis, CTRL fixes aspect",
         "square-o",
         "zoom"
        ],
        [
         "Download",
         "Download plot",
         "floppy-o",
         "save_figure"
        ]
       ]
      }
     },
     "d50dda7dfa234c9db6687e75cca3b515": {
      "model_module": "jupyter-matplotlib",
      "model_module_version": "^0.9.0",
      "model_name": "MPLCanvasModel",
      "state": {
       "_cursor": "default",
       "_figure_label": "Figure 10",
       "_height": 500,
       "_width": 1000,
       "layout": "IPY_MODEL_55d6646684e14ab481560840e0fd364d",
       "toolbar": "IPY_MODEL_d633220afd284d15a9ff53ea19e015fa",
       "toolbar_position": "left"
      }
     },
     "d633220afd284d15a9ff53ea19e015fa": {
      "model_module": "jupyter-matplotlib",
      "model_module_version": "^0.9.0",
      "model_name": "ToolbarModel",
      "state": {
       "layout": "IPY_MODEL_184bfcf7f08540d09b39bcbfed286da5",
       "toolitems": [
        [
         "Home",
         "Reset original view",
         "home",
         "home"
        ],
        [
         "Back",
         "Back to previous view",
         "arrow-left",
         "back"
        ],
        [
         "Forward",
         "Forward to next view",
         "arrow-right",
         "forward"
        ],
        [
         "Pan",
         "Left button pans, Right button zooms\nx/y fixes axis, CTRL fixes aspect",
         "arrows",
         "pan"
        ],
        [
         "Zoom",
         "Zoom to rectangle\nx/y fixes axis, CTRL fixes aspect",
         "square-o",
         "zoom"
        ],
        [
         "Download",
         "Download plot",
         "floppy-o",
         "save_figure"
        ]
       ]
      }
     },
     "defc76808fc148e3a1a0184a03b86115": {
      "model_module": "@jupyter-widgets/base",
      "model_module_version": "1.2.0",
      "model_name": "LayoutModel",
      "state": {}
     },
     "e87c67dc54744c8bb89932dab991140e": {
      "model_module": "@jupyter-widgets/base",
      "model_module_version": "1.2.0",
      "model_name": "LayoutModel",
      "state": {}
     },
     "f155a5a08baa4443a215965b11b0a4e0": {
      "model_module": "@jupyter-widgets/base",
      "model_module_version": "1.2.0",
      "model_name": "LayoutModel",
      "state": {}
     },
     "f51637ebeb834904999c2eb92b2faf15": {
      "model_module": "@jupyter-widgets/base",
      "model_module_version": "1.2.0",
      "model_name": "LayoutModel",
      "state": {}
     }
    },
    "version_major": 2,
    "version_minor": 0
   }
  }
 },
 "nbformat": 4,
 "nbformat_minor": 5
}
