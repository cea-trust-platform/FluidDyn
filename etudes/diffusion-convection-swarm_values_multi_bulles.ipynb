{
 "cells": [
  {
   "cell_type": "markdown",
   "id": "ff85bb10",
   "metadata": {
    "tags": []
   },
   "source": [
    "# Étude de l'erreur due à la diffusion et à la convection dans le cas du SWARM"
   ]
  },
  {
   "cell_type": "code",
   "execution_count": 1,
   "id": "e49fd762-a10b-480b-a7f0-42f77b843c13",
   "metadata": {},
   "outputs": [],
   "source": [
    "import sys\n",
    "\n",
    "sys.path = ['/home/as259691/PycharmProjects/FluidDyn1D'] + sys.path"
   ]
  },
  {
   "cell_type": "code",
   "execution_count": 2,
   "id": "2ffdef2c-8113-431a-83f2-31a80cc46285",
   "metadata": {},
   "outputs": [],
   "source": [
    "from src.main import *\n",
    "from src.plot_fields import *\n",
    "\n",
    "%matplotlib widget"
   ]
  },
  {
   "cell_type": "markdown",
   "id": "de8be792",
   "metadata": {},
   "source": [
    "## Paramètres de la simulation\n",
    "\n",
    "Ici on va réaliser une simulation sans diffusion pour différentes écritures de notre équation thermique.\n",
    "\n",
    "La résolution se fait à chaque fois en WENO avec Euler explicite en temps."
   ]
  },
  {
   "cell_type": "code",
   "execution_count": 3,
   "id": "5651e4e6-e709-403e-ae3c-f712bd64fe1d",
   "metadata": {},
   "outputs": [],
   "source": [
    "# d = 6./100*Delta/2.\n",
    "phy_prop = PhysicalProperties(Delta=0.02, v=0.2, dS=0.005**2,\n",
    "                              lda1=5.5*10**-2, lda2=15.5, rho_cp1=70278., rho_cp2=702780., \n",
    "                              alpha=0.06, a_i=357.)\n",
    "num_prop = NumericalProperties(dx=3.9*10**-5, schema='weno', time_scheme='rk4')\n",
    "markers = None\n",
    "Formulation = [Problem, ProblemConserv2]\n",
    "\n",
    "n = 10000\n",
    "t_fin = 0.01"
   ]
  },
  {
   "cell_type": "markdown",
   "id": "e9187a5c-37d3-4578-9f5b-6acee7aaa802",
   "metadata": {},
   "source": [
    "## Étude selon la formulation de l'équation\n",
    "\n",
    "En fait s'il n'y a pas de convection il n'y a pas de différence entre les différentes formes, à l'exception de la moyenne utilisée pour $\\frac{1}{\\rho C_p}$"
   ]
  },
  {
   "cell_type": "markdown",
   "id": "0df0f773",
   "metadata": {},
   "source": [
    "### RK4"
   ]
  },
  {
   "cell_type": "code",
   "execution_count": 4,
   "id": "994cb9d1",
   "metadata": {},
   "outputs": [
    {
     "data": {
      "application/vnd.jupyter.widget-view+json": {
       "model_id": "115097be9a544af38f886811e52bfa33",
       "version_major": 2,
       "version_minor": 0
      },
      "text/plain": [
       "Canvas(toolbar=Toolbar(toolitems=[('Home', 'Reset original view', 'home', 'home'), ('Back', 'Back to previous …"
      ]
     },
     "metadata": {},
     "output_type": "display_data"
    },
    {
     "data": {
      "application/vnd.jupyter.widget-view+json": {
       "model_id": "b6044c2bb08740c2973fba882d8ecc3c",
       "version_major": 2,
       "version_minor": 0
      },
      "text/plain": [
       "Canvas(toolbar=Toolbar(toolitems=[('Home', 'Reset original view', 'home', 'home'), ('Back', 'Back to previous …"
      ]
     },
     "metadata": {},
     "output_type": "display_data"
    },
    {
     "name": "stdout",
     "output_type": "stream",
     "text": [
      "dt fourier\n",
      "6.896325922215141e-06\n"
     ]
    },
    {
     "data": {
      "application/vnd.jupyter.widget-view+json": {
       "model_id": "33ae1f023e034874a4758bbd5d0eb5d7",
       "version_major": 2,
       "version_minor": 0
      },
      "text/plain": [
       "Canvas(toolbar=Toolbar(toolitems=[('Home', 'Reset original view', 'home', 'home'), ('Back', 'Back to previous …"
      ]
     },
     "metadata": {},
     "output_type": "display_data"
    },
    {
     "name": "stdout",
     "output_type": "stream",
     "text": [
      "Cas : mixte, rk4, weno, dx = 3.9e-05, dt = 6.89633e-06, cfl = 0.0353657 dE*/dt* = -0.000000\n",
      "dt fourier\n",
      "6.896325922215141e-06\n"
     ]
    },
    {
     "data": {
      "application/vnd.jupyter.widget-view+json": {
       "model_id": "d4b9c64632b747209dff39bf2729c643",
       "version_major": 2,
       "version_minor": 0
      },
      "text/plain": [
       "Canvas(toolbar=Toolbar(toolitems=[('Home', 'Reset original view', 'home', 'home'), ('Back', 'Back to previous …"
      ]
     },
     "metadata": {},
     "output_type": "display_data"
    },
    {
     "name": "stdout",
     "output_type": "stream",
     "text": [
      "Forme conservative boniou, Cas : mixte, rk4, weno, dx = 3.9e-05, dt = 6.89633e-06, cfl = 0.0353657 dE*/dt* = -0.000000\n"
     ]
    }
   ],
   "source": [
    "fig1,ax1 = plt.subplots(1)\n",
    "ax1.set_title('Énergie en fonction du temps')\n",
    "fig2, ax2 = plt.subplots(1)\n",
    "ax2.set_title('Énergie adimensionnée en fonction du temps adim')\n",
    "for form in Formulation:\n",
    "    prob = form(markers, get_T_creneau, phy_prop=phy_prop, num_prop=num_prop)\n",
    "    E0 = prob.energy\n",
    "    t, e = prob.timestep(t_fin=t_fin, number_of_plots=5, debug=False, plotter=Plotter('decale'))\n",
    "    l = ax1.plot(t, e/(0.02*0.005*0.005), label=prob.name)\n",
    "    ax1.legend()\n",
    "    n = len(e)\n",
    "    i0 = int(n/5)\n",
    "    ax2.plot(t/prob.dt, e / E0, label=prob.name)\n",
    "    dedt_adim = (e[-1] - e[i0]) / (t[-1] - t[i0]) * prob.dt / E0  # on a mult\n",
    "    # par Dt / rho_cp_l T_l V\n",
    "    print(prob.name, 'dE*/dt* = %f' % dedt_adim)\n",
    "le = fig2.legend()"
   ]
  },
  {
   "cell_type": "markdown",
   "id": "f9f71a80",
   "metadata": {},
   "source": [
    "### Euler"
   ]
  },
  {
   "cell_type": "code",
   "execution_count": null,
   "id": "852eceda",
   "metadata": {},
   "outputs": [],
   "source": [
    "num_prop = NumericalProperties(dx=3.9*10**-5, schema='weno', time_scheme='euler')"
   ]
  },
  {
   "cell_type": "code",
   "execution_count": 5,
   "id": "78c91ab5",
   "metadata": {},
   "outputs": [
    {
     "data": {
      "application/vnd.jupyter.widget-view+json": {
       "model_id": "49a592d1e9014d5087ffc0386c6201b5",
       "version_major": 2,
       "version_minor": 0
      },
      "text/plain": [
       "Canvas(toolbar=Toolbar(toolitems=[('Home', 'Reset original view', 'home', 'home'), ('Back', 'Back to previous …"
      ]
     },
     "metadata": {},
     "output_type": "display_data"
    },
    {
     "data": {
      "application/vnd.jupyter.widget-view+json": {
       "model_id": "2513719e04ca42e99612a03590e1071d",
       "version_major": 2,
       "version_minor": 0
      },
      "text/plain": [
       "Canvas(toolbar=Toolbar(toolitems=[('Home', 'Reset original view', 'home', 'home'), ('Back', 'Back to previous …"
      ]
     },
     "metadata": {},
     "output_type": "display_data"
    },
    {
     "name": "stdout",
     "output_type": "stream",
     "text": [
      "6.918476729633315e-06\n"
     ]
    },
    {
     "data": {
      "application/vnd.jupyter.widget-view+json": {
       "model_id": "554bd99991c04f25af44c07329ac69aa",
       "version_major": 2,
       "version_minor": 0
      },
      "text/plain": [
       "Canvas(toolbar=Toolbar(toolitems=[('Home', 'Reset original view', 'home', 'home'), ('Back', 'Back to previous …"
      ]
     },
     "metadata": {},
     "output_type": "display_data"
    },
    {
     "name": "stdout",
     "output_type": "stream",
     "text": [
      "Cas : mixte, euler, weno, dx = 3.90626e-05, dt = 6.91848e-06, cfl = 0.0354225 dE*/dt* = -0.000001\n",
      "6.918476729633315e-06\n"
     ]
    },
    {
     "data": {
      "application/vnd.jupyter.widget-view+json": {
       "model_id": "b9dce164b1ae468694ae6cd2005d097f",
       "version_major": 2,
       "version_minor": 0
      },
      "text/plain": [
       "Canvas(toolbar=Toolbar(toolitems=[('Home', 'Reset original view', 'home', 'home'), ('Back', 'Back to previous …"
      ]
     },
     "metadata": {},
     "output_type": "display_data"
    },
    {
     "name": "stdout",
     "output_type": "stream",
     "text": [
      "Forme conservative boniou, Cas : mixte, euler, weno, dx = 3.90626e-05, dt = 6.91848e-06, cfl = 0.0354225 dE*/dt* = 0.000012\n"
     ]
    }
   ],
   "source": [
    "fig1,ax1 = plt.subplots(1)\n",
    "ax1.set_title('Énergie en fonction du temps')\n",
    "fig2, ax2 = plt.subplots(1)\n",
    "ax2.set_title('Énergie adimensionnée en fonction du temps adim')\n",
    "for form in Formulation:\n",
    "    prob = form(markers, get_T_creneau, phy_prop=phy_prop)\n",
    "    E0 = prob.energy\n",
    "    t, e = prob.timestep(t_fin=t_fin, number_of_plots=5, debug=False, plotter=Plotter('decale'))\n",
    "    l = ax1.plot(t, e/0.02, label=prob.name)\n",
    "    ax1.legend()\n",
    "    n = len(e)\n",
    "    i0 = int(n/5)\n",
    "    ax2.plot(t/prob.dt, e / E0, label=prob.name)\n",
    "    dedt_adim = (e[-1] - e[i0]) / (t[-1] - t[i0]) * prob.dt / E0  # on a mult\n",
    "    # par Dt / rho_cp_l T_l V\n",
    "    print(prob.name, 'dE*/dt* = %f' % dedt_adim)\n",
    "le = fig2.legend()"
   ]
  },
  {
   "cell_type": "markdown",
   "id": "91307880",
   "metadata": {},
   "source": [
    "## Cas boniou, euler avec weno et upwind quand le stencil traverse l'interface"
   ]
  },
  {
   "cell_type": "code",
   "execution_count": null,
   "id": "aca4458e",
   "metadata": {},
   "outputs": [],
   "source": [
    "num_prop = NumericalProperties(dx=3.9*10**-5, schema='weno upwind', time_scheme='euler')"
   ]
  },
  {
   "cell_type": "code",
   "execution_count": 6,
   "id": "5ff305d8",
   "metadata": {},
   "outputs": [
    {
     "data": {
      "application/vnd.jupyter.widget-view+json": {
       "model_id": "63f0a302700d41d4883c1e0d7ac40f7b",
       "version_major": 2,
       "version_minor": 0
      },
      "text/plain": [
       "Canvas(toolbar=Toolbar(toolitems=[('Home', 'Reset original view', 'home', 'home'), ('Back', 'Back to previous …"
      ]
     },
     "metadata": {},
     "output_type": "display_data"
    },
    {
     "data": {
      "application/vnd.jupyter.widget-view+json": {
       "model_id": "546e109b456d447783915293d40fa3be",
       "version_major": 2,
       "version_minor": 0
      },
      "text/plain": [
       "Canvas(toolbar=Toolbar(toolitems=[('Home', 'Reset original view', 'home', 'home'), ('Back', 'Back to previous …"
      ]
     },
     "metadata": {},
     "output_type": "display_data"
    },
    {
     "name": "stdout",
     "output_type": "stream",
     "text": [
      "6.918476729633315e-06\n"
     ]
    },
    {
     "data": {
      "application/vnd.jupyter.widget-view+json": {
       "model_id": "3df9043fe21840b083f46b341b62ec08",
       "version_major": 2,
       "version_minor": 0
      },
      "text/plain": [
       "Canvas(toolbar=Toolbar(toolitems=[('Home', 'Reset original view', 'home', 'home'), ('Back', 'Back to previous …"
      ]
     },
     "metadata": {},
     "output_type": "display_data"
    },
    {
     "name": "stdout",
     "output_type": "stream",
     "text": [
      "Cas : mixte, euler, weno upwind, dx = 3.90626e-05, dt = 6.91848e-06, cfl = 0.0354225 dE*/dt* = -0.000002\n",
      "6.918476729633315e-06\n"
     ]
    },
    {
     "data": {
      "application/vnd.jupyter.widget-view+json": {
       "model_id": "a65343375ca1423d8e673f0141e97d51",
       "version_major": 2,
       "version_minor": 0
      },
      "text/plain": [
       "Canvas(toolbar=Toolbar(toolitems=[('Home', 'Reset original view', 'home', 'home'), ('Back', 'Back to previous …"
      ]
     },
     "metadata": {},
     "output_type": "display_data"
    },
    {
     "name": "stdout",
     "output_type": "stream",
     "text": [
      "Forme conservative boniou, Cas : mixte, euler, weno upwind, dx = 3.90626e-05, dt = 6.91848e-06, cfl = 0.0354225 dE*/dt* = 0.000003\n"
     ]
    }
   ],
   "source": [
    "fig1,ax1 = plt.subplots(1)\n",
    "ax1.set_title('Énergie en fonction du temps')\n",
    "fig2, ax2 = plt.subplots(1)\n",
    "ax2.set_title('Énergie adimensionnée en fonction du temps adim')\n",
    "for form in Formulation:\n",
    "    prob = form(markers, get_T_creneau, phy_prop=phy_prop, num_prop=num_prop)\n",
    "    E0 = prob.compute_energy()\n",
    "    t, e = prob.timestep(t_fin=t_fin, number_of_plots=5, debug=False, plotter=Plotter('decale'))\n",
    "    l = ax1.plot(t, e/0.02, label=prob.name)\n",
    "    ax1.legend()\n",
    "    n = len(e)\n",
    "    i0 = int(n/5)\n",
    "    ax2.plot(t/prob.dt, e / E0, label=prob.name)\n",
    "    dedt_adim = (e[-1] - e[i0]) / (t[-1] - t[i0]) * prob.dt / E0  # on a mult\n",
    "    # par Dt / rho_cp_l T_l V\n",
    "    print(prob.name, 'dE*/dt* = %f' % dedt_adim)\n",
    "le = fig2.legend()"
   ]
  },
  {
   "cell_type": "code",
   "execution_count": 14,
   "id": "a19a222d",
   "metadata": {},
   "outputs": [
    {
     "data": {
      "image/png": "[encoded data removed]",
      "text/plain": [
       "<Figure size 432x288 with 1 Axes>"
      ]
     },
     "metadata": {
      "needs_background": "light"
     },
     "output_type": "display_data"
    }
   ],
   "source": [
    "%matplotlib inline\n",
    "import matplotlib.pyplot as plt\n",
    "\n",
    "fig1, ax1 = plt.subplots(1)\n",
    "l = ax1.plot(t, e/0.02, label=prob.name)"
   ]
  }
 ],
 "metadata": {
  "hide_input": false,
  "kernelspec": {
   "display_name": "venv",
   "language": "python",
   "name": "venv"
  },
  "language_info": {
   "codemirror_mode": {
    "name": "ipython",
    "version": 3
   },
   "file_extension": ".py",
   "mimetype": "text/x-python",
   "name": "python",
   "nbconvert_exporter": "python",
   "pygments_lexer": "ipython3",
   "version": "3.7.3"
  },
  "toc": {
   "base_numbering": 1,
   "nav_menu": {},
   "number_sections": true,
   "sideBar": true,
   "skip_h1_title": false,
   "title_cell": "Table of Contents",
   "title_sidebar": "Contents",
   "toc_cell": false,
   "toc_position": {},
   "toc_section_display": true,
   "toc_window_display": false
  },
  "toc-autonumbering": true,
  "toc-showcode": false,
  "toc-showmarkdowntxt": false,
  "widgets": {
   "application/vnd.jupyter.widget-state+json": {
    "state": {},
    "version_major": 2,
    "version_minor": 0
   }
  }
 },
 "nbformat": 4,
 "nbformat_minor": 5
}
