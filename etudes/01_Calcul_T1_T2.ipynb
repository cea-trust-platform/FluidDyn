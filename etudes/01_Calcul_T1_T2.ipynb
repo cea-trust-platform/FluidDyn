{
 "cells": [
  {
   "cell_type": "markdown",
   "id": "02ff5de9-5152-4d07-a21c-10531f8a8bbc",
   "metadata": {},
   "source": [
    "# Calcul de $T_1^c$ et $T_2^c$"
   ]
  },
  {
   "cell_type": "markdown",
   "id": "93de6862-8922-4e13-bfdf-e0204e12d901",
   "metadata": {},
   "source": [
    "Cells :\n",
    "\n",
    "                              d12    d2I   dI3     d34\n",
    "                          |--------|----|-------|-------|\n",
    "                                 a1 |---|-----| a2\n",
    "               +----------+---------+---------+---------+---------+\n",
    "               |          |         |   |     |         |         |\n",
    "               |    +    -|>   +  ->| + |  +  |->  +   -|>   +    |\n",
    "               |    im2   |    im1  | 1c|  2c |    ip1  |    ip2  |\n",
    "               +----------+---------+---------+---------+---------+\n",
    "                    |----------|------|    |-------|---------|\n",
    "                         dx       dxc1       dxc2      dx\n",
    "\n",
    "Dans ce module on calcule analytiquement les extrapolations de gradient en I à partir des températures en im2, im1 et 1c\n",
    "Puis on fait la même chose avec 2c, ip1 et ip2"
   ]
  },
  {
   "cell_type": "code",
   "execution_count": 1,
   "id": "bc339304-9b3f-4596-9f23-71498a1098d3",
   "metadata": {},
   "outputs": [],
   "source": [
    "import sympy as sy\n",
    "\n",
    "sy.init_printing()"
   ]
  },
  {
   "cell_type": "markdown",
   "id": "ab9e258e-167a-4ae5-b0c2-c0a1d4f749f3",
   "metadata": {},
   "source": [
    "## Calcul des gradients $\\nabla T_g^I$ et $\\nabla T_d^I$\n",
    "\n",
    "Calcul à gauche"
   ]
  },
  {
   "cell_type": "code",
   "execution_count": 2,
   "id": "28960067-b48c-481c-ac51-f4d7acc0ec12",
   "metadata": {},
   "outputs": [
    {
     "name": "stdout",
     "output_type": "stream",
     "text": [
      "grad Tgi :\n"
     ]
    },
    {
     "data": {
      "image/png": "[encoded data removed]",
      "text/latex": [
       "$\\displaystyle \\frac{\\left(\\frac{3 \\alpha}{4} + 0.25\\right) \\left(\\frac{T^{c}_{g} - T_{i-1}}{dx \\left(\\frac{\\alpha}{2} + 0.5\\right)} - \\frac{T_{i-1} - T_{i-2}}{dx}\\right)}{\\frac{\\alpha}{4} + 0.75} + \\frac{T^{c}_{g} - T_{i-1}}{dx \\left(\\frac{\\alpha}{2} + 0.5\\right)}$"
      ],
      "text/plain": [
       "⎛3⋅α       ⎞ ⎛T_g__c - T_{i-1}   T_{i-1} - T_{i-2}⎞                   \n",
       "⎜─── + 0.25⎟⋅⎜──────────────── - ─────────────────⎟                   \n",
       "⎝ 4        ⎠ ⎜     ⎛α      ⎞             dx       ⎟                   \n",
       "             ⎜  dx⋅⎜─ + 0.5⎟                      ⎟                   \n",
       "             ⎝     ⎝2      ⎠                      ⎠   T_g__c - T_{i-1}\n",
       "─────────────────────────────────────────────────── + ────────────────\n",
       "                      α                                    ⎛α      ⎞  \n",
       "                      ─ + 0.75                          dx⋅⎜─ + 0.5⎟  \n",
       "                      4                                    ⎝2      ⎠  "
      ]
     },
     "execution_count": 2,
     "metadata": {},
     "output_type": "execute_result"
    }
   ],
   "source": [
    "a1, Tim2, Tim1, Tgc, dx = sy.symbols(\"alpha T_{i-2} T_{i-1} T_g^c dx\")\n",
    "\n",
    "axc1 = 1 / 2 + a1 / 2\n",
    "a12 = 1 / 2 + axc1 / 2\n",
    "a2I = 1 + a1 - a12\n",
    "\n",
    "dxc1 = axc1 * dx\n",
    "d12 = a12 * dx\n",
    "d2I = a2I * dx\n",
    "\n",
    "gradT1 = (Tim1 - Tim2) / dx\n",
    "gradT2 = (Tgc - Tim1) / dxc1\n",
    "\n",
    "# On extrapole à l'ordre 1 le gradient à l'interface\n",
    "gradTgI = gradT2 + (gradT2 - gradT1) / d12 * d2I\n",
    "print(\"grad Tgi :\")\n",
    "gradTgI"
   ]
  },
  {
   "cell_type": "markdown",
   "id": "4a39e849-4849-42a6-9dc9-e9060b03ce36",
   "metadata": {},
   "source": [
    "Calcul à droite"
   ]
  },
  {
   "cell_type": "code",
   "execution_count": 3,
   "id": "db07a50f-c98d-4adc-81a9-ae6c53786cae",
   "metadata": {},
   "outputs": [
    {
     "name": "stdout",
     "output_type": "stream",
     "text": [
      "grad Tdi :\n"
     ]
    },
    {
     "data": {
      "image/png": "[encoded data removed]",
      "text/latex": [
       "$\\displaystyle - \\frac{\\left(1.0 - \\frac{3 \\alpha}{4}\\right) \\left(\\frac{- T_{i+1} + T_{i+2}}{dx} - \\frac{- T^{c}_{d} + T_{i+1}}{dx \\left(1.0 - \\frac{\\alpha}{2}\\right)}\\right)}{1.0 - \\frac{\\alpha}{4}} + \\frac{- T^{c}_{d} + T_{i+1}}{dx \\left(1.0 - \\frac{\\alpha}{2}\\right)}$"
      ],
      "text/plain": [
       "  ⎛      3⋅α⎞ ⎛-T_{i+1} + T_{i+2}   -T_d__c + T_{i+1}⎞                    \n",
       "  ⎜1.0 - ───⎟⋅⎜────────────────── - ─────────────────⎟                    \n",
       "  ⎝       4 ⎠ ⎜        dx                 ⎛      α⎞  ⎟                    \n",
       "              ⎜                        dx⋅⎜1.0 - ─⎟  ⎟                    \n",
       "              ⎝                           ⎝      2⎠  ⎠   -T_d__c + T_{i+1}\n",
       "- ──────────────────────────────────────────────────── + ─────────────────\n",
       "                              α                                ⎛      α⎞  \n",
       "                        1.0 - ─                             dx⋅⎜1.0 - ─⎟  \n",
       "                              4                                ⎝      2⎠  "
      ]
     },
     "execution_count": 3,
     "metadata": {},
     "output_type": "execute_result"
    }
   ],
   "source": [
    "Tip2, Tip1, Tdc = sy.symbols(\"T_{i+2} T_{i+1} T_d^c\")\n",
    "\n",
    "a2 = 1 - a1\n",
    "axc2 = 1 / 2 + a2 / 2\n",
    "a34 = 1 / 2 + axc2 / 2\n",
    "aI3 = 1 + a2 - a34\n",
    "\n",
    "dxc2 = axc2 * dx\n",
    "dI3 = aI3 * dx\n",
    "d34 = a34 * dx\n",
    "\n",
    "gradT3 = (Tip1 - Tdc) / dxc2\n",
    "gradT4 = (Tip2 - Tip1) / dx\n",
    "\n",
    "# On extrapole à l'ordre 1 le gradient à l'interface\n",
    "gradTdI = gradT3 - (gradT4 - gradT3) / d34 * dI3\n",
    "print(\"grad Tdi :\")\n",
    "gradTdI"
   ]
  },
  {
   "cell_type": "markdown",
   "id": "c57e6704-9947-4d10-99bb-acc77c5f7ea7",
   "metadata": {},
   "source": [
    "## Définition du système d'équation"
   ]
  },
  {
   "cell_type": "code",
   "execution_count": 4,
   "id": "213740ae-ed59-4e74-97ca-5408f3ad0fec",
   "metadata": {
    "tags": []
   },
   "outputs": [
    {
     "name": "stdout",
     "output_type": "stream",
     "text": [
      "Tdc :\n"
     ]
    },
    {
     "data": {
      "image/png": "[encoded data removed]",
      "text/latex": [
       "$\\displaystyle \\frac{- 3.0 T_{i+1} \\lambda_{d} \\alpha^{3} r_{g} + 3.0 T_{i+1} \\lambda_{d} \\alpha^{2} r_{g} + 36.0 T_{i+1} \\lambda_{d} \\alpha r_{g} + 3.0 T_{i+2} \\lambda_{d} \\alpha^{3} r_{g} + 5.0 T_{i+2} \\lambda_{d} \\alpha^{2} r_{g} - 12.0 T_{i+2} \\lambda_{d} \\alpha r_{g} - 3.0 T_{i-1} \\lambda_{g} \\alpha^{3} r_{g} + 3.0 T_{i-1} \\lambda_{g} \\alpha^{2} r_{g} + 36.0 T_{i-1} \\lambda_{g} \\alpha r_{g} + 3.0 T_{i-2} \\lambda_{g} \\alpha^{3} r_{g} - 11.0 T_{i-2} \\lambda_{g} \\alpha^{2} r_{g} - 4.0 T_{i-2} \\lambda_{g} \\alpha r_{g} + 8.0 \\lambda_{g} \\alpha h - 32.0 \\lambda_{g} h}{8.0 \\lambda_{d} \\alpha^{2} r_{g} + 24.0 \\lambda_{d} \\alpha r_{g} - 8.0 \\lambda_{g} \\alpha^{2} r_{d} + 40.0 \\lambda_{g} \\alpha r_{d} - 32.0 \\lambda_{g} r_{d}}$"
      ],
      "text/plain": [
       "                         3                              2                     \n",
       "- 3.0⋅T_{i+1}⋅\\lambda_d⋅α ⋅r_g + 3.0⋅T_{i+1}⋅\\lambda_d⋅α ⋅r_g + 36.0⋅T_{i+1}⋅\\\n",
       "──────────────────────────────────────────────────────────────────────────────\n",
       "                                                                              \n",
       "                                                                              \n",
       "\n",
       "                                        3                              2      \n",
       "lambda_d⋅α⋅r_g + 3.0⋅T_{i+2}⋅\\lambda_d⋅α ⋅r_g + 5.0⋅T_{i+2}⋅\\lambda_d⋅α ⋅r_g -\n",
       "──────────────────────────────────────────────────────────────────────────────\n",
       "                                                                              \n",
       "                                                                        8.0⋅\\l\n",
       "\n",
       "                                                       3                      \n",
       " 12.0⋅T_{i+2}⋅\\lambda_d⋅α⋅r_g - 3.0⋅T_{i-1}⋅\\lambda_g⋅α ⋅r_g + 3.0⋅T_{i-1}⋅\\la\n",
       "──────────────────────────────────────────────────────────────────────────────\n",
       "         2                                             2                      \n",
       "ambda_d⋅α ⋅r_g + 24.0⋅\\lambda_d⋅α⋅r_g - 8.0⋅\\lambda_g⋅α ⋅r_d + 40.0⋅\\lambda_g⋅\n",
       "\n",
       "        2                                                             3       \n",
       "mbda_g⋅α ⋅r_g + 36.0⋅T_{i-1}⋅\\lambda_g⋅α⋅r_g + 3.0⋅T_{i-2}⋅\\lambda_g⋅α ⋅r_g - \n",
       "──────────────────────────────────────────────────────────────────────────────\n",
       "                                                                              \n",
       "α⋅r_d - 32.0⋅\\lambda_g⋅r_d                                                    \n",
       "\n",
       "                        2                                                     \n",
       "11.0⋅T_{i-2}⋅\\lambda_g⋅α ⋅r_g - 4.0⋅T_{i-2}⋅\\lambda_g⋅α⋅r_g + 8.0⋅\\lambda_g⋅α⋅\n",
       "──────────────────────────────────────────────────────────────────────────────\n",
       "                                                                              \n",
       "                                                                              \n",
       "\n",
       "                    \n",
       "h - 32.0⋅\\lambda_g⋅h\n",
       "────────────────────\n",
       "                    \n",
       "                    "
      ]
     },
     "execution_count": 4,
     "metadata": {},
     "output_type": "execute_result"
    }
   ],
   "source": [
    "# Égalité des flux à l'interface\n",
    "ldag, ldad = sy.symbols(\"\\lambda_g \\lambda_d\")\n",
    "eq1 = sy.Eq(ldag * gradTgI, ldad * gradTdI)\n",
    "\n",
    "# Énergie dans la cellule\n",
    "rhocpg, rhocpd, h = sy.symbols(\"r_g r_d h\")\n",
    "eq2 = sy.Eq(a1 * rhocpg * Tgc + a2 * rhocpd * Tdc, h)\n",
    "\n",
    "# Résolution du système :\n",
    "sol = sy.solve([eq1, eq2], [Tgc, Tdc])\n",
    "print(\"Tdc :\")\n",
    "sy.simplify(sol[Tdc])"
   ]
  },
  {
   "cell_type": "code",
   "execution_count": 5,
   "id": "ff200798-0a51-4151-b706-e4414098e986",
   "metadata": {},
   "outputs": [
    {
     "name": "stdout",
     "output_type": "stream",
     "text": [
      "Tgc :\n"
     ]
    },
    {
     "data": {
      "image/png": "[encoded data removed]",
      "text/latex": [
       "$\\displaystyle \\frac{- 3.0 T_{i+1} \\lambda_{d} \\alpha^{3} r_{d} + 6.0 T_{i+1} \\lambda_{d} \\alpha^{2} r_{d} + 33.0 T_{i+1} \\lambda_{d} \\alpha r_{d} - 36.0 T_{i+1} \\lambda_{d} r_{d} + 3.0 T_{i+2} \\lambda_{d} \\alpha^{3} r_{d} + 2.0 T_{i+2} \\lambda_{d} \\alpha^{2} r_{d} - 17.0 T_{i+2} \\lambda_{d} \\alpha r_{d} + 12.0 T_{i+2} \\lambda_{d} r_{d} - 3.0 T_{i-1} \\lambda_{g} \\alpha^{3} r_{d} + 6.0 T_{i-1} \\lambda_{g} \\alpha^{2} r_{d} + 33.0 T_{i-1} \\lambda_{g} \\alpha r_{d} - 36.0 T_{i-1} \\lambda_{g} r_{d} + 3.0 T_{i-2} \\lambda_{g} \\alpha^{3} r_{d} - 14.0 T_{i-2} \\lambda_{g} \\alpha^{2} r_{d} + 7.0 T_{i-2} \\lambda_{g} \\alpha r_{d} + 4.0 T_{i-2} \\lambda_{g} r_{d} + 8.0 \\lambda_{d} \\alpha h + 24.0 \\lambda_{d} h}{8.0 \\lambda_{d} \\alpha^{2} r_{g} + 24.0 \\lambda_{d} \\alpha r_{g} - 8.0 \\lambda_{g} \\alpha^{2} r_{d} + 40.0 \\lambda_{g} \\alpha r_{d} - 32.0 \\lambda_{g} r_{d}}$"
      ],
      "text/plain": [
       "                         3                              2                     \n",
       "- 3.0⋅T_{i+1}⋅\\lambda_d⋅α ⋅r_d + 6.0⋅T_{i+1}⋅\\lambda_d⋅α ⋅r_d + 33.0⋅T_{i+1}⋅\\\n",
       "──────────────────────────────────────────────────────────────────────────────\n",
       "                                                                              \n",
       "                                                                              \n",
       "\n",
       "                                                                     3        \n",
       "lambda_d⋅α⋅r_d - 36.0⋅T_{i+1}⋅\\lambda_d⋅r_d + 3.0⋅T_{i+2}⋅\\lambda_d⋅α ⋅r_d + 2\n",
       "──────────────────────────────────────────────────────────────────────────────\n",
       "                                                                              \n",
       "                                                                              \n",
       "\n",
       "                      2                                                       \n",
       ".0⋅T_{i+2}⋅\\lambda_d⋅α ⋅r_d - 17.0⋅T_{i+2}⋅\\lambda_d⋅α⋅r_d + 12.0⋅T_{i+2}⋅\\lam\n",
       "──────────────────────────────────────────────────────────────────────────────\n",
       "                                                                   2          \n",
       "                                                    8.0⋅\\lambda_d⋅α ⋅r_g + 24.\n",
       "\n",
       "                                   3                              2           \n",
       "bda_d⋅r_d - 3.0⋅T_{i-1}⋅\\lambda_g⋅α ⋅r_d + 6.0⋅T_{i-1}⋅\\lambda_g⋅α ⋅r_d + 33.0\n",
       "──────────────────────────────────────────────────────────────────────────────\n",
       "                                   2                                          \n",
       "0⋅\\lambda_d⋅α⋅r_g - 8.0⋅\\lambda_g⋅α ⋅r_d + 40.0⋅\\lambda_g⋅α⋅r_d - 32.0⋅\\lambda\n",
       "\n",
       "                                                                              \n",
       "⋅T_{i-1}⋅\\lambda_g⋅α⋅r_d - 36.0⋅T_{i-1}⋅\\lambda_g⋅r_d + 3.0⋅T_{i-2}⋅\\lambda_g⋅\n",
       "──────────────────────────────────────────────────────────────────────────────\n",
       "                                                                              \n",
       "_g⋅r_d                                                                        \n",
       "\n",
       " 3                               2                                            \n",
       "α ⋅r_d - 14.0⋅T_{i-2}⋅\\lambda_g⋅α ⋅r_d + 7.0⋅T_{i-2}⋅\\lambda_g⋅α⋅r_d + 4.0⋅T_{\n",
       "──────────────────────────────────────────────────────────────────────────────\n",
       "                                                                              \n",
       "                                                                              \n",
       "\n",
       "                                                         \n",
       "i-2}⋅\\lambda_g⋅r_d + 8.0⋅\\lambda_d⋅α⋅h + 24.0⋅\\lambda_d⋅h\n",
       "─────────────────────────────────────────────────────────\n",
       "                                                         \n",
       "                                                         "
      ]
     },
     "execution_count": 5,
     "metadata": {},
     "output_type": "execute_result"
    }
   ],
   "source": [
    "print(\"Tgc :\")\n",
    "sy.simplify(sol[Tgc])"
   ]
  },
  {
   "cell_type": "code",
   "execution_count": 6,
   "id": "08d2a0d5-3fbb-41a3-b0d8-8d0c627eba23",
   "metadata": {},
   "outputs": [
    {
     "name": "stdout",
     "output_type": "stream",
     "text": [
      "alpha interdit :\n"
     ]
    },
    {
     "data": {
      "image/png": "[encoded data removed]",
      "text/latex": [
       "$\\displaystyle \\frac{- 3 \\lambda_{d} r_{g} - 5 \\lambda_{g} r_{d} + \\sqrt{9 \\lambda_{d}^{2} r_{g}^{2} + 46 \\lambda_{d} \\lambda_{g} r_{d} r_{g} + 9 \\lambda_{g}^{2} r_{d}^{2}}}{2 \\left(\\lambda_{d} r_{g} - \\lambda_{g} r_{d}\\right)}$"
      ],
      "text/plain": [
       "                                        ______________________________________\n",
       "                                       ╱            2    2                    \n",
       "-3⋅\\lambda_d⋅r_g - 5⋅\\lambda_g⋅r_d + ╲╱  9⋅\\lambda_d ⋅r_g  + 46⋅\\lambda_d⋅\\lam\n",
       "──────────────────────────────────────────────────────────────────────────────\n",
       "                                       2⋅(\\lambda_d⋅r_g - \\lambda_g⋅r_d)      \n",
       "\n",
       "__________________________________\n",
       "                           2    2 \n",
       "bda_g⋅r_d⋅r_g + 9⋅\\lambda_g ⋅r_d  \n",
       "──────────────────────────────────\n",
       "                                  "
      ]
     },
     "execution_count": 6,
     "metadata": {},
     "output_type": "execute_result"
    }
   ],
   "source": [
    "eq3 = (\n",
    "    8 * a1**2 * ldad * rhocpg\n",
    "    - 8 * a1**2 * ldag * rhocpd\n",
    "    + 24 * a1 * ldad * rhocpg\n",
    "    + 40 * a1 * ldag * rhocpd\n",
    "    - 32 * ldag * rhocpd\n",
    ")\n",
    "\n",
    "aint = sy.solve(eq3, a1)\n",
    "print(\"alpha interdit :\")\n",
    "aint[0]"
   ]
  },
  {
   "cell_type": "markdown",
   "id": "4df0c0e3-0d8f-4d0d-b7e8-23c8f584efe8",
   "metadata": {},
   "source": [
    "# Calcul de T1 et T2 en utilisant deux équations d'évolution\n",
    "\n",
    "On utilise une équation d'évolution sur la température et une sur l'énergie.\n",
    "On en déduit $T_g^c$ et $T_d^c$.\n",
    "\n",
    "On calcule $T_I$ avec égalité des gradients à l'ordre 2."
   ]
  },
  {
   "cell_type": "code",
   "execution_count": 7,
   "id": "d80cec3a-1e3e-469a-a58b-ead451974f7c",
   "metadata": {},
   "outputs": [
    {
     "name": "stdout",
     "output_type": "stream",
     "text": [
      "Tgc : \n"
     ]
    },
    {
     "data": {
      "image/png": "[encoded data removed]",
      "text/latex": [
       "$\\displaystyle \\frac{T r_{d} - h}{\\alpha \\left(r_{d} - r_{g}\\right)}$"
      ],
      "text/plain": [
       "  T⋅r_d - h  \n",
       "─────────────\n",
       "α⋅(r_d - r_g)"
      ]
     },
     "execution_count": 7,
     "metadata": {},
     "output_type": "execute_result"
    }
   ],
   "source": [
    "T = sy.symbols(\"T\")\n",
    "eq1 = sy.Eq(rhocpg * a1 * Tgc + rhocpd * a2 * Tdc, h)\n",
    "eq2 = sy.Eq(a1 * Tgc + a2 * Tdc, T)\n",
    "\n",
    "sol1 = sy.solve([eq1, eq2], [Tgc, Tdc])\n",
    "print(\"Tgc : \")\n",
    "sy.simplify(sol1[Tgc])"
   ]
  },
  {
   "cell_type": "code",
   "execution_count": 8,
   "id": "28477fd1-0c70-4397-ba6c-61c6dd1a2274",
   "metadata": {},
   "outputs": [
    {
     "name": "stdout",
     "output_type": "stream",
     "text": [
      "Tdc : \n"
     ]
    },
    {
     "data": {
      "image/png": "[encoded data removed]",
      "text/latex": [
       "$\\displaystyle \\frac{T r_{g} - h}{\\alpha r_{d} - \\alpha r_{g} - r_{d} + r_{g}}$"
      ],
      "text/plain": [
       "        T⋅r_g - h        \n",
       "─────────────────────────\n",
       "α⋅r_d - α⋅r_g - r_d + r_g"
      ]
     },
     "execution_count": 8,
     "metadata": {},
     "output_type": "execute_result"
    }
   ],
   "source": [
    "print(\"Tdc : \")\n",
    "sy.simplify(sol1[Tdc])"
   ]
  },
  {
   "cell_type": "markdown",
   "id": "ccef6f50-5604-465a-b82f-ad12f4a809a4",
   "metadata": {},
   "source": [
    "# Calcul Tg et Td avec cellules décalées"
   ]
  },
  {
   "cell_type": "markdown",
   "id": "5071a4e5-dddb-48a2-a3bc-12edb809edcb",
   "metadata": {},
   "source": [
    "Cells :\n",
    "\n",
    "                                                  I\n",
    "                                          ag |---|-----| ad\n",
    "               +---------+---------+---------+---------+---------+---------+---------+\n",
    "               |         |         |         |   |     |         |         |         |\n",
    "               |    +   -|    +   -|>   +    |   |+    |    +   -|>   +    |>   +    |\n",
    "               |    im3  |    im2  |    im1  |   |i    |    ip1  |    ip2  |    ip3  |\n",
    "               +---------+---------+---------+---------+---------+---------+---------+\n",
    "                   |         |         |         |         |         |         |   \n",
    "                   |    +    |    +    |    +    |    +    |    +    |    +    |   \n",
    "                   |    jm2  |    jm1  |    j    |    jp1  |    jp2  |    jp3  |   \n",
    "                   +---------+---------+---------+---------+---------+---------+\n",
    "                              \n",
    "\n",
    "Dans ce module on calcule analytiquement les extrapolations de gradient en I à partir des températures en im2, im1 et 1c\n",
    "Puis on fait la même chose avec 2c, ip1 et ip2"
   ]
  },
  {
   "cell_type": "markdown",
   "id": "7f39426e-ad15-446a-aa32-523744c64369",
   "metadata": {},
   "source": [
    "On a :\n",
    "\n",
    "- $i-1 < j < i$ ce qui nous donne qu'on peut interpoler de i à j aux bords (pour jm2, jm1 et jp2, jp3 par ex) en utilisant les valeurs en i (et donc cans ce cas im3, im2, im1 et ip1, ip2, ip3)\n",
    "- $j < i < j+1$ ce qui nous donne qu'on peut interpoler de j à i à proximité de l'interface, donc pour im1, i et ip1\n",
    "\n",
    "Dans ce cas là, la formulation ne sera pas complètement conservative car ce sont les températures que l'on corrige et non les flux.\n",
    "\n",
    "Mais cela me semble être la meilleure possibilité pour se passer des difficultés liées à la convection.\n",
    "\n",
    "Résumé des étapes :\n",
    "\n",
    "1. interpolation de $T_i$ à $T_j$ pour $i_0 - 3 \\leq i \\leq i_0+3$ et $i_0-2 \\leq j \\leq i_0+3$\n",
    "2. équation d'évolution sur les $T_j$ pour $i-1 \\leq j \\leq i+1$\n",
    "3. nouvelle interpolation sur $T_i$\n"
   ]
  }
 ],
 "metadata": {
  "hide_input": false,
  "kernelspec": {
   "display_name": "venv-flu1d",
   "language": "python",
   "name": "venv-flu1d"
  },
  "language_info": {
   "codemirror_mode": {
    "name": "ipython",
    "version": 3
   },
   "file_extension": ".py",
   "mimetype": "text/x-python",
   "name": "python",
   "nbconvert_exporter": "python",
   "pygments_lexer": "ipython3",
   "version": "3.6.9"
  },
  "toc": {
   "base_numbering": 1,
   "nav_menu": {},
   "number_sections": true,
   "sideBar": true,
   "skip_h1_title": false,
   "title_cell": "Table of Contents",
   "title_sidebar": "Contents",
   "toc_cell": false,
   "toc_position": {},
   "toc_section_display": true,
   "toc_window_display": false
  },
  "widgets": {
   "application/vnd.jupyter.widget-state+json": {
    "state": {},
    "version_major": 2,
    "version_minor": 0
   }
  }
 },
 "nbformat": 4,
 "nbformat_minor": 5
}
