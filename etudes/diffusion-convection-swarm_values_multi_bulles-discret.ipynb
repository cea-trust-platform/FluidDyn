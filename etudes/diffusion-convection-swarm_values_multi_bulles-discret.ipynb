{
 "cells": [
  {
   "cell_type": "markdown",
   "id": "ff85bb10",
   "metadata": {
    "tags": []
   },
   "source": [
    "# Test de l'opérateur ProblemDiscontinu"
   ]
  },
  {
   "cell_type": "code",
   "execution_count": 1,
   "id": "e49fd762-a10b-480b-a7f0-42f77b843c13",
   "metadata": {},
   "outputs": [],
   "source": [
    "import sys\n",
    "\n",
    "sys.path = ['/home/as259691/PycharmProjects/FluidDyn1D'] + sys.path"
   ]
  },
  {
   "cell_type": "code",
   "execution_count": 2,
   "id": "2ffdef2c-8113-431a-83f2-31a80cc46285",
   "metadata": {},
   "outputs": [],
   "source": [
    "from src.main_discontinu import *\n",
    "from src.plot_fields import *\n",
    "\n",
    "%matplotlib widget\n",
    "rc('figure', figsize=(10,5))\n",
    "rc('figure', dpi=100)"
   ]
  },
  {
   "cell_type": "markdown",
   "id": "de8be792",
   "metadata": {},
   "source": [
    "## Paramètres de la simulation\n",
    "\n",
    "Ici on va réaliser une simulation sans diffusion pour différentes écritures de notre équation thermique.\n",
    "\n",
    "La résolution se fait à chaque fois en WENO avec Euler explicite en temps."
   ]
  },
  {
   "cell_type": "code",
   "execution_count": 3,
   "id": "5651e4e6-e709-403e-ae3c-f712bd64fe1d",
   "metadata": {},
   "outputs": [
    {
     "name": "stdout",
     "output_type": "stream",
     "text": [
      "initialisation des indices des cellules des marqueurs\n"
     ]
    }
   ],
   "source": [
    "# d = 6./100*Delta/2.\n",
    "phy_prop = PhysicalProperties(Delta=0.02, v=0., dS=0.005**2,\n",
    "                              lda1=5.5*10**-2, lda2=15.5, rho_cp1=70278., rho_cp2=702780., diff=1.,\n",
    "                              alpha=0.06, a_i=357.)\n",
    "num_prop = NumericalProperties(dx=3.9*10**-5, schema='upwind', time_scheme='euler', phy_prop=phy_prop, cfl=0.5)\n",
    "markers = BulleTemperature(phy_prop=phy_prop, x=num_prop.x, n_bulle=1)\n",
    "markers.shift(0.00001)\n",
    "markers.set_indices_markers(num_prop.x)\n",
    "# markers = Bulles(phy_prop=phy_prop)\n",
    "\n",
    "n = 20000\n",
    "t_fin = 0.01"
   ]
  },
  {
   "cell_type": "code",
   "execution_count": 4,
   "id": "994cb9d1",
   "metadata": {},
   "outputs": [
    {
     "name": "stdout",
     "output_type": "stream",
     "text": [
      "\n",
      "dt fourier\n",
      "6.918433404737903e-06\n",
      "Cas : diffusion, euler, upwind, dx = 3.90625e-05, dt = 6.91843e-06\n",
      "==========================\n"
     ]
    },
    {
     "data": {
      "application/vnd.jupyter.widget-view+json": {
       "model_id": "a6dff42c711f45bc9d4375bbf06e1fc1",
       "version_major": 2,
       "version_minor": 0
      },
      "text/plain": [
       "Canvas(toolbar=Toolbar(toolitems=[('Home', 'Reset original view', 'home', 'home'), ('Back', 'Back to previous …"
      ]
     },
     "metadata": {},
     "output_type": "display_data"
    },
    {
     "data": {
      "application/vnd.jupyter.widget-view+json": {
       "model_id": "7f63742016ea473da8d4546d4047d9e6",
       "version_major": 2,
       "version_minor": 0
      },
      "text/plain": [
       "Canvas(toolbar=Toolbar(toolitems=[('Home', 'Reset original view', 'home', 'home'), ('Back', 'Back to previous …"
      ]
     },
     "metadata": {},
     "output_type": "display_data"
    },
    {
     "name": "stdout",
     "output_type": "stream",
     "text": [
      "dE*/dt* = 2.88589e-18\n"
     ]
    }
   ],
   "source": [
    "print()\n",
    "prob = ProblemDiscontinu(get_T_creneau, markers=markers, phy_prop=phy_prop, num_prop=num_prop, interp_type='Ti')\n",
    "E0 = prob.energy\n",
    "print(prob.name)\n",
    "print('==========================')\n",
    "plot = Plotter('classic')\n",
    "t, e = prob.timestep(t_fin=t_fin, n=n, number_of_plots=1, plotter=plot)\n",
    "\n",
    "fig1,ax1 = plt.subplots(1)\n",
    "ax1.set_title('Énergie en fonction du temps')\n",
    "l = ax1.plot(t, e/(0.02*0.005*0.005), label=prob.name)\n",
    "le = fig1.legend()\n",
    "\n",
    "# plot.ax.plot(prob.bulles.markers.flatten(), prob.bulles.T.flatten(), 'r+')\n",
    "# plot.ax.plot(prob.bulles.markers.flatten(), prob.bulles.Tg.flatten(), 'g+')\n",
    "# plot.ax.plot(prob.bulles.markers.flatten(), prob.bulles.Td.flatten(), 'b+')\n",
    "\n",
    "n = len(e)\n",
    "i0 = int(n/5)\n",
    "dedt_adim = (e[-1] - e[i0]) / (t[-1] - t[i0]) * prob.dt / E0  # on a mult\n",
    "# par Dt / rho_cp_l T_l V\n",
    "print('dE*/dt* = %g' % dedt_adim)"
   ]
  },
  {
   "cell_type": "code",
   "execution_count": 5,
   "id": "753e0db2-2929-4ea0-a5fa-6435884c7665",
   "metadata": {},
   "outputs": [
    {
     "name": "stdout",
     "output_type": "stream",
     "text": [
      "\n",
      "dt fourier\n",
      "6.918433404737903e-06\n",
      "Cas : diffusion, euler, upwind, dx = 3.90625e-05, dt = 6.91843e-06\n",
      "==========================\n"
     ]
    },
    {
     "data": {
      "application/vnd.jupyter.widget-view+json": {
       "model_id": "553810a032134d22ae5802fa4b21353a",
       "version_major": 2,
       "version_minor": 0
      },
      "text/plain": [
       "Canvas(toolbar=Toolbar(toolitems=[('Home', 'Reset original view', 'home', 'home'), ('Back', 'Back to previous …"
      ]
     },
     "metadata": {},
     "output_type": "display_data"
    },
    {
     "data": {
      "application/vnd.jupyter.widget-view+json": {
       "model_id": "836cde988b7f451c82d28103e0ceb660",
       "version_major": 2,
       "version_minor": 0
      },
      "text/plain": [
       "Canvas(toolbar=Toolbar(toolitems=[('Home', 'Reset original view', 'home', 'home'), ('Back', 'Back to previous …"
      ]
     },
     "metadata": {},
     "output_type": "display_data"
    },
    {
     "name": "stdout",
     "output_type": "stream",
     "text": [
      "dE*/dt* = 0\n"
     ]
    }
   ],
   "source": [
    "print()\n",
    "prob = ProblemDiscontinu(get_T_creneau, markers=markers, phy_prop=phy_prop, num_prop=num_prop, interp_type='gradTi')\n",
    "E0 = prob.energy\n",
    "print(prob.name)\n",
    "print('==========================')\n",
    "plot = Plotter('classic')\n",
    "t, e = prob.timestep(n=n,t_fin=t_fin, number_of_plots=2, plotter=plot)\n",
    "\n",
    "fig1,ax1 = plt.subplots(1)\n",
    "ax1.set_title('Énergie en fonction du temps')\n",
    "l = ax1.plot(t, e/(0.02*0.005*0.005), label=prob.name)\n",
    "le = fig1.legend()\n",
    "\n",
    "# plot.ax.plot(prob.bulles.markers.flatten(), prob.bulles.T.flatten(), 'r+')\n",
    "# plot.ax.plot(prob.bulles.markers.flatten(), prob.bulles.Tg.flatten(), 'g+')\n",
    "# plot.ax.plot(prob.bulles.markers.flatten(), prob.bulles.Td.flatten(), 'b+')\n",
    "\n",
    "n = len(e)\n",
    "i0 = int(n/5)\n",
    "dedt_adim = (e[-1] - e[i0]) / (t[-1] - t[i0]) * prob.dt / E0  # on a mult\n",
    "# par Dt / rho_cp_l T_l V\n",
    "print('dE*/dt* = %g' % dedt_adim)"
   ]
  },
  {
   "cell_type": "markdown",
   "id": "9468a91a-1cbf-4f9a-b3b3-d87879c1cab1",
   "metadata": {},
   "source": [
    "## Test de la convection\n",
    "\n",
    "Ici on met une vitesse de convection, et on supprime artificiellement la diffusion.\n",
    "\n",
    "Pour augmenter la facilité du cas, on le réalise sur une température initiale continue."
   ]
  },
  {
   "cell_type": "code",
   "execution_count": 6,
   "id": "ac60047f-9a5a-4f0b-8b26-b7a33926b6e1",
   "metadata": {},
   "outputs": [
    {
     "name": "stdout",
     "output_type": "stream",
     "text": [
      "initialisation des indices des cellules des marqueurs\n"
     ]
    }
   ],
   "source": [
    "# d = 6./100*Delta/2.\n",
    "phy_prop = PhysicalProperties(Delta=0.02, v=0.2, dS=0.005**2,\n",
    "                              lda1=5.5*10**-2, lda2=15.5, rho_cp1=70278., rho_cp2=702780., diff=0.,\n",
    "                              alpha=0.06, a_i=357.)\n",
    "# num_prop = NumericalProperties(dx=3.9*10**-5, schema='upwind', time_scheme='euler', phy_prop=phy_prop, cfl=0.5)\n",
    "num_prop = NumericalProperties(dx=1*10**-5, schema='upwind', time_scheme='euler', phy_prop=phy_prop, cfl=1.)\n",
    "markers = BulleTemperature(phy_prop=phy_prop, x=num_prop.x, n_bulle=1)\n",
    "markers.shift(0.00001)\n",
    "markers.set_indices_markers(num_prop.x)\n",
    "# markers = Bulles(phy_prop=phy_prop)\n",
    "\n",
    "n = 20000\n",
    "t_fin = 0.01"
   ]
  },
  {
   "cell_type": "code",
   "execution_count": 7,
   "id": "6c4762a8-a154-48ac-b18e-5119dfe6521f",
   "metadata": {},
   "outputs": [
    {
     "name": "stdout",
     "output_type": "stream",
     "text": [
      "dt fourier\n",
      "4.538601983461999e-07\n",
      "Cas : convection, euler, upwind, dx = 1.0005e-05, cfl = 0.00907267\n",
      "==========================\n"
     ]
    },
    {
     "data": {
      "application/vnd.jupyter.widget-view+json": {
       "model_id": "2c742a972d1d4d03847372831f02d8f6",
       "version_major": 2,
       "version_minor": 0
      },
      "text/plain": [
       "Canvas(toolbar=Toolbar(toolitems=[('Home', 'Reset original view', 'home', 'home'), ('Back', 'Back to previous …"
      ]
     },
     "metadata": {},
     "output_type": "display_data"
    },
    {
     "data": {
      "application/vnd.jupyter.widget-view+json": {
       "model_id": "1c98ded3c57c40bbbcd1abeba1bd0724",
       "version_major": 2,
       "version_minor": 0
      },
      "text/plain": [
       "Canvas(toolbar=Toolbar(toolitems=[('Home', 'Reset original view', 'home', 'home'), ('Back', 'Back to previous …"
      ]
     },
     "metadata": {},
     "output_type": "display_data"
    },
    {
     "name": "stdout",
     "output_type": "stream",
     "text": [
      "dE*/dt* = -8.87625e-19\n"
     ]
    }
   ],
   "source": [
    "prob = ProblemDiscontinu(get_T_creneau, markers=markers, phy_prop=phy_prop, num_prop=num_prop, interp_type='Ti')\n",
    "E0 = prob.energy\n",
    "print(prob.name)\n",
    "print('==========================')\n",
    "plot = Plotter('decale')\n",
    "t, e = prob.timestep(t_fin=t_fin, n=n, number_of_plots=1, plotter=plot)\n",
    "\n",
    "fig1,ax1 = plt.subplots(1)\n",
    "ax1.set_title('Énergie en fonction du temps')\n",
    "l = ax1.plot(t, e/(0.02*0.005*0.005), label=prob.name)\n",
    "le = fig1.legend()\n",
    "\n",
    "# plot.ax.plot(prob.bulles.markers.flatten(), prob.bulles.T.flatten(), 'r+')\n",
    "# plot.ax.plot(prob.bulles.markers.flatten(), prob.bulles.Tg.flatten(), 'g+')\n",
    "# plot.ax.plot(prob.bulles.markers.flatten(), prob.bulles.Td.flatten(), 'b+')\n",
    "\n",
    "n = len(e)\n",
    "i0 = int(n/5)\n",
    "dedt_adim = (e[-1] - e[i0]) / (t[-1] - t[i0]) * prob.dt / E0  # on a mult\n",
    "# par Dt / rho_cp_l T_l V\n",
    "print('dE*/dt* = %g' % dedt_adim)"
   ]
  },
  {
   "cell_type": "code",
   "execution_count": 8,
   "id": "a4b1a479-e08b-4e40-b900-57d0523b1865",
   "metadata": {},
   "outputs": [
    {
     "name": "stdout",
     "output_type": "stream",
     "text": [
      "\n",
      "dt fourier\n",
      "4.538601983461999e-07\n",
      "Cas : convection, euler, upwind, dx = 1.0005e-05, cfl = 0.00907267\n",
      "==========================\n"
     ]
    },
    {
     "data": {
      "application/vnd.jupyter.widget-view+json": {
       "model_id": "47ab3d2bbba241f0a9837c3ff6a7326f",
       "version_major": 2,
       "version_minor": 0
      },
      "text/plain": [
       "Canvas(toolbar=Toolbar(toolitems=[('Home', 'Reset original view', 'home', 'home'), ('Back', 'Back to previous …"
      ]
     },
     "metadata": {},
     "output_type": "display_data"
    },
    {
     "data": {
      "application/vnd.jupyter.widget-view+json": {
       "model_id": "692f41c48af2445491a3b51d603ebe9d",
       "version_major": 2,
       "version_minor": 0
      },
      "text/plain": [
       "Canvas(toolbar=Toolbar(toolitems=[('Home', 'Reset original view', 'home', 'home'), ('Back', 'Back to previous …"
      ]
     },
     "metadata": {},
     "output_type": "display_data"
    },
    {
     "name": "stdout",
     "output_type": "stream",
     "text": [
      "dE*/dt* = 1.50137e+193\n"
     ]
    },
    {
     "data": {
      "application/vnd.jupyter.widget-view+json": {
       "model_id": "acbd68d53c474f5fa2b0cd4d690560a3",
       "version_major": 2,
       "version_minor": 0
      },
      "text/plain": [
       "Canvas(toolbar=Toolbar(toolitems=[('Home', 'Reset original view', 'home', 'home'), ('Back', 'Back to previous …"
      ]
     },
     "metadata": {},
     "output_type": "display_data"
    },
    {
     "name": "stdout",
     "output_type": "stream",
     "text": [
      "[0.77382085 0.77515828 0.77649303 ... 0.76979266 0.77113803 0.77248076]\n"
     ]
    }
   ],
   "source": [
    "print()\n",
    "prob = ProblemDiscontinu(get_T, markers=markers, phy_prop=phy_prop, num_prop=num_prop, interp_type='gradTi')\n",
    "E0 = prob.energy\n",
    "print(prob.name)\n",
    "print('==========================')\n",
    "plot = Plotter('decale')\n",
    "t, e = prob.timestep(n=n, t_fin=t_fin, number_of_plots=1, plotter=plot)\n",
    "\n",
    "fig1,ax1 = plt.subplots(1)\n",
    "ax1.set_title('Énergie en fonction du temps')\n",
    "l = ax1.plot(t, e/(0.02*0.005*0.005), label=prob.name)\n",
    "le = fig1.legend()\n",
    "\n",
    "# plot.ax.plot(prob.bulles.markers.flatten(), prob.bulles.T.flatten(), 'r+')\n",
    "# plot.ax.plot(prob.bulles.markers.flatten(), prob.bulles.Tg.flatten(), 'g+')\n",
    "# plot.ax.plot(prob.bulles.markers.flatten(), prob.bulles.Td.flatten(), 'b+')\n",
    "\n",
    "n = len(e)\n",
    "i0 = int(n/5)\n",
    "dedt_adim = (e[-1] - e[i0]) / (t[-1] - t[i0]) * prob.dt / E0  # on a mult\n",
    "# par Dt / rho_cp_l T_l V\n",
    "print('dE*/dt* = %g' % dedt_adim)\n",
    "plt.figure()\n",
    "plt.plot(prob.num_prop.x, prob.rho_cp_a*prob.T)\n",
    "print(prob.T)"
   ]
  },
  {
   "cell_type": "markdown",
   "id": "f9332e9f-6290-4d94-bfe2-cf0efec2cf52",
   "metadata": {},
   "source": [
    "# Probleme discontinu traité en déduisant $T_g^c$ et $T_d^c$ de T et h"
   ]
  },
  {
   "cell_type": "code",
   "execution_count": 5,
   "id": "6be12385-75df-49da-8ce0-8e9f59ff1bda",
   "metadata": {},
   "outputs": [
    {
     "name": "stdout",
     "output_type": "stream",
     "text": [
      "initialisation des indices des cellules des marqueurs\n"
     ]
    }
   ],
   "source": [
    "# d = 6./100*Delta/2.\n",
    "phy_prop = PhysicalProperties(Delta=0.02, v=0.2, dS=0.005**2,\n",
    "                              lda1=5.5*10**-2, lda2=15.5, rho_cp1=70278., rho_cp2=702780., diff=0.,\n",
    "                              alpha=0.06, a_i=357.)\n",
    "# num_prop = NumericalProperties(dx=3.9*10**-5, schema='upwind', time_scheme='euler', phy_prop=phy_prop, cfl=0.5)\n",
    "num_prop = NumericalProperties(dx=1*10**-5, schema='upwind', time_scheme='euler', phy_prop=phy_prop, cfl=1.)\n",
    "markers = BulleTemperature(phy_prop=phy_prop, x=num_prop.x, n_bulle=1)\n",
    "markers.shift(0.00001)\n",
    "markers.set_indices_markers(num_prop.x)\n",
    "# markers = Bulles(phy_prop=phy_prop)\n",
    "\n",
    "n = 300\n",
    "# t_fin = 0.01"
   ]
  },
  {
   "cell_type": "code",
   "execution_count": 6,
   "id": "b8efbf1a-3554-4b77-840a-15cb6e140d2d",
   "metadata": {},
   "outputs": [
    {
     "name": "stdout",
     "output_type": "stream",
     "text": [
      "\n",
      "dt fourier\n",
      "4.538601983461999e-07\n",
      "Cas : convection, euler, upwind, dx = 1.0005e-05, cfl = 0.00907267\n",
      "==========================\n"
     ]
    },
    {
     "data": {
      "application/vnd.jupyter.widget-view+json": {
       "model_id": "20a2e68976154ba6a103a1d133899d9d",
       "version_major": 2,
       "version_minor": 0
      },
      "text/plain": [
       "Canvas(toolbar=Toolbar(toolitems=[('Home', 'Reset original view', 'home', 'home'), ('Back', 'Back to previous …"
      ]
     },
     "metadata": {},
     "output_type": "display_data"
    },
    {
     "name": "stdout",
     "output_type": "stream",
     "text": [
      "lda grad T i :  1.8885529207181215e-12\n",
      "lda grad T i :  -2.0231514437967884e-11\n",
      "lda grad T i :  -0.668205056589793\n",
      "lda grad T i :  2.549496805023595\n",
      "lda grad T i :  -2.2961941565225508\n",
      "lda grad T i :  6.4008879273629855\n",
      "lda grad T i :  -12.84695814453876\n",
      "lda grad T i :  12.443560811286503\n",
      "lda grad T i :  0.12367338666901678\n",
      "lda grad T i :  22.424880001361853\n",
      "lda grad T i :  42.30048126352276\n",
      "lda grad T i :  40.136080068782896\n",
      "lda grad T i :  -1045.6662109668969\n",
      "lda grad T i :  75.00933334274998\n",
      "lda grad T i :  13402.233961563106\n",
      "lda grad T i :  155.75583309599799\n",
      "lda grad T i :  -99263.91883711921\n",
      "lda grad T i :  404.12404082489513\n",
      "lda grad T i :  456219.24737176637\n",
      "lda grad T i :  1838.251212511643\n",
      "lda grad T i :  -1350087.2403213303\n",
      "lda grad T i :  15.852099853706278\n",
      "lda grad T i :  2604071.3237761934\n",
      "lda grad T i :  -1.8173816070372155\n",
      "lda grad T i :  -3232754.579299916\n",
      "lda grad T i :  -1.9677508399959804\n",
      "lda grad T i :  2463475.2814209657\n",
      "lda grad T i :  -2.011410734191161\n",
      "lda grad T i :  -1024016.5174163891\n",
      "lda grad T i :  -2.027689239072461\n",
      "lda grad T i :  161926.62725473472\n",
      "lda grad T i :  -2.0326469070428104\n",
      "lda grad T i :  6157.849281166893\n",
      "lda grad T i :  -2.0316487164585846\n",
      "lda grad T i :  1173.1863171874788\n",
      "lda grad T i :  -2.026985545514922\n",
      "lda grad T i :  365.1059105261311\n",
      "lda grad T i :  -2.0197911048714445\n",
      "lda grad T i :  149.05705236544762\n",
      "lda grad T i :  -2.0106830958818027\n",
      "lda grad T i :  72.64824806162207\n",
      "lda grad T i :  -2.000020119608493\n",
      "lda grad T i :  40.15063105465992\n",
      "lda grad T i :  -1.9880186267555287\n",
      "lda grad T i :  24.374047482687946\n",
      "lda grad T i :  -1.9748113702934318\n",
      "lda grad T i :  15.90978205113634\n",
      "lda grad T i :  -1.9604788707410035\n",
      "lda grad T i :  10.998507127890399\n",
      "lda grad T i :  -1.9450673444912816\n",
      "lda grad T i :  7.963123319788826\n",
      "lda grad T i :  -1.9285994165128995\n",
      "lda grad T i :  5.987055029456545\n",
      "lda grad T i :  -1.9110807767998375\n",
      "lda grad T i :  4.6433612093908625\n",
      "lda grad T i :  -1.8925044023359132\n",
      "lda grad T i :  3.6952129476896634\n",
      "lda grad T i :  -1.872853360548812\n",
      "lda grad T i :  3.0045118473771755\n",
      "lda grad T i :  -1.8521026254439306\n",
      "lda grad T i :  2.487217327532591\n",
      "lda grad T i :  -1.830220323772626\n",
      "lda grad T i :  2.090262092040973\n",
      "lda grad T i :  -1.8071685399197017\n",
      "lda grad T i :  1.779039019395483\n",
      "lda grad T i :  -1.7829038410368687\n",
      "lda grad T i :  1.5303299274464335\n",
      "lda grad T i :  -1.7573776053439931\n",
      "lda grad T i :  1.3281606100073946\n",
      "lda grad T i :  -1.7305361865008957\n",
      "lda grad T i :  1.1612911010158466\n",
      "lda grad T i :  -1.7023209618515311\n",
      "lda grad T i :  1.0216514929525833\n",
      "lda grad T i :  -1.6726682986926233\n",
      "lda grad T i :  0.9033414198670593\n",
      "lda grad T i :  -1.641509429385853\n",
      "lda grad T i :  0.8019749537900283\n",
      "lda grad T i :  -1.6087702788233358\n",
      "lda grad T i :  0.7142424482361318\n",
      "lda grad T i :  -1.57437121484959\n",
      "lda grad T i :  0.63761177974\n",
      "lda grad T i :  -1.538226756128896\n",
      "lda grad T i :  0.5701210058972448\n",
      "lda grad T i :  -1.5002452248846145\n",
      "lda grad T i :  0.5102321123033338\n",
      "lda grad T i :  -1.460328347240048\n",
      "lda grad T i :  0.45672631138206676\n",
      "lda grad T i :  -1.4183707970305166\n",
      "lda grad T i :  0.40862803692622574\n",
      "lda grad T i :  -1.3742596863896743\n",
      "lda grad T i :  0.3651490654321915\n",
      "lda grad T i :  -1.327873998266988\n",
      "lda grad T i :  0.32564694947658\n",
      "lda grad T i :  -1.2790839522057216\n",
      "lda grad T i :  0.2895937487177369\n",
      "lda grad T i :  -1.2277503071697928\n",
      "lda grad T i :  0.256552265626652\n",
      "lda grad T i :  -1.1737235736330827\n",
      "lda grad T i :  0.22615781422870565\n",
      "lda grad T i :  -1.1168431637830174\n",
      "lda grad T i :  0.19810410068642886\n",
      "lda grad T i :  -1.056936436589694\n",
      "lda grad T i :  0.1721322017088573\n",
      "lda grad T i :  -0.9938176389584694\n",
      "lda grad T i :  0.14802188367010055\n",
      "lda grad T i :  -0.9272867441954533\n",
      "lda grad T i :  0.1255847289378605\n",
      "lda grad T i :  -0.8571281534526767\n",
      "lda grad T i :  0.1046586331990744\n",
      "lda grad T i :  -0.7831092606904461\n",
      "lda grad T i :  0.08510339424626334\n",
      "lda grad T i :  -0.7049788565831814\n",
      "lda grad T i :  0.06679713013545846\n",
      "lda grad T i :  -0.6224653507048311\n",
      "lda grad T i :  0.049633373934883616\n",
      "lda grad T i :  -0.5352747964785285\n",
      "lda grad T i :  0.03351868905540212\n",
      "lda grad T i :  -0.44308868418605485\n",
      "lda grad T i :  0.018370709163059416\n",
      "lda grad T i :  -0.34556147363824724\n",
      "lda grad T i :  0.004116514049921978\n",
      "lda grad T i :  -0.24231783846359722\n",
      "lda grad T i :  -0.009308719486241575\n",
      "lda grad T i :  -0.13294956926529766\n",
      "lda grad T i :  -0.021962844925017336\n",
      "lda grad T i :  -0.017012101641103703\n",
      "lda grad T i :  -0.033897692097244206\n",
      "lda grad T i :  0.10597939326411446\n",
      "lda grad T i :  -0.045159868365262944\n",
      "lda grad T i :  0.23655441315550846\n",
      "lda grad T i :  -0.055791426825305815\n",
      "lda grad T i :  0.37529210936760465\n",
      "lda grad T i :  -0.06583044753116206\n",
      "lda grad T i :  0.5228269143733485\n",
      "lda grad T i :  -0.07531152430262797\n",
      "lda grad T i :  0.679854939468959\n",
      "lda grad T i :  -0.08426618584394192\n",
      "lda grad T i :  0.8471412459723222\n",
      "lda grad T i :  -0.09272325138365664\n",
      "lda grad T i :  1.025528125786615\n",
      "lda grad T i :  -0.10070915114223052\n",
      "lda grad T i :  1.215944568008075\n",
      "lda grad T i :  -0.10824818616557233\n",
      "lda grad T i :  1.419417108977031\n",
      "lda grad T i :  -0.11536277062461592\n",
      "lda grad T i :  1.6370822723914107\n",
      "lda grad T i :  -0.12207362954420971\n",
      "lda grad T i :  1.8702009160011754\n",
      "lda grad T i :  -0.12839998352112228\n",
      "lda grad T i :  2.1201747885409583\n",
      "lda grad T i :  -0.13435970145336845\n",
      "lda grad T i :  2.388565712330723\n",
      "lda grad T i :  -0.13996944071818923\n",
      "lda grad T i :  2.677117867078265\n",
      "lda grad T i :  -0.14524477093543448\n",
      "lda grad T i :  2.987783774174921\n",
      "lda grad T i :  -0.15020028066133972\n",
      "lda grad T i :  3.3227546748196826\n",
      "lda grad T i :  -0.1548496807227899\n",
      "lda grad T i :  3.684496205931443\n",
      "lda grad T i :  -0.1592058848378512\n",
      "lda grad T i :  4.075790414148111\n",
      "lda grad T i :  -0.16328109510895145\n",
      "lda grad T i :  4.499785453140199\n",
      "lda grad T i :  -0.16708687181417675\n",
      "lda grad T i :  4.960054608465013\n",
      "lda grad T i :  -0.1706342013159156\n",
      "lda grad T i :  5.460666681622342\n",
      "lda grad T i :  -0.1739335617182689\n",
      "lda grad T i :  6.0062703182275\n",
      "lda grad T i :  -0.17699498210463518\n",
      "lda grad T i :  6.60219551560454\n",
      "lda grad T i :  -0.17982809280354498\n",
      "lda grad T i :  7.254576417984746\n",
      "lda grad T i :  -0.18244219859103775\n",
      "lda grad T i :  7.970500656323744\n",
      "lda grad T i :  -0.18484631909500288\n",
      "lda grad T i :  8.758191983916149\n",
      "lda grad T i :  -0.1870492593385148\n",
      "lda grad T i :  9.62723495170615\n",
      "lda grad T i :  -0.1890596752059575\n",
      "lda grad T i :  10.588853054805904\n",
      "lda grad T i :  -0.19088614032917478\n",
      "lda grad T i :  11.656255360739706\n",
      "lda grad T i :  -0.19253723205056894\n",
      "lda grad T i :  12.84507157132843\n",
      "lda grad T i :  -0.19402162886429475\n",
      "lda grad T i :  14.173902238539327\n",
      "lda grad T i :  -0.1953482345235073\n",
      "lda grad T i :  15.66502027795044\n",
      "lda grad T i :  -0.19652631366979445\n",
      "lda grad T i :  17.345273194931004\n",
      "lda grad T i :  -0.1975657099966731\n",
      "lda grad T i :  19.247254359057553\n",
      "lda grad T i :  -0.19847707904553374\n",
      "lda grad T i :  21.41083895681394\n",
      "lda grad T i :  -0.19927225710540958\n",
      "lda grad T i :  23.885220239403104\n",
      "lda grad T i :  -0.19996473557043395\n",
      "lda grad T i :  26.73164111582991\n",
      "lda grad T i :  -0.20057036399140332\n",
      "lda grad T i :  30.02710598654849\n",
      "lda grad T i :  -0.20110835336757643\n",
      "lda grad T i :  33.86949596314041\n",
      "lda grad T i :  -0.2016028452322381\n",
      "lda grad T i :  38.384727597279756\n",
      "lda grad T i :  -0.20208530251570883\n",
      "lda grad T i :  43.73694316972016\n",
      "lda grad T i :  -0.20259842389503058\n",
      "lda grad T i :  50.14329192488688\n",
      "lda grad T i :  -0.20320277581918123\n",
      "lda grad T i :  57.89582476539326\n",
      "lda grad T i :  -0.20398869860937843\n",
      "lda grad T i :  67.39469684437387\n",
      "lda grad T i :  -0.20509900614661447\n",
      "lda grad T i :  79.19987164529303\n",
      "lda grad T i :  -0.20677612468329282\n",
      "lda grad T i :  94.11410355902953\n",
      "lda grad T i :  -0.20947082577761517\n",
      "lda grad T i :  113.32081914748395\n",
      "lda grad T i :  -0.21413325598142913\n",
      "lda grad T i :  138.62262472072422\n",
      "lda grad T i :  -0.2231797846221859\n",
      "lda grad T i :  172.8738663725404\n",
      "lda grad T i :  -0.245124606944791\n",
      "lda grad T i :  220.81069272171828\n",
      "lda grad T i :  -0.34688351311280086\n",
      "lda grad T i :  290.75704653833907\n",
      "lda grad T i :  -75.13273346533086\n",
      "lda grad T i :  398.4432211082469\n",
      "lda grad T i :  6313.3162802708575\n",
      "lda grad T i :  576.5398694952273\n",
      "lda grad T i :  -189727.5417203461\n",
      "lda grad T i :  902.192858975996\n",
      "lda grad T i :  2782804.519317147\n",
      "lda grad T i :  1594.6790208148063\n",
      "lda grad T i :  -23091484.183579303\n",
      "lda grad T i :  3491.161857350025\n",
      "lda grad T i :  117454836.83790773\n",
      "lda grad T i :  12207.770238325607\n",
      "lda grad T i :  -382418831.75392026\n",
      "lda grad T i :  303067.68487310945\n",
      "lda grad T i :  810986978.0481012\n",
      "lda grad T i :  2740.376531026239\n",
      "lda grad T i :  -1112713480.1065595\n",
      "lda grad T i :  1288.9026896871947\n",
      "lda grad T i :  950924910.240459\n",
      "lda grad T i :  877.7808420936233\n",
      "lda grad T i :  -459696909.35531247\n",
      "lda grad T i :  684.7389427322876\n",
      "lda grad T i :  96092601.6888868\n",
      "lda grad T i :  573.3085975465403\n",
      "lda grad T i :  -104564.46475593746\n",
      "lda grad T i :  501.22686982535004\n",
      "lda grad T i :  -16716.933705009476\n",
      "lda grad T i :  451.11699333566673\n",
      "lda grad T i :  -4794.2244867913905\n",
      "lda grad T i :  414.5232720460648\n",
      "lda grad T i :  -1862.755573026891\n",
      "lda grad T i :  386.83817885012985\n",
      "lda grad T i :  -878.0538736412302\n",
      "lda grad T i :  365.3373743833868\n",
      "lda grad T i :  -473.9339007883924\n",
      "lda grad T i :  348.3071311515937\n",
      "lda grad T i :  -282.90672365576336\n",
      "lda grad T i :  334.6157526660661\n",
      "lda grad T i :  -182.55795649130212\n",
      "lda grad T i :  323.4860341464343\n",
      "lda grad T i :  -125.34604106334191\n",
      "lda grad T i :  314.36672593888574\n",
      "lda grad T i :  -90.52610070856173\n",
      "lda grad T i :  306.85614535485934\n",
      "lda grad T i :  -68.17541825052794\n",
      "lda grad T i :  300.6548190629567\n",
      "lda grad T i :  -53.181180938319045\n",
      "lda grad T i :  295.53505248365434\n",
      "lda grad T i :  -42.74170993078931\n",
      "lda grad T i :  291.3207653811495\n",
      "lda grad T i :  -35.24018676280485\n",
      "lda grad T i :  287.87376884611524\n",
      "lda grad T i :  -29.701447082143176\n",
      "lda grad T i :  285.084204986206\n",
      "lda grad T i :  -25.514503117907225\n",
      "lda grad T i :  282.86374769546035\n",
      "lda grad T i :  -22.283631612882374\n",
      "lda grad T i :  281.14067734949435\n",
      "lda grad T i :  -19.744954999884396\n",
      "lda grad T i :  279.85625389008845\n",
      "lda grad T i :  -17.71791893438528\n",
      "lda grad T i :  278.96200623465256\n",
      "lda grad T i :  -16.076112901211232\n",
      "lda grad T i :  278.41767932645394\n",
      "lda grad T i :  -14.72919505792179\n",
      "lda grad T i :  278.18966036033044\n",
      "lda grad T i :  -13.611394169790117\n",
      "lda grad T i :  278.24975907566375\n",
      "lda grad T i :  -12.674018240853465\n",
      "lda grad T i :  278.5742530206145\n",
      "lda grad T i :  -11.880466678794953\n",
      "lda grad T i :  279.1431334460085\n",
      "lda grad T i :  -11.202843207762246\n",
      "lda grad T i :  279.93950482124\n",
      "lda grad T i :  -10.61961400965174\n",
      "lda grad T i :  280.9491031711284\n",
      "lda grad T i :  -10.113961586800244\n",
      "lda grad T i :  282.15990719745423\n",
      "lda grad T i :  -9.67260995754344\n",
      "lda grad T i :  283.56182253187836\n",
      "lda grad T i :  -9.284974392293705\n",
      "lda grad T i :  285.14642415393627\n",
      "lda grad T i :  -8.942538005416608\n",
      "lda grad T i :  286.9067454131906\n",
      "lda grad T i :  -8.638389145348373\n",
      "lda grad T i :  288.83710476497527\n",
      "lda grad T i :  -8.36687423392684\n",
      "lda grad T i :  290.93296323510486\n",
      "lda grad T i :  -8.123334519848386\n",
      "lda grad T i :  293.1908071508323\n",
      "lda grad T i :  -7.903904499584886\n",
      "lda grad T i :  295.60805183266086\n",
      "lda grad T i :  -7.705356147759615\n",
      "lda grad T i :  298.1829628016151\n",
      "lda grad T i :  -7.52497750430794\n",
      "lda grad T i :  300.9145918269749\n",
      "lda grad T i :  -7.360477289502194\n",
      "lda grad T i :  303.80272560681294\n",
      "lda grad T i :  -7.209909374556544\n",
      "lda grad T i :  306.8478453820769\n",
      "lda grad T i :  -7.071612574716839\n",
      "lda grad T i :  310.05109611380055\n",
      "lda grad T i :  -6.94416230739118\n",
      "lda grad T i :  313.41426414018656\n",
      "lda grad T i :  -6.826331541611395\n",
      "lda grad T i :  316.9397624810573\n",
      "lda grad T i :  -6.717059061140763\n",
      "lda grad T i :  320.63062314654974\n",
      "lda grad T i :  -6.615423521768818\n",
      "lda grad T i :  324.4904959808819\n",
      "lda grad T i :  -6.5206221343412025\n",
      "lda grad T i :  328.52365372625616\n",
      "lda grad T i :  -6.4319530538578285\n",
      "lda grad T i :  332.7350031108375\n",
      "lda grad T i :  -6.348800768330439\n",
      "lda grad T i :  337.13010189538295\n",
      "lda grad T i :  -6.270623910602737\n",
      "lda grad T i :  341.7151819190799\n",
      "lda grad T i :  -6.19694505967947\n",
      "lda grad T i :  346.49717830283385\n",
      "lda grad T i :  -6.127342165195553\n",
      "lda grad T i :  351.4837650620275\n",
      "lda grad T i :  -6.061441310870659\n",
      "lda grad T i :  356.6833975152513\n",
      "lda grad T i :  -5.9989105914831615\n",
      "lda grad T i :  362.1053619702644\n",
      "lda grad T i :  -5.939454908597654\n",
      "lda grad T i :  367.75983331380746\n",
      "lda grad T i :  -5.882811548305201\n",
      "lda grad T i :  373.657941264839\n",
      "lda grad T i :  -5.828746397773191\n",
      "lda grad T i :  379.8118462196121\n",
      "lda grad T i :  -5.7770507227992525\n",
      "lda grad T i :  386.2348257788329\n",
      "lda grad T i :  -5.727538401298325\n",
      "lda grad T i :  392.9413732855307\n",
      "lda grad T i :  -5.680043565854614\n",
      "lda grad T i :  399.9473099151604\n",
      "lda grad T i :  -5.63441858440226\n",
      "lda grad T i :  407.2699121709004\n",
      "lda grad T i :  -5.5905323436933045\n",
      "lda grad T i :  414.9280569663784\n",
      "lda grad T i :  -5.548268793143562\n",
      "lda grad T i :  422.942386875589\n",
      "lda grad T i :  -5.507525726189378\n",
      "lda grad T i :  431.3354986217437\n",
      "lda grad T i :  -5.468213759980012\n",
      "lda grad T i :  440.1321584622281\n",
      "lda grad T i :  -5.430255529760668\n",
      "lda grad T i :  449.3595488131952\n",
      "lda grad T i :  -5.393585040919167\n",
      "lda grad T i :  459.04755134453603\n",
      "lda grad T i :  -5.3581472112886726\n",
      "lda grad T i :  469.22907278416653\n",
      "lda grad T i :  -5.323897576380801\n",
      "lda grad T i :  479.9404209998705\n",
      "lda grad T i :  -5.29080217669148\n",
      "lda grad T i :  491.2217404884997\n",
      "lda grad T i :  -5.25883762147115\n",
      "lda grad T i :  503.1175183888041\n",
      "lda grad T i :  -5.227991369813614\n",
      "lda grad T i :  515.677174613336\n",
      "lda grad T i :  -5.198262213384307\n",
      "lda grad T i :  528.9557527881209\n",
      "lda grad T i :  -5.169661047517213\n",
      "lda grad T i :  543.0147326185424\n",
      "lda grad T i :  -5.142211935992767\n",
      "lda grad T i :  557.9229892997039\n",
      "lda grad T i :  -5.115953560583972\n",
      "lda grad T i :  573.7579320092207\n",
      "lda grad T i :  -5.090941137415532\n",
      "lda grad T i :  590.6068617598331\n",
      "lda grad T i :  -5.067248930044191\n",
      "lda grad T i :  608.5685997016872\n",
      "lda grad T i :  -5.044973518620115\n",
      "lda grad T i :  627.7554510286411\n",
      "lda grad T i :  -5.024238076699374\n",
      "lda grad T i :  648.2955883691495\n",
      "lda grad T i :  -5.005197942761449\n",
      "lda grad T i :  670.3359634647077\n",
      "lda grad T i :  -4.988047995686477\n",
      "lda grad T i :  694.0458895913082\n",
      "lda grad T i :  -4.973032441414127\n",
      "lda grad T i :  719.6214830505371\n",
      "lda grad T i :  -4.960457961053718\n",
      "lda grad T i :  747.2912152907619\n",
      "lda grad T i :  -4.950711653734874\n",
      "lda grad T i :  777.3229154578742\n",
      "lda grad T i :  -4.9442858317957565\n",
      "lda grad T i :  810.0326880213877\n",
      "lda grad T i :  -4.9418129406226114\n",
      "lda grad T i :  845.7963891371495\n",
      "lda grad T i :  -4.944115706522627\n",
      "lda grad T i :  885.0645663525677\n",
      "lda grad T i :  -4.95228086240699\n",
      "lda grad T i :  928.382152912619\n",
      "lda grad T i :  -4.96777039189187\n",
      "lda grad T i :  976.4147917043607\n",
      "lda grad T i :  -4.992594614179566\n",
      "lda grad T i :  1029.98456342379\n",
      "lda grad T i :  -5.029591246886868\n",
      "lda grad T i :  1090.1193112026722\n",
      "lda grad T i :  -5.08289473081012\n",
      "lda grad T i :  1158.1220446649877\n",
      "lda grad T i :  -5.158766398456519\n",
      "lda grad T i :  1235.6707127446052\n",
      "lda grad T i :  -5.267156832468222\n",
      "lda grad T i :  1324.9651606831299\n",
      "lda grad T i :  -5.42488328773582\n",
      "lda grad T i :  1428.9496801148314\n",
      "lda grad T i :  -5.662775686900119\n",
      "lda grad T i :  1551.6610076740044\n",
      "lda grad T i :  -6.044093501705817\n",
      "lda grad T i :  1698.793195102935\n",
      "lda grad T i :  -6.722349770132585\n",
      "lda grad T i :  1878.6558366868376\n",
      "lda grad T i :  -8.191441125724653\n",
      "lda grad T i :  2103.887731031972\n",
      "lda grad T i :  -13.402123404261783\n",
      "lda grad T i :  2394.7253141199662\n",
      "lda grad T i :  -688.2967292589959\n",
      "lda grad T i :  2785.756852980638\n",
      "lda grad T i :  78835.79172314057\n",
      "lda grad T i :  3341.3882197571083\n",
      "lda grad T i :  -2868256.5968847917\n",
      "lda grad T i :  4196.422349229054\n",
      "lda grad T i :  48513398.830222696\n",
      "lda grad T i :  5684.831433509058\n",
      "lda grad T i :  -452711011.83796096\n",
      "lda grad T i :  8884.477353451575\n",
      "lda grad T i :  2553778855.3288264\n",
      "lda grad T i :  19426.48068107893\n",
      "lda grad T i :  -9155832484.28731\n",
      "lda grad T i :  146981.16454306833\n",
      "lda grad T i :  21341466662.74277\n",
      "lda grad T i :  1315.5143267473652\n",
      "lda grad T i :  -32305251210.051933\n",
      "lda grad T i :  608.4941677095578\n",
      "lda grad T i :  30825400477.86946\n",
      "lda grad T i :  454.1171079663384\n",
      "lda grad T i :  -17133591345.015255\n",
      "lda grad T i :  388.6276942653536\n",
      "lda grad T i :  4508721698.927044\n",
      "lda grad T i :  353.7325435438245\n",
      "lda grad T i :  -191523067.14216936\n",
      "lda grad T i :  332.9744142174303\n",
      "lda grad T i :  -24431259.087042727\n",
      "lda grad T i :  319.91331536799385\n",
      "lda grad T i :  -6377546.368449876\n",
      "lda grad T i :  311.51272124823225\n",
      "lda grad T i :  -2343780.7418822823\n",
      "lda grad T i :  306.1543524197057\n",
      "lda grad T i :  -1063177.404679493\n",
      "lda grad T i :  302.89728364115376\n",
      "lda grad T i :  -557238.4797012871\n",
      "lda grad T i :  301.15755275052805\n",
      "lda grad T i :  -324586.5779120674\n",
      "lda grad T i :  300.5539100963198\n",
      "lda grad T i :  -204903.93794879434\n",
      "lda grad T i :  300.82719838111103\n",
      "lda grad T i :  -137779.75700670952\n",
      "lda grad T i :  301.79538311908357\n",
      "lda grad T i :  -97461.20825347045\n",
      "lda grad T i :  303.3271057641216\n",
      "lda grad T i :  -71857.3091423531\n",
      "lda grad T i :  305.32543171086473\n",
      "lda grad T i :  -54832.130302497564\n",
      "lda grad T i :  307.7174861085691\n",
      "lda grad T i :  -43065.74366344494\n",
      "lda grad T i :  310.4476315073225\n",
      "lda grad T i :  -34662.72118612914\n",
      "lda grad T i :  313.47285222454093\n",
      "lda grad T i :  -28490.337573282013\n",
      "lda grad T i :  316.7595560244626\n",
      "lda grad T i :  -23844.528092900175\n",
      "lda grad T i :  320.2813108570337\n",
      "lda grad T i :  -20272.45984643489\n",
      "lda grad T i :  324.0172132821531\n",
      "lda grad T i :  -17474.02876777765\n",
      "lda grad T i :  327.95069271547163\n",
      "lda grad T i :  -15245.015229843762\n",
      "lda grad T i :  332.06862221614205\n",
      "lda grad T i :  -13443.13959299341\n",
      "lda grad T i :  336.36064857748306\n",
      "lda grad T i :  -11967.16687132145\n",
      "lda grad T i :  340.81868184227096\n",
      "lda grad T i :  -10743.689435975066\n",
      "lda grad T i :  345.436502387413\n",
      "lda grad T i :  -9718.559242559055\n",
      "lda grad T i :  350.20945589527366\n",
      "lda grad T i :  -8851.20962673365\n",
      "lda grad T i :  355.1342148546653\n",
      "lda grad T i :  -8110.815630225059\n",
      "lda grad T i :  360.2085910383364\n",
      "lda grad T i :  -7473.649440843986\n",
      "lda grad T i :  365.43138748822537\n",
      "lda grad T i :  -6921.228063244007\n",
      "lda grad T i :  370.80228145555753\n",
      "lda grad T i :  -6438.995674912335\n",
      "lda grad T i :  376.3217318988047\n",
      "lda grad T i :  -6015.372867998752\n",
      "lda grad T i :  381.990906639384\n",
      "lda grad T i :  -5641.061515206866\n",
      "lda grad T i :  387.8116255089647\n",
      "lda grad T i :  -5308.530278925056\n",
      "lda grad T i :  393.78631657603654\n",
      "lda grad T i :  -5011.629466466538\n",
      "lda grad T i :  399.91798331239806\n",
      "lda grad T i :  -4745.29964224648\n",
      "lda grad T i :  406.2101809511595\n",
      "lda grad T i :  -4505.348981175826\n",
      "lda grad T i :  412.66700077056976\n",
      "lda grad T i :  -4288.281563761811\n",
      "lda grad T i :  419.29306127157327\n",
      "lda grad T i :  -4091.163802474335\n",
      "lda grad T i :  426.09350547947736\n",
      "lda grad T i :  -3911.5196801824786\n",
      "lda grad T i :  433.0740038393076\n",
      "lda grad T i :  -3747.2479525723456\n",
      "lda grad T i :  440.2407622322744\n",
      "lda grad T i :  -3596.5562343329184\n",
      "lda grad T i :  447.6005348924609\n",
      "lda grad T i :  -3457.9081664661826\n",
      "lda grad T i :  455.1606420246417\n",
      "lda grad T i :  -3329.980794197453\n",
      "lda grad T i :  462.9289920634686\n",
      "lda grad T i :  -3211.629971187438\n",
      "lda grad T i :  470.91410860832417\n",
      "lda grad T i :  -3101.8621152590517\n",
      "lda grad T i :  479.1251621295222\n",
      "lda grad T i :  -2999.8110222670166\n",
      "lda grad T i :  487.57200663606784\n",
      "lda grad T i :  -2904.7187324093993\n",
      "lda grad T i :  496.2652215739844\n",
      "lda grad T i :  -2815.919661918042\n",
      "lda grad T i :  505.21615929357256\n",
      "lda grad T i :  -2732.8273803084335\n",
      "lda grad T i :  514.4369985286869\n",
      "lda grad T i :  -2654.923542229835\n",
      "lda grad T i :  523.9408043946539\n",
      "lda grad T i :  -2581.74858282848\n",
      "lda grad T i :  533.741595534582\n",
      "lda grad T i :  -2512.893863387786\n",
      "lda grad T i :  543.8544191417757\n",
      "lda grad T i :  -2447.995015115941\n",
      "lda grad T i :  554.2954346988972\n",
      "lda grad T i :  -2386.7262770679317\n",
      "lda grad T i :  565.0820074388383\n",
      "lda grad T i :  -2328.795662340268\n",
      "lda grad T i :  576.2328126696918\n",
      "lda grad T i :  -2273.940817067621\n",
      "lda grad T i :  587.7679522926426\n",
      "lda grad T i :  -2221.9254610808143\n",
      "lda grad T i :  599.7090850732484\n",
      "lda grad T i :  -2172.5363186401855\n",
      "lda grad T i :  612.0795724479843\n",
      "lda grad T i :  -2125.5804635657423\n",
      "lda grad T i :  624.9046419596791\n",
      "lda grad T i :  -2080.883015953197\n",
      "lda grad T i :  638.2115707539841\n",
      "lda grad T i :  -2038.2851382124668\n",
      "lda grad T i :  652.0298919664217\n",
      "lda grad T i :  -1997.642286779087\n",
      "lda grad T i :  666.3916273260991\n",
      "lda grad T i :  -1958.8226828880047\n",
      "lda grad T i :  681.3315498554567\n",
      "lda grad T i :  -1921.7059715751172\n",
      "lda grad T i :  696.8874812526506\n",
      "lda grad T i :  -1886.1820427068117\n",
      "lda grad T i :  713.1006293504768\n",
      "lda grad T i :  -1852.1499917108122\n",
      "lda grad T i :  730.0159720476408\n"
     ]
    },
    {
     "data": {
      "application/vnd.jupyter.widget-view+json": {
       "model_id": "569678faada94250b78e8f701defa0a8",
       "version_major": 2,
       "version_minor": 0
      },
      "text/plain": [
       "Canvas(toolbar=Toolbar(toolitems=[('Home', 'Reset original view', 'home', 'home'), ('Back', 'Back to previous …"
      ]
     },
     "metadata": {},
     "output_type": "display_data"
    },
    {
     "name": "stdout",
     "output_type": "stream",
     "text": [
      "dE*/dt* = 5.71329e-07\n"
     ]
    },
    {
     "data": {
      "application/vnd.jupyter.widget-view+json": {
       "model_id": "675af6bc64c045c79da07c7924da6a2d",
       "version_major": 2,
       "version_minor": 0
      },
      "text/plain": [
       "Canvas(toolbar=Toolbar(toolitems=[('Home', 'Reset original view', 'home', 'home'), ('Back', 'Back to previous …"
      ]
     },
     "metadata": {},
     "output_type": "display_data"
    },
    {
     "name": "stdout",
     "output_type": "stream",
     "text": [
      "[0.97157496 0.97217124 0.97276289 ... 0.96975846 0.97036857 0.97097407]\n"
     ]
    }
   ],
   "source": [
    "print()\n",
    "prob = ProblemDiscontinuEnergieTemperature(get_T, markers=markers, phy_prop=phy_prop, num_prop=num_prop)\n",
    "E0 = prob.energy\n",
    "print(prob.name)\n",
    "print('==========================')\n",
    "plot = Plotter('classic')\n",
    "t, e = prob.timestep(n=n, number_of_plots=3, plotter=plot)\n",
    "\n",
    "fig1,ax1 = plt.subplots(1)\n",
    "ax1.set_title('Énergie en fonction du temps')\n",
    "l = ax1.plot(t, e/(0.02*0.005*0.005), label=prob.name)\n",
    "le = fig1.legend()\n",
    "\n",
    "# plot.ax.plot(prob.bulles.markers.flatten(), prob.bulles.T.flatten(), 'r+')\n",
    "# plot.ax.plot(prob.bulles.markers.flatten(), prob.bulles.Tg.flatten(), 'g+')\n",
    "# plot.ax.plot(prob.bulles.markers.flatten(), prob.bulles.Td.flatten(), 'b+')\n",
    "\n",
    "n = len(e)\n",
    "i0 = int(n/5)\n",
    "dedt_adim = (e[-1] - e[i0]) / (t[-1] - t[i0]) * prob.dt / E0  # on a mult\n",
    "# par Dt / rho_cp_l T_l V\n",
    "print('dE*/dt* = %g' % dedt_adim)\n",
    "plt.figure()\n",
    "plt.plot(prob.num_prop.x, prob.rho_cp_a*prob.T)\n",
    "print(prob.T)"
   ]
  }
 ],
 "metadata": {
  "hide_input": false,
  "kernelspec": {
   "display_name": "venv-flu1d",
   "language": "python",
   "name": "venv-flu1d"
  },
  "language_info": {
   "codemirror_mode": {
    "name": "ipython",
    "version": 3
   },
   "file_extension": ".py",
   "mimetype": "text/x-python",
   "name": "python",
   "nbconvert_exporter": "python",
   "pygments_lexer": "ipython3",
   "version": "3.6.9"
  },
  "toc": {
   "base_numbering": 1,
   "nav_menu": {},
   "number_sections": true,
   "sideBar": true,
   "skip_h1_title": false,
   "title_cell": "Table of Contents",
   "title_sidebar": "Contents",
   "toc_cell": false,
   "toc_position": {},
   "toc_section_display": true,
   "toc_window_display": false
  },
  "toc-autonumbering": true,
  "toc-showcode": false,
  "toc-showmarkdowntxt": true,
  "widgets": {
   "application/vnd.jupyter.widget-state+json": {
    "state": {
     "0353273945894a6992a65183180bd49a": {
      "model_module": "jupyter-matplotlib",
      "model_module_version": "^0.9.0",
      "model_name": "ToolbarModel",
      "state": {
       "layout": "IPY_MODEL_afca147879c444ab95ab886f3fae7a57",
       "toolitems": [
        [
         "Home",
         "Reset original view",
         "home",
         "home"
        ],
        [
         "Back",
         "Back to previous view",
         "arrow-left",
         "back"
        ],
        [
         "Forward",
         "Forward to next view",
         "arrow-right",
         "forward"
        ],
        [
         "Pan",
         "Left button pans, Right button zooms\nx/y fixes axis, CTRL fixes aspect",
         "arrows",
         "pan"
        ],
        [
         "Zoom",
         "Zoom to rectangle\nx/y fixes axis, CTRL fixes aspect",
         "square-o",
         "zoom"
        ],
        [
         "Download",
         "Download plot",
         "floppy-o",
         "save_figure"
        ]
       ]
      }
     },
     "20a2e68976154ba6a103a1d133899d9d": {
      "model_module": "jupyter-matplotlib",
      "model_module_version": "^0.9.0",
      "model_name": "MPLCanvasModel",
      "state": {
       "_cursor": "default",
       "_figure_label": "Figure 4",
       "_height": 500,
       "_width": 1000,
       "layout": "IPY_MODEL_f537d547a1b54b3d9ecfdb3890c36880",
       "toolbar": "IPY_MODEL_ca1ad99cd6bd4ffabe50a6eb06ea7ee4",
       "toolbar_position": "left"
      }
     },
     "31fd99755db548059484222c7f8dc8cb": {
      "model_module": "@jupyter-widgets/base",
      "model_module_version": "1.2.0",
      "model_name": "LayoutModel",
      "state": {}
     },
     "44f9bfe8c4da41ee90ebcd4bff91a658": {
      "model_module": "@jupyter-widgets/base",
      "model_module_version": "1.2.0",
      "model_name": "LayoutModel",
      "state": {}
     },
     "4d861133edac4a3cbbf8f6088ea88e58": {
      "model_module": "@jupyter-widgets/base",
      "model_module_version": "1.2.0",
      "model_name": "LayoutModel",
      "state": {}
     },
     "50120739f3d84b7981df6013bf5a70d3": {
      "model_module": "jupyter-matplotlib",
      "model_module_version": "^0.9.0",
      "model_name": "ToolbarModel",
      "state": {
       "layout": "IPY_MODEL_4d861133edac4a3cbbf8f6088ea88e58",
       "toolitems": [
        [
         "Home",
         "Reset original view",
         "home",
         "home"
        ],
        [
         "Back",
         "Back to previous view",
         "arrow-left",
         "back"
        ],
        [
         "Forward",
         "Forward to next view",
         "arrow-right",
         "forward"
        ],
        [
         "Pan",
         "Left button pans, Right button zooms\nx/y fixes axis, CTRL fixes aspect",
         "arrows",
         "pan"
        ],
        [
         "Zoom",
         "Zoom to rectangle\nx/y fixes axis, CTRL fixes aspect",
         "square-o",
         "zoom"
        ],
        [
         "Download",
         "Download plot",
         "floppy-o",
         "save_figure"
        ]
       ]
      }
     },
     "553366615ba24e1e827a0843d9ab7819": {
      "model_module": "@jupyter-widgets/base",
      "model_module_version": "1.2.0",
      "model_name": "LayoutModel",
      "state": {}
     },
     "569678faada94250b78e8f701defa0a8": {
      "model_module": "jupyter-matplotlib",
      "model_module_version": "^0.9.0",
      "model_name": "MPLCanvasModel",
      "state": {
       "_cursor": "default",
       "_figure_label": "Figure 5",
       "_height": 500,
       "_width": 1000,
       "layout": "IPY_MODEL_aa7127ced9754435a144048de5cc9c92",
       "toolbar": "IPY_MODEL_af3f8ffc442f450999ea23850e84ba3a",
       "toolbar_position": "left"
      }
     },
     "675af6bc64c045c79da07c7924da6a2d": {
      "model_module": "jupyter-matplotlib",
      "model_module_version": "^0.9.0",
      "model_name": "MPLCanvasModel",
      "state": {
       "_cursor": "default",
       "_figure_label": "Figure 6",
       "_height": 500,
       "_width": 1000,
       "layout": "IPY_MODEL_553366615ba24e1e827a0843d9ab7819",
       "toolbar": "IPY_MODEL_50120739f3d84b7981df6013bf5a70d3",
       "toolbar_position": "left"
      }
     },
     "6ecd344774d240e9b1f97cad530b5e37": {
      "model_module": "jupyter-matplotlib",
      "model_module_version": "^0.9.0",
      "model_name": "MPLCanvasModel",
      "state": {
       "_cursor": "default",
       "_figure_label": "Figure 2",
       "_height": 500,
       "_width": 1000,
       "layout": "IPY_MODEL_a5558f743fa244628afce6bc968101d6",
       "toolbar": "IPY_MODEL_0353273945894a6992a65183180bd49a",
       "toolbar_position": "left"
      }
     },
     "77efd41cca9a44a199becad57df1c9c9": {
      "model_module": "@jupyter-widgets/base",
      "model_module_version": "1.2.0",
      "model_name": "LayoutModel",
      "state": {}
     },
     "7b2b3d3acece4e4183551f1de3559d6b": {
      "model_module": "jupyter-matplotlib",
      "model_module_version": "^0.9.0",
      "model_name": "MPLCanvasModel",
      "state": {
       "_cursor": "default",
       "_figure_label": "Figure 3",
       "_height": 500,
       "_width": 1000,
       "layout": "IPY_MODEL_b9e258a07081449eb070cdbd24080b94",
       "toolbar": "IPY_MODEL_86ae74263bb1476292a5a9b45a80180f",
       "toolbar_position": "left"
      }
     },
     "86ae74263bb1476292a5a9b45a80180f": {
      "model_module": "jupyter-matplotlib",
      "model_module_version": "^0.9.0",
      "model_name": "ToolbarModel",
      "state": {
       "layout": "IPY_MODEL_77efd41cca9a44a199becad57df1c9c9",
       "toolitems": [
        [
         "Home",
         "Reset original view",
         "home",
         "home"
        ],
        [
         "Back",
         "Back to previous view",
         "arrow-left",
         "back"
        ],
        [
         "Forward",
         "Forward to next view",
         "arrow-right",
         "forward"
        ],
        [
         "Pan",
         "Left button pans, Right button zooms\nx/y fixes axis, CTRL fixes aspect",
         "arrows",
         "pan"
        ],
        [
         "Zoom",
         "Zoom to rectangle\nx/y fixes axis, CTRL fixes aspect",
         "square-o",
         "zoom"
        ],
        [
         "Download",
         "Download plot",
         "floppy-o",
         "save_figure"
        ]
       ]
      }
     },
     "a5558f743fa244628afce6bc968101d6": {
      "model_module": "@jupyter-widgets/base",
      "model_module_version": "1.2.0",
      "model_name": "LayoutModel",
      "state": {}
     },
     "a78431d1708f4cfab2ef24ceb968fdc0": {
      "model_module": "@jupyter-widgets/base",
      "model_module_version": "1.2.0",
      "model_name": "LayoutModel",
      "state": {}
     },
     "aa7127ced9754435a144048de5cc9c92": {
      "model_module": "@jupyter-widgets/base",
      "model_module_version": "1.2.0",
      "model_name": "LayoutModel",
      "state": {}
     },
     "af3f8ffc442f450999ea23850e84ba3a": {
      "model_module": "jupyter-matplotlib",
      "model_module_version": "^0.9.0",
      "model_name": "ToolbarModel",
      "state": {
       "layout": "IPY_MODEL_a78431d1708f4cfab2ef24ceb968fdc0",
       "toolitems": [
        [
         "Home",
         "Reset original view",
         "home",
         "home"
        ],
        [
         "Back",
         "Back to previous view",
         "arrow-left",
         "back"
        ],
        [
         "Forward",
         "Forward to next view",
         "arrow-right",
         "forward"
        ],
        [
         "Pan",
         "Left button pans, Right button zooms\nx/y fixes axis, CTRL fixes aspect",
         "arrows",
         "pan"
        ],
        [
         "Zoom",
         "Zoom to rectangle\nx/y fixes axis, CTRL fixes aspect",
         "square-o",
         "zoom"
        ],
        [
         "Download",
         "Download plot",
         "floppy-o",
         "save_figure"
        ]
       ]
      }
     },
     "afca147879c444ab95ab886f3fae7a57": {
      "model_module": "@jupyter-widgets/base",
      "model_module_version": "1.2.0",
      "model_name": "LayoutModel",
      "state": {}
     },
     "b066994e4d2343fa83343a44b9e7619e": {
      "model_module": "@jupyter-widgets/base",
      "model_module_version": "1.2.0",
      "model_name": "LayoutModel",
      "state": {}
     },
     "b9e258a07081449eb070cdbd24080b94": {
      "model_module": "@jupyter-widgets/base",
      "model_module_version": "1.2.0",
      "model_name": "LayoutModel",
      "state": {}
     },
     "ca1ad99cd6bd4ffabe50a6eb06ea7ee4": {
      "model_module": "jupyter-matplotlib",
      "model_module_version": "^0.9.0",
      "model_name": "ToolbarModel",
      "state": {
       "layout": "IPY_MODEL_b066994e4d2343fa83343a44b9e7619e",
       "toolitems": [
        [
         "Home",
         "Reset original view",
         "home",
         "home"
        ],
        [
         "Back",
         "Back to previous view",
         "arrow-left",
         "back"
        ],
        [
         "Forward",
         "Forward to next view",
         "arrow-right",
         "forward"
        ],
        [
         "Pan",
         "Left button pans, Right button zooms\nx/y fixes axis, CTRL fixes aspect",
         "arrows",
         "pan"
        ],
        [
         "Zoom",
         "Zoom to rectangle\nx/y fixes axis, CTRL fixes aspect",
         "square-o",
         "zoom"
        ],
        [
         "Download",
         "Download plot",
         "floppy-o",
         "save_figure"
        ]
       ]
      }
     },
     "d062d30a6e6e46db9d60d4177b7cf2f9": {
      "model_module": "jupyter-matplotlib",
      "model_module_version": "^0.9.0",
      "model_name": "MPLCanvasModel",
      "state": {
       "_cursor": "crosshair",
       "_figure_label": "Figure 1",
       "_height": 500,
       "_image_mode": "diff",
       "_message": "x= y=0.99916",
       "_rubberband_x": -0.5,
       "_rubberband_y": 501.5,
       "_width": 1000,
       "layout": "IPY_MODEL_44f9bfe8c4da41ee90ebcd4bff91a658",
       "toolbar": "IPY_MODEL_f013fd3488d14a1393d6c3e8c9a58a42",
       "toolbar_position": "left"
      }
     },
     "f013fd3488d14a1393d6c3e8c9a58a42": {
      "model_module": "jupyter-matplotlib",
      "model_module_version": "^0.9.0",
      "model_name": "ToolbarModel",
      "state": {
       "_current_action": "zoom",
       "layout": "IPY_MODEL_31fd99755db548059484222c7f8dc8cb",
       "toolitems": [
        [
         "Home",
         "Reset original view",
         "home",
         "home"
        ],
        [
         "Back",
         "Back to previous view",
         "arrow-left",
         "back"
        ],
        [
         "Forward",
         "Forward to next view",
         "arrow-right",
         "forward"
        ],
        [
         "Pan",
         "Left button pans, Right button zooms\nx/y fixes axis, CTRL fixes aspect",
         "arrows",
         "pan"
        ],
        [
         "Zoom",
         "Zoom to rectangle\nx/y fixes axis, CTRL fixes aspect",
         "square-o",
         "zoom"
        ],
        [
         "Download",
         "Download plot",
         "floppy-o",
         "save_figure"
        ]
       ]
      }
     },
     "f537d547a1b54b3d9ecfdb3890c36880": {
      "model_module": "@jupyter-widgets/base",
      "model_module_version": "1.2.0",
      "model_name": "LayoutModel",
      "state": {}
     }
    },
    "version_major": 2,
    "version_minor": 0
   }
  }
 },
 "nbformat": 4,
 "nbformat_minor": 5
}
