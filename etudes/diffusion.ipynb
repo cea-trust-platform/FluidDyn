{
 "cells": [
  {
   "cell_type": "markdown",
   "id": "ff85bb10",
   "metadata": {
    "tags": []
   },
   "source": [
    "# Étude de l'erreur due à la diffusion"
   ]
  },
  {
   "cell_type": "code",
   "execution_count": 1,
   "id": "e49fd762-a10b-480b-a7f0-42f77b843c13",
   "metadata": {},
   "outputs": [],
   "source": [
    "import sys\n",
    "\n",
    "sys.path = ['/home/as259691/PycharmProjects/FluidDyn1D'] + sys.path"
   ]
  },
  {
   "cell_type": "code",
   "execution_count": 2,
   "id": "2ffdef2c-8113-431a-83f2-31a80cc46285",
   "metadata": {},
   "outputs": [],
   "source": [
    "from src.main import *\n",
    "from src.plot_fields import *\n",
    "\n",
    "%matplotlib widget"
   ]
  },
  {
   "cell_type": "markdown",
   "id": "de8be792",
   "metadata": {},
   "source": [
    "## Paramètres de la simulation\n",
    "\n",
    "Ici on va réaliser une simulation sans diffusion pour différentes écritures de notre équation thermique.\n",
    "\n",
    "La résolution se fait à chaque fois en WENO avec Euler explicite en temps."
   ]
  },
  {
   "cell_type": "code",
   "execution_count": 3,
   "id": "5651e4e6-e709-403e-ae3c-f712bd64fe1d",
   "metadata": {},
   "outputs": [],
   "source": [
    "Delta = 10.\n",
    "lda_1 = 1.\n",
    "lda_2 = 10.\n",
    "rho_cp_1 = 1.\n",
    "rho_cp_2 = 10.\n",
    "markers = np.array([0.402647 * Delta, 0.6135421 * Delta])\n",
    "alpha = (markers[1] - markers[0])/Delta\n",
    "v = 0.\n",
    "dt = 1.\n",
    "fo = 0.5\n",
    "\n",
    "t_fin = 1.\n",
    "dx = 10.**-1.\n",
    "cfl = 0.5\n",
    "schema = 'weno'\n",
    "Formulation = [Problem, ProblemConserv2]"
   ]
  },
  {
   "cell_type": "markdown",
   "id": "e9187a5c-37d3-4578-9f5b-6acee7aaa802",
   "metadata": {},
   "source": [
    "## Étude selon la formulation de l'équation en RK4\n",
    "\n",
    "En fait s'il n'y a pas de convection il n'y a pas de différence entre les différentes formes, à l'exception de la moyenne utilisée pour $\\frac{1}{\\rho C_p}$"
   ]
  },
  {
   "cell_type": "code",
   "execution_count": 5,
   "id": "237ddd4f-9b31-4612-a7d4-2374592986e1",
   "metadata": {
    "scrolled": false
   },
   "outputs": [
    {
     "data": {
      "application/vnd.jupyter.widget-view+json": {
       "model_id": "d913cc4e333048fd906c1bc28b9b9c68",
       "version_major": 2,
       "version_minor": 0
      },
      "text/plain": [
       "Canvas(toolbar=Toolbar(toolitems=[('Home', 'Reset original view', 'home', 'home'), ('Back', 'Back to previous …"
      ]
     },
     "metadata": {},
     "output_type": "display_data"
    },
    {
     "data": {
      "application/vnd.jupyter.widget-view+json": {
       "model_id": "b8f4f09231504dfe9b20eda4b1695986",
       "version_major": 2,
       "version_minor": 0
      },
      "text/plain": [
       "Canvas(toolbar=Toolbar(toolitems=[('Home', 'Reset original view', 'home', 'home'), ('Back', 'Back to previous …"
      ]
     },
     "metadata": {},
     "output_type": "display_data"
    },
    {
     "name": "stdout",
     "output_type": "stream",
     "text": [
      "0.0004999999999999999\n"
     ]
    },
    {
     "data": {
      "application/vnd.jupyter.widget-view+json": {
       "model_id": "07c425426be3494f8a64d1fe72eb861a",
       "version_major": 2,
       "version_minor": 0
      },
      "text/plain": [
       "Canvas(toolbar=Toolbar(toolitems=[('Home', 'Reset original view', 'home', 'home'), ('Back', 'Back to previous …"
      ]
     },
     "metadata": {},
     "output_type": "display_data"
    },
    {
     "name": "stdout",
     "output_type": "stream",
     "text": [
      "Cas : diffusion, rk4, weno, dx = 0.1, dt = 0.0005 dE*/dt* = -0.000000\n",
      "0.0004999999999999999\n"
     ]
    },
    {
     "data": {
      "application/vnd.jupyter.widget-view+json": {
       "model_id": "b8dd0c183ee94c0aa0142a9eaa53238c",
       "version_major": 2,
       "version_minor": 0
      },
      "text/plain": [
       "Canvas(toolbar=Toolbar(toolitems=[('Home', 'Reset original view', 'home', 'home'), ('Back', 'Back to previous …"
      ]
     },
     "metadata": {},
     "output_type": "display_data"
    },
    {
     "name": "stdout",
     "output_type": "stream",
     "text": [
      "Forme conservative boniou, Cas : diffusion, rk4, weno, dx = 0.1, dt = 0.0005 dE*/dt* = 0.000000\n"
     ]
    }
   ],
   "source": [
    "fig1,ax1 = plt.subplots(1)\n",
    "ax1.set_title('Énergie en fonction du temps')\n",
    "fig2, ax2 = plt.subplots(1)\n",
    "ax2.set_title('Énergie adimensionnée en fonction du temps adim')\n",
    "for form in Formulation:\n",
    "    x, T = get_T_creneau(dx=dx, Delta=Delta, markers=markers)\n",
    "    T = T + 1.\n",
    "    prob = form(Delta, dx, lda_1, lda_2, rho_cp_1, rho_cp_2, markers, T, v, dt, cfl, fo,\n",
    "                diff=1., schema=schema, time_scheme='rk4')\n",
    "    E0 = prob.compute_energy()\n",
    "    t, e = prob.timestep(n=5000, number_of_plots=5, debug=False, plotter=Plotter('decale'))\n",
    "    l = ax1.plot(t, e, label=prob.name)\n",
    "    ax1.legend()\n",
    "    n = len(e)\n",
    "    i0 = int(n/5)\n",
    "    ax2.plot(t/prob.dt, e / E0, label=prob.name)\n",
    "    dedt_adim = (e[-1] - e[i0]) / (t[-1] - t[i0]) * prob.dt / E0  # on a mult\n",
    "    # par Dt / rho_cp_l T_l V\n",
    "    print(prob.name, 'dE*/dt* = %f' % dedt_adim)\n",
    "le = fig2.legend()"
   ]
  },
  {
   "cell_type": "markdown",
   "id": "a47b9e27",
   "metadata": {},
   "source": [
    "## Étude selon la formulation de l'équation en Euler\n",
    "\n",
    "En fait s'il n'y a pas de convection il n'y a pas de différence entre les différentes formes, à l'exception de la moyenne utilisée pour $\\frac{1}{\\rho C_p}$"
   ]
  },
  {
   "cell_type": "code",
   "execution_count": 4,
   "id": "5c0c5ec9",
   "metadata": {
    "scrolled": false
   },
   "outputs": [
    {
     "data": {
      "application/vnd.jupyter.widget-view+json": {
       "model_id": "6efc32e9258f426ab4293520cc153118",
       "version_major": 2,
       "version_minor": 0
      },
      "text/plain": [
       "Canvas(toolbar=Toolbar(toolitems=[('Home', 'Reset original view', 'home', 'home'), ('Back', 'Back to previous …"
      ]
     },
     "metadata": {},
     "output_type": "display_data"
    },
    {
     "data": {
      "application/vnd.jupyter.widget-view+json": {
       "model_id": "378d9f0545304bcbb0e8ca49f3e25542",
       "version_major": 2,
       "version_minor": 0
      },
      "text/plain": [
       "Canvas(toolbar=Toolbar(toolitems=[('Home', 'Reset original view', 'home', 'home'), ('Back', 'Back to previous …"
      ]
     },
     "metadata": {},
     "output_type": "display_data"
    },
    {
     "name": "stdout",
     "output_type": "stream",
     "text": [
      "0.0004999999999999999\n"
     ]
    },
    {
     "data": {
      "application/vnd.jupyter.widget-view+json": {
       "model_id": "20a2ceb4aa2c460faccebb740ce93c4f",
       "version_major": 2,
       "version_minor": 0
      },
      "text/plain": [
       "Canvas(toolbar=Toolbar(toolitems=[('Home', 'Reset original view', 'home', 'home'), ('Back', 'Back to previous …"
      ]
     },
     "metadata": {},
     "output_type": "display_data"
    },
    {
     "name": "stdout",
     "output_type": "stream",
     "text": [
      "Cas : diffusion, euler, weno, dx = 0.1, dt = 0.0005 dE*/dt* = -0.000000\n",
      "0.0004999999999999999\n"
     ]
    },
    {
     "data": {
      "application/vnd.jupyter.widget-view+json": {
       "model_id": "b6fd191589064e858a20f9279c4ec689",
       "version_major": 2,
       "version_minor": 0
      },
      "text/plain": [
       "Canvas(toolbar=Toolbar(toolitems=[('Home', 'Reset original view', 'home', 'home'), ('Back', 'Back to previous …"
      ]
     },
     "metadata": {},
     "output_type": "display_data"
    },
    {
     "name": "stdout",
     "output_type": "stream",
     "text": [
      "Forme conservative boniou, Cas : diffusion, euler, weno, dx = 0.1, dt = 0.0005 dE*/dt* = 0.000000\n"
     ]
    }
   ],
   "source": [
    "fig1,ax1 = plt.subplots(1)\n",
    "ax1.set_title('Énergie en fonction du temps')\n",
    "fig2, ax2 = plt.subplots(1)\n",
    "ax2.set_title('Énergie adimensionnée en fonction du temps adim')\n",
    "for form in Formulation:\n",
    "    x, T = get_T_creneau(dx=dx, Delta=Delta, markers=markers)\n",
    "    T = T + 1.\n",
    "    prob = form(Delta, dx, lda_1, lda_2, rho_cp_1, rho_cp_2, markers, T, v, dt, cfl, fo,\n",
    "                diff=1., schema=schema, time_scheme='euler')\n",
    "    E0 = prob.compute_energy()\n",
    "    t, e = prob.timestep(n=5000, number_of_plots=5, debug=False, plotter=Plotter('decale'))\n",
    "    l = ax1.plot(t, e, label=prob.name)\n",
    "    ax1.legend()\n",
    "    n = len(e)\n",
    "    i0 = int(n/5)\n",
    "    ax2.plot(t/prob.dt, e / E0, label=prob.name)\n",
    "    dedt_adim = (e[-1] - e[i0]) / (t[-1] - t[i0]) * prob.dt / E0  # on a mult\n",
    "    # par Dt / rho_cp_l T_l V\n",
    "    print(prob.name, 'dE*/dt* = %f' % dedt_adim)\n",
    "le = fig2.legend()"
   ]
  }
 ],
 "metadata": {
  "hide_input": false,
  "kernelspec": {
   "display_name": "venv",
   "language": "python",
   "name": "venv"
  },
  "language_info": {
   "codemirror_mode": {
    "name": "ipython",
    "version": 3
   },
   "file_extension": ".py",
   "mimetype": "text/x-python",
   "name": "python",
   "nbconvert_exporter": "python",
   "pygments_lexer": "ipython3",
   "version": "3.7.3"
  },
  "toc": {
   "base_numbering": 1,
   "nav_menu": {},
   "number_sections": true,
   "sideBar": true,
   "skip_h1_title": false,
   "title_cell": "Table of Contents",
   "title_sidebar": "Contents",
   "toc_cell": false,
   "toc_position": {},
   "toc_section_display": true,
   "toc_window_display": false
  },
  "toc-autonumbering": true,
  "toc-showcode": false,
  "toc-showmarkdowntxt": false,
  "widgets": {
   "application/vnd.jupyter.widget-state+json": {
    "state": {},
    "version_major": 2,
    "version_minor": 0
   }
  }
 },
 "nbformat": 4,
 "nbformat_minor": 5
}
