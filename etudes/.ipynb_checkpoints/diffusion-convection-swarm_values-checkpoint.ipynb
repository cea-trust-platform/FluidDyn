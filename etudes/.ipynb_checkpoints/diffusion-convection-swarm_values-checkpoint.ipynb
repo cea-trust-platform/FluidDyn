{
 "cells": [
  {
   "cell_type": "markdown",
   "id": "ff85bb10",
   "metadata": {
    "tags": []
   },
   "source": [
    "# Étude de l'erreur due à la diffusion et à la convection dans le cas du SWARM"
   ]
  },
  {
   "cell_type": "code",
   "execution_count": 2,
   "id": "e49fd762-a10b-480b-a7f0-42f77b843c13",
   "metadata": {},
   "outputs": [],
   "source": [
    "import sys\n",
    "\n",
    "sys.path = ['/home/as259691/PycharmProjects/FluidDyn1D'] + sys.path"
   ]
  },
  {
   "cell_type": "code",
   "execution_count": 3,
   "id": "2ffdef2c-8113-431a-83f2-31a80cc46285",
   "metadata": {},
   "outputs": [],
   "source": [
    "from src.main import *\n",
    "from src.plot_fields import *\n",
    "\n",
    "%matplotlib widget"
   ]
  },
  {
   "cell_type": "markdown",
   "id": "de8be792",
   "metadata": {},
   "source": [
    "## Paramètres de la simulation\n",
    "\n",
    "Ici on va réaliser une simulation sans diffusion pour différentes écritures de notre équation thermique.\n",
    "\n",
    "La résolution se fait à chaque fois en WENO avec Euler explicite en temps."
   ]
  },
  {
   "cell_type": "code",
   "execution_count": 5,
   "id": "5651e4e6-e709-403e-ae3c-f712bd64fe1d",
   "metadata": {},
   "outputs": [],
   "source": [
    "Delta = 0.02\n",
    "lda_1 = 5.5*10**-2\n",
    "lda_2 = 15.5\n",
    "rho_cp_1 = 70278.\n",
    "rho_cp_2 = 702780.\n",
    "d = 6./100*Delta/2.\n",
    "markers = np.array([Delta/2. -d, Delta/2. + d])\n",
    "alpha = (markers[1] - markers[0])/Delta\n",
    "v = 0.2\n",
    "dt = 1.\n",
    "fo = 0.5\n",
    "\n",
    "t_fin = 1.\n",
    "dx = 3.9*10**-5\n",
    "cfl = 0.5\n",
    "schema = 'weno'\n",
    "Formulation = [Problem, ProblemConserv2]"
   ]
  },
  {
   "cell_type": "markdown",
   "id": "e9187a5c-37d3-4578-9f5b-6acee7aaa802",
   "metadata": {},
   "source": [
    "## Étude selon la formulation de l'équation\n",
    "\n",
    "En fait s'il n'y a pas de convection il n'y a pas de différence entre les différentes formes, à l'exception de la moyenne utilisée pour $\\frac{1}{\\rho C_p}$"
   ]
  },
  {
   "cell_type": "markdown",
   "id": "0df0f773",
   "metadata": {},
   "source": [
    "### RK4"
   ]
  },
  {
   "cell_type": "code",
   "execution_count": 9,
   "id": "994cb9d1",
   "metadata": {},
   "outputs": [
    {
     "data": {
      "application/vnd.jupyter.widget-view+json": {
       "model_id": "4c2dc9db64c94a74be931938620a8825",
       "version_major": 2,
       "version_minor": 0
      },
      "text/plain": [
       "Canvas(toolbar=Toolbar(toolitems=[('Home', 'Reset original view', 'home', 'home'), ('Back', 'Back to previous …"
      ]
     },
     "metadata": {},
     "output_type": "display_data"
    },
    {
     "data": {
      "application/vnd.jupyter.widget-view+json": {
       "model_id": "a506808685fc478fb583727ad9f7cee5",
       "version_major": 2,
       "version_minor": 0
      },
      "text/plain": [
       "Canvas(toolbar=Toolbar(toolitems=[('Home', 'Reset original view', 'home', 'home'), ('Back', 'Back to previous …"
      ]
     },
     "metadata": {},
     "output_type": "display_data"
    },
    {
     "name": "stdout",
     "output_type": "stream",
     "text": [
      "3.4592383648166576e-06\n"
     ]
    },
    {
     "data": {
      "application/vnd.jupyter.widget-view+json": {
       "model_id": "3d1db6f4a44645dc9b7b909c416be502",
       "version_major": 2,
       "version_minor": 0
      },
      "text/plain": [
       "Canvas(toolbar=Toolbar(toolitems=[('Home', 'Reset original view', 'home', 'home'), ('Back', 'Back to previous …"
      ]
     },
     "metadata": {},
     "output_type": "display_data"
    },
    {
     "name": "stdout",
     "output_type": "stream",
     "text": [
      "Cas : mixte, rk4, weno, dx = 3.90626e-05, dt = 3.45924e-06, cfl = 0.0177112 dE*/dt* = -0.000000\n",
      "3.4592383648166576e-06\n"
     ]
    },
    {
     "data": {
      "application/vnd.jupyter.widget-view+json": {
       "model_id": "7fb5a6f01ced4b91b161e2ab840e6b1c",
       "version_major": 2,
       "version_minor": 0
      },
      "text/plain": [
       "Canvas(toolbar=Toolbar(toolitems=[('Home', 'Reset original view', 'home', 'home'), ('Back', 'Back to previous …"
      ]
     },
     "metadata": {},
     "output_type": "display_data"
    },
    {
     "name": "stdout",
     "output_type": "stream",
     "text": [
      "Forme conservative boniou, Cas : mixte, rk4, weno, dx = 3.90626e-05, dt = 3.45924e-06, cfl = 0.0177112 dE*/dt* = 0.000000\n"
     ]
    }
   ],
   "source": [
    "fig1,ax1 = plt.subplots(1)\n",
    "ax1.set_title('Énergie en fonction du temps')\n",
    "fig2, ax2 = plt.subplots(1)\n",
    "ax2.set_title('Énergie adimensionnée en fonction du temps adim')\n",
    "for form in Formulation:\n",
    "    x, T = get_T_creneau(dx=dx, Delta=Delta, markers=markers)\n",
    "    T = T + 1.\n",
    "    prob = form(Delta, dx, lda_1, lda_2, rho_cp_1, rho_cp_2, markers, T, v, dt, cfl, fo,\n",
    "                diff=1., schema=schema, time_scheme='rk4')\n",
    "    E0 = prob.compute_energy()\n",
    "    t, e = prob.timestep(n=100000, number_of_plots=5, debug=False, plotter=Plotter('decale'))\n",
    "    l = ax1.plot(t, e, label=prob.name)\n",
    "    ax1.legend()\n",
    "    n = len(e)\n",
    "    i0 = int(n/5)\n",
    "    ax2.plot(t/prob.dt, e / E0, label=prob.name)\n",
    "    dedt_adim = (e[-1] - e[i0]) / (t[-1] - t[i0]) * prob.dt / E0  # on a mult\n",
    "    # par Dt / rho_cp_l T_l V\n",
    "    print(prob.name, 'dE*/dt* = %f' % dedt_adim)\n",
    "le = fig2.legend()"
   ]
  },
  {
   "cell_type": "markdown",
   "id": "f9f71a80",
   "metadata": {},
   "source": [
    "### Euler"
   ]
  },
  {
   "cell_type": "code",
   "execution_count": 8,
   "id": "78c91ab5",
   "metadata": {},
   "outputs": [
    {
     "data": {
      "application/vnd.jupyter.widget-view+json": {
       "model_id": "4f525c519f1f4423b874af8e917570b4",
       "version_major": 2,
       "version_minor": 0
      },
      "text/plain": [
       "Canvas(toolbar=Toolbar(toolitems=[('Home', 'Reset original view', 'home', 'home'), ('Back', 'Back to previous …"
      ]
     },
     "metadata": {},
     "output_type": "display_data"
    },
    {
     "data": {
      "application/vnd.jupyter.widget-view+json": {
       "model_id": "7061c270bf974ef99133a30d9e1a8872",
       "version_major": 2,
       "version_minor": 0
      },
      "text/plain": [
       "Canvas(toolbar=Toolbar(toolitems=[('Home', 'Reset original view', 'home', 'home'), ('Back', 'Back to previous …"
      ]
     },
     "metadata": {},
     "output_type": "display_data"
    },
    {
     "name": "stdout",
     "output_type": "stream",
     "text": [
      "3.4592383648166576e-06\n"
     ]
    },
    {
     "data": {
      "application/vnd.jupyter.widget-view+json": {
       "model_id": "ba302fb90aa945518648185f33a95fe0",
       "version_major": 2,
       "version_minor": 0
      },
      "text/plain": [
       "Canvas(toolbar=Toolbar(toolitems=[('Home', 'Reset original view', 'home', 'home'), ('Back', 'Back to previous …"
      ]
     },
     "metadata": {},
     "output_type": "display_data"
    },
    {
     "name": "stdout",
     "output_type": "stream",
     "text": [
      "Cas : mixte, euler, weno, dx = 3.90626e-05, dt = 3.45924e-06, cfl = 0.0177112 dE*/dt* = -0.000000\n",
      "3.4592383648166576e-06\n"
     ]
    },
    {
     "data": {
      "application/vnd.jupyter.widget-view+json": {
       "model_id": "f29a174b477f4f33b66355a38e61f23c",
       "version_major": 2,
       "version_minor": 0
      },
      "text/plain": [
       "Canvas(toolbar=Toolbar(toolitems=[('Home', 'Reset original view', 'home', 'home'), ('Back', 'Back to previous …"
      ]
     },
     "metadata": {},
     "output_type": "display_data"
    },
    {
     "name": "stdout",
     "output_type": "stream",
     "text": [
      "Forme conservative boniou, Cas : mixte, euler, weno, dx = 3.90626e-05, dt = 3.45924e-06, cfl = 0.0177112 dE*/dt* = 0.000000\n"
     ]
    }
   ],
   "source": [
    "fig1,ax1 = plt.subplots(1)\n",
    "ax1.set_title('Énergie en fonction du temps')\n",
    "fig2, ax2 = plt.subplots(1)\n",
    "ax2.set_title('Énergie adimensionnée en fonction du temps adim')\n",
    "for form in Formulation:\n",
    "    x, T = get_T_creneau(dx=dx, Delta=Delta, markers=markers)\n",
    "    T = T + 1.\n",
    "    prob = form(Delta, dx, lda_1, lda_2, rho_cp_1, rho_cp_2, markers, T, v, dt, cfl, fo,\n",
    "                diff=1., schema=schema, time_scheme='euler')\n",
    "    E0 = prob.compute_energy()\n",
    "    t, e = prob.timestep(n=100000, number_of_plots=5, debug=False, plotter=Plotter('decale'))\n",
    "    l = ax1.plot(t, e, label=prob.name)\n",
    "    ax1.legend()\n",
    "    n = len(e)\n",
    "    i0 = int(n/5)\n",
    "    ax2.plot(t/prob.dt, e / E0, label=prob.name)\n",
    "    dedt_adim = (e[-1] - e[i0]) / (t[-1] - t[i0]) * prob.dt / E0  # on a mult\n",
    "    # par Dt / rho_cp_l T_l V\n",
    "    print(prob.name, 'dE*/dt* = %f' % dedt_adim)\n",
    "le = fig2.legend()"
   ]
  }
 ],
 "metadata": {
  "hide_input": false,
  "kernelspec": {
   "display_name": "venv",
   "language": "python",
   "name": "venv"
  },
  "language_info": {
   "codemirror_mode": {
    "name": "ipython",
    "version": 3
   },
   "file_extension": ".py",
   "mimetype": "text/x-python",
   "name": "python",
   "nbconvert_exporter": "python",
   "pygments_lexer": "ipython3",
   "version": "3.7.3"
  },
  "toc": {
   "base_numbering": 1,
   "nav_menu": {},
   "number_sections": true,
   "sideBar": true,
   "skip_h1_title": false,
   "title_cell": "Table of Contents",
   "title_sidebar": "Contents",
   "toc_cell": false,
   "toc_position": {},
   "toc_section_display": true,
   "toc_window_display": false
  },
  "toc-autonumbering": true,
  "toc-showcode": false,
  "toc-showmarkdowntxt": false,
  "widgets": {
   "application/vnd.jupyter.widget-state+json": {
    "state": {},
    "version_major": 2,
    "version_minor": 0
   }
  }
 },
 "nbformat": 4,
 "nbformat_minor": 5
}
